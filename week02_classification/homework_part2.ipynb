{
 "cells": [
  {
   "cell_type": "markdown",
   "metadata": {},
   "source": [
    "### Salary prediction, episode II: make it actually work (4 points)\n",
    "\n",
    "Your main task is to use some of the tricks you've learned on the network and analyze if you can improve __validation MAE__. Try __at least 3 options__ from the list below for a passing grade. Write a short report about what you have tried. More ideas = more bonus points. \n",
    "\n",
    "__Please be serious:__ \" plot learning curves in MAE/epoch, compare models based on optimal performance, test one change at a time. You know the drill :)\n",
    "\n",
    "You can use either __pytorch__ or __tensorflow__ or any other framework (e.g. pure __keras__). Feel free to adapt the seminar code for your needs. For tensorflow version, consider `seminar_tf2.ipynb` as a starting point.\n"
   ]
  },
  {
   "cell_type": "code",
   "execution_count": 1,
   "metadata": {},
   "outputs": [
    {
     "name": "stdout",
     "output_type": "stream",
     "text": [
      "Train size =  195814\n",
      "Validation size =  48954\n"
     ]
    }
   ],
   "source": [
    "# Reuse of data handling routines\n",
    "\n",
    "import numpy as np\n",
    "import pandas as pd\n",
    "import matplotlib.pyplot as plt\n",
    "%matplotlib inline\n",
    "import nltk\n",
    "from collections import Counter\n",
    "from sklearn.feature_extraction import DictVectorizer\n",
    "from sklearn.model_selection import train_test_split\n",
    "\n",
    "data = pd.read_csv(\"week02_classification/Train_rev1.csv\", index_col=None)\n",
    "data['Log1pSalary'] = np.log1p(data['SalaryNormalized']).astype('float32')\n",
    "text_columns = [\"Title\", \"FullDescription\"]\n",
    "categorical_columns = [\"Category\", \"Company\", \"LocationNormalized\", \"ContractType\", \"ContractTime\"]\n",
    "TARGET_COLUMN = \"Log1pSalary\"\n",
    "data[categorical_columns] = data[categorical_columns].fillna('NaN') # cast missing values to string \"NaN\"\n",
    "tokenizer = nltk.tokenize.WordPunctTokenizer()\n",
    "\n",
    "def space_div(text):\n",
    "    return ' '.join(tokenizer.tokenize(str(text).lower()))\n",
    "\n",
    "data[\"Title\"] = data[\"Title\"].apply(space_div)\n",
    "data[\"FullDescription\"] = data[\"FullDescription\"].apply(space_div)\n",
    "token_counts = Counter()\n",
    "\n",
    "for i in range(len(data)):\n",
    "    token_counts.update(data[\"Title\"][i].split(' '))\n",
    "    token_counts.update(data[\"FullDescription\"][i].split(' '))\n",
    "\n",
    "tokens = [key for key, value in token_counts.items() if value >= 10]\n",
    "UNK, PAD = \"UNK\", \"PAD\"\n",
    "tokens = [UNK, PAD] + tokens\n",
    "\n",
    "token_to_id = {tokens[i]: i for i in range(len(tokens))}\n",
    "UNK_IX, PAD_IX = map(token_to_id.get, [UNK, PAD])\n",
    "\n",
    "def as_matrix(sequences, max_len=None):\n",
    "    \"\"\" Convert a list of tokens into a matrix with padding \"\"\"\n",
    "    if isinstance(sequences[0], str):\n",
    "        sequences = list(map(str.split, sequences))\n",
    "        \n",
    "    max_len = min(max(map(len, sequences)), max_len or float('inf'))\n",
    "    \n",
    "    matrix = np.full((len(sequences), max_len), np.int32(PAD_IX))\n",
    "    for i, seq in enumerate(sequences):\n",
    "        row_ix = [token_to_id.get(word, UNK_IX) for word in seq[:max_len]]\n",
    "        matrix[i, :len(row_ix)] = row_ix\n",
    "    \n",
    "    return matrix\n",
    "\n",
    "top_companies, top_counts = zip(*Counter(data['Company']).most_common(1000))\n",
    "recognized_companies = set(top_companies)\n",
    "data[\"Company\"] = data[\"Company\"].apply(lambda comp: comp if comp in recognized_companies else \"Other\")\n",
    "\n",
    "categorical_vectorizer = DictVectorizer(dtype=np.float32, sparse=False)\n",
    "categorical_vectorizer.fit(data[categorical_columns].apply(dict, axis=1))\n",
    "\n",
    "data_train, data_val = train_test_split(data, test_size=0.2, random_state=42)\n",
    "data_train.index = range(len(data_train))\n",
    "data_val.index = range(len(data_val))\n",
    "\n",
    "print(\"Train size = \", len(data_train))\n",
    "print(\"Validation size = \", len(data_val))\n"
   ]
  },
  {
   "cell_type": "code",
   "execution_count": 2,
   "metadata": {},
   "outputs": [],
   "source": [
    "import gensim.downloader as api\n",
    "embeddings = api.load('glove-wiki-gigaword-300');"
   ]
  },
  {
   "cell_type": "code",
   "execution_count": 3,
   "metadata": {},
   "outputs": [],
   "source": [
    "import torch\n",
    "import torch.nn as nn\n",
    "import torch.nn.functional as F\n",
    "\n",
    "\n",
    "device = 'cuda' if torch.cuda.is_available() else 'cpu'\n",
    "\n",
    "\n",
    "def to_tensors(batch, device):\n",
    "    batch_tensors = dict()\n",
    "    for key, arr in batch.items():\n",
    "        if key in [\"FullDescription\", \"Title\"]:\n",
    "            batch_tensors[key] = torch.tensor(arr, device=device, dtype=torch.int64)\n",
    "        else:\n",
    "            batch_tensors[key] = torch.tensor(arr, device=device)\n",
    "    return batch_tensors\n",
    "\n",
    "\n",
    "def make_batch(data, max_len=None, word_dropout=0, device=device):\n",
    "    \"\"\"\n",
    "    Creates a keras-friendly dict from the batch data.\n",
    "    :param word_dropout: replaces token index with UNK_IX with this probability\n",
    "    :returns: a dict with {'title' : int64[batch, title_max_len]\n",
    "    \"\"\"\n",
    "    batch = {}\n",
    "    batch[\"Title\"] = as_matrix(data[\"Title\"].values, max_len)\n",
    "    batch[\"FullDescription\"] = as_matrix(data[\"FullDescription\"].values, max_len)\n",
    "    batch['Categorical'] = categorical_vectorizer.transform(data[categorical_columns].apply(dict, axis=1))\n",
    "    \n",
    "    if word_dropout != 0:\n",
    "        batch[\"FullDescription\"] = apply_word_dropout(batch[\"FullDescription\"], 1. - word_dropout)\n",
    "    \n",
    "    if TARGET_COLUMN in data.columns:\n",
    "        batch[TARGET_COLUMN] = data[TARGET_COLUMN].values\n",
    "    \n",
    "    return to_tensors(batch, device)\n",
    "\n",
    "def apply_word_dropout(matrix, keep_prop, replace_with=UNK_IX, pad_ix=PAD_IX,):\n",
    "    dropout_mask = np.random.choice(2, np.shape(matrix), p=[keep_prop, 1 - keep_prop])\n",
    "    dropout_mask &= matrix != pad_ix\n",
    "    return np.choose(dropout_mask, [matrix, np.full_like(matrix, replace_with)])"
   ]
  },
  {
   "cell_type": "markdown",
   "metadata": {},
   "source": [
    "#### 1. (A & C) Applying CNN tricks & using pretrained word2vec model"
   ]
  },
  {
   "cell_type": "code",
   "execution_count": 4,
   "metadata": {},
   "outputs": [
    {
     "data": {
      "text/plain": [
       "{'Title': tensor([[  320,    89,  1657,     1,     1,     1,     1],\n",
       "         [ 5130,   130,    25,   173,    14,   562, 21820],\n",
       "         [ 2246,    42,  1433,   109,  9312,  9313,   116]], device='cuda:0'),\n",
       " 'FullDescription': tensor([[  320,    89,  1657,  2890,    44,   320,    89,  1657,    12,  2890],\n",
       "         [ 5130,   130,    25,   173,    14,   562, 21820,  1334,   129,     8],\n",
       "         [   49,    66,   444,    11,    12,    37,   576,    44,    42,  1433]],\n",
       "        device='cuda:0'),\n",
       " 'Categorical': tensor([[0., 0., 0.,  ..., 0., 0., 0.],\n",
       "         [0., 0., 0.,  ..., 0., 0., 0.],\n",
       "         [0., 0., 0.,  ..., 0., 0., 0.]], device='cuda:0'),\n",
       " 'Log1pSalary': tensor([ 9.7115, 10.4631, 10.7144], device='cuda:0')}"
      ]
     },
     "execution_count": 4,
     "metadata": {},
     "output_type": "execute_result"
    }
   ],
   "source": [
    "example_batch = make_batch(data_train[:3], max_len=10)\n",
    "example_batch"
   ]
  },
  {
   "cell_type": "code",
   "execution_count": 6,
   "metadata": {},
   "outputs": [
    {
     "name": "stdout",
     "output_type": "stream",
     "text": [
      "Initial title input size: torch.Size([3, 7, 128])\n",
      "After title conv1: torch.Size([3, 16, 5])\n",
      "After pooling: torch.Size([3, 16])\n",
      "After title conv2: torch.Size([3, 16, 6])\n",
      "After pooling: torch.Size([3, 16])\n",
      "Initial descr input size: torch.Size([3, 10, 128])\n",
      "After descr conv1: torch.Size([3, 32, 10])\n",
      "After descr conv1_2: torch.Size([3, 16, 8])\n",
      "After pooling torch.Size([3, 16])\n",
      "After descr conv2: torch.Size([3, 32, 11])\n",
      "After descr conv2_2: torch.Size([3, 16, 10])\n",
      "After pooling torch.Size([3, 16])\n",
      "After descr conv3: torch.Size([3, 32, 11])\n",
      "After descr conv3_2: torch.Size([3, 16, 8])\n",
      "After pooling torch.Size([3, 16])\n",
      "torch.Size([3, 16])\n",
      "torch.Size([3, 96])\n",
      "torch.Size([3, 1])\n",
      "torch.Size([3])\n"
     ]
    }
   ],
   "source": [
    "# validating dimensions\n",
    "\n",
    "emb = nn.Embedding(num_embeddings=len(tokens), embedding_dim=128).to('cuda')\n",
    "x = emb(example_batch['Title'])\n",
    "print('Initial title input size:', x.shape)\n",
    "x = x.transpose(2, 1)\n",
    "text_conv_title_1 = nn.Conv1d(in_channels=128, out_channels=16, kernel_size=3).to('cuda')\n",
    "x_1 = text_conv_title_1(x)\n",
    "print('After title conv1:', x_1.shape)\n",
    "x_1 = torch.amax(x_1, dim=2)\n",
    "print('After pooling:', x_1.shape)\n",
    "\n",
    "text_conv_title_2 = nn.Conv1d(in_channels=128, out_channels=16, kernel_size=2).to('cuda')\n",
    "\n",
    "x_2 = text_conv_title_2(x)\n",
    "print('After title conv2:', x_2.shape)\n",
    "x_2 = torch.amax(x_2, dim=2)\n",
    "print('After pooling:', x_2.shape)\n",
    "\n",
    "\n",
    "text_conv_descr_1 = nn.Conv1d(in_channels=128, out_channels=32, kernel_size=3, padding=1).to('cuda')\n",
    "text_conv_descr_1_2 = nn.Conv1d(in_channels=32, out_channels=16, kernel_size=3).to('cuda')\n",
    "y = emb(example_batch['FullDescription'])\n",
    "print('Initial descr input size:', y.shape)\n",
    "y = y.transpose(2, 1)\n",
    "y_1 = F.leaky_relu(text_conv_descr_1(y))\n",
    "print('After descr conv1:', y_1.shape)\n",
    "y_1 = text_conv_descr_1_2(y_1)\n",
    "print('After descr conv1_2:', y_1.shape)\n",
    "y_1 = torch.amax(y_1, dim=2)\n",
    "print('After pooling', y_1.shape)\n",
    "\n",
    "text_conv_descr_2 = nn.Conv1d(in_channels=128, out_channels=32, kernel_size=2, padding=1).to('cuda')\n",
    "text_conv_descr_2_2 = nn.Conv1d(in_channels=32, out_channels=16, kernel_size=2).to('cuda')\n",
    "\n",
    "text_conv_descr_3 = nn.Conv1d(in_channels=128, out_channels=32, kernel_size=4, padding=2).to('cuda')\n",
    "text_conv_descr_3_2 = nn.Conv1d(in_channels=32, out_channels=16, kernel_size=4).to('cuda')\n",
    "\n",
    "\n",
    "y_2 = F.leaky_relu(text_conv_descr_2(y))\n",
    "print('After descr conv2:', y_2.shape)\n",
    "y_2 = text_conv_descr_2_2(y_2)\n",
    "print('After descr conv2_2:' , y_2.shape)\n",
    "y_2 = torch.amax(y_2, dim=2)\n",
    "print('After pooling', y_2.shape)\n",
    "\n",
    "y_3 = F.leaky_relu(text_conv_descr_3(y))\n",
    "print('After descr conv3:', y_3.shape)\n",
    "y_3 = text_conv_descr_3_2(y_3)\n",
    "print('After descr conv3_2:', y_3.shape)\n",
    "y_3 = torch.amax(y_3, dim=2)\n",
    "print('After pooling', y_3.shape)\n",
    "\n",
    "\n",
    "fc_categorical = nn.Linear(len(categorical_vectorizer.vocabulary_), 16).to('cuda')\n",
    "z = fc_categorical(example_batch['Categorical'])\n",
    "print(z.shape)\n",
    "\n",
    "u = torch.cat([x_1, y_1, x_2, y_2, y_3, z], dim=1)\n",
    "print(u.shape)\n",
    "\n",
    "final_fc_input_dim = 16 * 6\n",
    "fc = nn.Linear(final_fc_input_dim, 1).to('cuda')\n",
    "\n",
    "u = fc(u)\n",
    "print(u.shape)\n",
    "\n",
    "u = u.view(-1)\n",
    "print(u.shape)\n"
   ]
  },
  {
   "cell_type": "markdown",
   "metadata": {},
   "source": [
    "Architectural Modifications:\n",
    "1. Increased embedding dimension to enhance feature representation.\n",
    "2. Introduced additional convolutional layers with varying kernel sizes for both the title and full description fields.\n",
    "3. Added a novel convolution-over-convolution layer to the convolutional stack for the full description field.\n",
    "4. Added batch normalization layers after each convolution layer."
   ]
  },
  {
   "cell_type": "code",
   "execution_count": 5,
   "metadata": {},
   "outputs": [],
   "source": [
    "class SalaryPredictor(nn.Module):\n",
    "    def __init__(self, n_tokens=len(tokens), n_cat_features=len(categorical_vectorizer.vocabulary_), embedding_dim=300):\n",
    "        super().__init__()\n",
    "        # text convolution kernels\n",
    "        self.kernel_size_1 = 3\n",
    "        self.kernel_size_2 = 2\n",
    "        self.kernel_size_3 = 4\n",
    "        self.embedding_dim = embedding_dim\n",
    "        self.conv_out_dim_title = 8\n",
    "        self.conv_out_dim_descr_1 = 32\n",
    "        self.conv_out_dim_descr_2 = 8\n",
    "        self.emb = nn.Embedding(num_embeddings=n_tokens, embedding_dim=self.embedding_dim)\n",
    "        self.text_conv_title_1 = nn.Conv1d(in_channels=self.embedding_dim, out_channels=self.conv_out_dim_title, kernel_size=self.kernel_size_1)\n",
    "        self.text_conv_title_2 = nn.Conv1d(in_channels=self.embedding_dim, out_channels=self.conv_out_dim_title, kernel_size=self.kernel_size_2)\n",
    "\n",
    "        self.text_conv_descr_1_1 = nn.Conv1d(in_channels=self.embedding_dim, out_channels=self.conv_out_dim_descr_1, \n",
    "                                            kernel_size=self.kernel_size_1, padding=self.kernel_size_1 // 2)\n",
    "        self.text_conv_descr_2_1 = nn.Conv1d(in_channels=self.embedding_dim, out_channels=self.conv_out_dim_descr_1, \n",
    "                                            kernel_size=self.kernel_size_2, padding=self.kernel_size_2 // 2)\n",
    "        self.text_conv_descr_3_1 = nn.Conv1d(in_channels=self.embedding_dim, out_channels=self.conv_out_dim_descr_1,\n",
    "                                            kernel_size=self.kernel_size_3, padding=self.kernel_size_3 // 2)\n",
    "\n",
    "        self.text_conv_descr_1_2 = nn.Conv1d(in_channels=self.conv_out_dim_descr_1, out_channels=self.conv_out_dim_descr_2, kernel_size=self.kernel_size_1)\n",
    "        self.text_conv_descr_2_2 = nn.Conv1d(in_channels=self.conv_out_dim_descr_1, out_channels=self.conv_out_dim_descr_2, kernel_size=self.kernel_size_2)\n",
    "        self.text_conv_descr_3_2 = nn.Conv1d(in_channels=self.conv_out_dim_descr_1, out_channels=self.conv_out_dim_descr_2, kernel_size=self.kernel_size_3)\n",
    "\n",
    "        self.bn_title_1 = nn.BatchNorm1d(self.conv_out_dim_title)\n",
    "        self.bn_title_2 = nn.BatchNorm1d(self.conv_out_dim_title)\n",
    "\n",
    "        self.bn_descr_1_1 = nn.BatchNorm1d(self.conv_out_dim_descr_1)\n",
    "        self.bn_descr_2_1 = nn.BatchNorm1d(self.conv_out_dim_descr_1)\n",
    "        self.bn_descr_3_1 = nn.BatchNorm1d(self.conv_out_dim_descr_1)\n",
    "\n",
    "        self.bn_descr_1_2 = nn.BatchNorm1d(self.conv_out_dim_descr_2)\n",
    "        self.bn_descr_2_2 = nn.BatchNorm1d(self.conv_out_dim_descr_2)\n",
    "        self.bn_descr_3_2 = nn.BatchNorm1d(self.conv_out_dim_descr_2)\n",
    "        \n",
    "        # categorical kernels\n",
    "        self.categorical_out_dim = 8\n",
    "        self.fc_categorical = nn.Linear(n_cat_features, self.categorical_out_dim)\n",
    "\n",
    "        # final linear layer\n",
    "        self.final_fc_input_dim = 2 * self.conv_out_dim_title \\\n",
    "                + 3 * self.conv_out_dim_descr_2 \\\n",
    "                + self.categorical_out_dim\n",
    "        self.fc = nn.Linear(self.final_fc_input_dim, 1)\n",
    "        \n",
    "    def forward(self, batch):\n",
    "        x = self.emb(batch['Title'])\n",
    "        x = x.transpose(2, 1)\n",
    "        y = self.emb(batch['FullDescription'])\n",
    "        y = y.transpose(2, 1)\n",
    "\n",
    "        x_1 = torch.amax(self.bn_title_1(self.text_conv_title_1(x)), dim=2)\n",
    "        x_2 = torch.amax(self.bn_title_2(self.text_conv_title_2(x)), dim=2)\n",
    "\n",
    "        y_1 = F.leaky_relu(self.bn_descr_1_1(self.text_conv_descr_1_1(y)))\n",
    "        y_2 = F.leaky_relu(self.bn_descr_2_1(self.text_conv_descr_2_1(y)))\n",
    "        y_3 = F.leaky_relu(self.bn_descr_3_1(self.text_conv_descr_3_1(y)))\n",
    "\n",
    "        y_1 = torch.amax(self.bn_descr_1_2(self.text_conv_descr_1_2(y_1)), dim=2)\n",
    "        y_2 = torch.amax(self.bn_descr_2_2(self.text_conv_descr_2_2(y_2)), dim=2)\n",
    "        y_3 = torch.amax(self.bn_descr_3_2(self.text_conv_descr_3_2(y_3)), dim=2)\n",
    "\n",
    "        z = F.leaky_relu(self.fc_categorical(batch['Categorical']))\n",
    "        u = torch.cat([x_1, x_2, y_1, y_2, y_3, z], dim=1)\n",
    "        u = self.fc(u).view(-1)\n",
    "        return u"
   ]
  },
  {
   "cell_type": "code",
   "execution_count": 5,
   "metadata": {},
   "outputs": [],
   "source": [
    "def iterate_minibatches(data, batch_size=256, shuffle=True, cycle=False, device=device, **kwargs):\n",
    "    \"\"\" iterates minibatches of data in random order \"\"\"\n",
    "    while True:\n",
    "        indices = np.arange(len(data))\n",
    "        if shuffle:\n",
    "            indices = np.random.permutation(indices)\n",
    "\n",
    "        for start in range(0, len(indices), batch_size):\n",
    "            batch = make_batch(data.iloc[indices[start : start + batch_size]], device=device, **kwargs)\n",
    "            yield batch\n",
    "        \n",
    "        if not cycle: break"
   ]
  },
  {
   "cell_type": "code",
   "execution_count": 6,
   "metadata": {},
   "outputs": [],
   "source": [
    "from tqdm.auto import tqdm\n",
    "\n",
    "BATCH_SIZE = 32\n",
    "EPOCHS = 25"
   ]
  },
  {
   "cell_type": "code",
   "execution_count": 7,
   "metadata": {},
   "outputs": [],
   "source": [
    "def print_metrics(model, data, batch_size=BATCH_SIZE, name=\"\", device=torch.device('cpu'), **kw):\n",
    "    squared_error = abs_error = num_samples = abs_error_in_dollars = 0.0\n",
    "    model.eval()\n",
    "    with torch.no_grad():\n",
    "        for batch in iterate_minibatches(data, batch_size=batch_size, shuffle=False, device=device, **kw):\n",
    "            batch_pred = model(batch)\n",
    "            squared_error += torch.sum(torch.square(batch_pred - batch[TARGET_COLUMN]))\n",
    "            abs_error += torch.sum(torch.abs(batch_pred - batch[TARGET_COLUMN]))\n",
    "            abs_error_in_dollars += torch.sum(torch.abs(torch.exp(batch_pred) - torch.exp(batch[TARGET_COLUMN])))\n",
    "            num_samples += len(batch_pred)\n",
    "    mse = squared_error.detach().cpu().numpy() / num_samples\n",
    "    mae = abs_error.detach().cpu().numpy() / num_samples\n",
    "    mae_in_dollars = abs_error_in_dollars.detach().cpu().numpy() / num_samples\n",
    "    print(\"%s results:\" % (name or \"\"))\n",
    "    print(\"Mean square error: %.5f\" % mse)\n",
    "    print(\"Mean absolute error: %.5f\" % mae)\n",
    "    print(\"Mean absolute error in dollars: %.5f\" % mae_in_dollars)\n",
    "    return mse, mae\n"
   ]
  },
  {
   "cell_type": "markdown",
   "metadata": {},
   "source": [
    "Let us set pretrained weights for the embedding layer."
   ]
  },
  {
   "cell_type": "code",
   "execution_count": 12,
   "metadata": {},
   "outputs": [
    {
     "name": "stdout",
     "output_type": "stream",
     "text": [
      "7935 words out of 34158 are missing in the word2vec model.\n"
     ]
    }
   ],
   "source": [
    "model = SalaryPredictor()\n",
    "embedding_initialization = model.emb.weight.detach().numpy()\n",
    "pretrained_weights_embedding = torch.Tensor(np.array([\n",
    "    embeddings[tokens[i]] if tokens[i] in embeddings else embedding_initialization[i]\n",
    "    for i in range(len(tokens))\n",
    "]))\n",
    "print(np.array([0 if tokens[i] in embeddings else 1 for i in range(len(tokens))]).sum(), 'words out of', len(tokens), 'are missing in the word2vec model.')\n",
    "model.emb.weight.data = pretrained_weights_embedding\n",
    "model = model.to(device)"
   ]
  },
  {
   "cell_type": "code",
   "execution_count": 12,
   "metadata": {},
   "outputs": [
    {
     "name": "stdout",
     "output_type": "stream",
     "text": [
      "epoch: 0\n"
     ]
    },
    {
     "data": {
      "application/vnd.jupyter.widget-view+json": {
       "model_id": "1e425919ba6a482ba7bf121252b0dd0c",
       "version_major": 2,
       "version_minor": 0
      },
      "text/plain": [
       "  0%|          | 0/6119 [00:00<?, ?it/s]"
      ]
     },
     "metadata": {},
     "output_type": "display_data"
    },
    {
     "name": "stdout",
     "output_type": "stream",
     "text": [
      " results:\n",
      "Mean square error: 12.46571\n",
      "Mean absolute error: 3.28146\n",
      "Mean absolute error in dollars: 31791.58230\n",
      "epoch: 1\n"
     ]
    },
    {
     "data": {
      "application/vnd.jupyter.widget-view+json": {
       "model_id": "b4f7c7a63d7e4a988d157c2febdae00a",
       "version_major": 2,
       "version_minor": 0
      },
      "text/plain": [
       "  0%|          | 0/6119 [00:00<?, ?it/s]"
      ]
     },
     "metadata": {},
     "output_type": "display_data"
    },
    {
     "name": "stdout",
     "output_type": "stream",
     "text": [
      " results:\n",
      "Mean square error: 11.20480\n",
      "Mean absolute error: 3.07166\n",
      "Mean absolute error in dollars: 31160.59779\n",
      "epoch: 2\n"
     ]
    },
    {
     "data": {
      "application/vnd.jupyter.widget-view+json": {
       "model_id": "d47a0b2782ed4787b79d5f4149209020",
       "version_major": 2,
       "version_minor": 0
      },
      "text/plain": [
       "  0%|          | 0/6119 [00:00<?, ?it/s]"
      ]
     },
     "metadata": {},
     "output_type": "display_data"
    },
    {
     "name": "stdout",
     "output_type": "stream",
     "text": [
      " results:\n",
      "Mean square error: 9.91846\n",
      "Mean absolute error: 2.87556\n",
      "Mean absolute error in dollars: 30675.04809\n",
      "epoch: 3\n"
     ]
    },
    {
     "data": {
      "application/vnd.jupyter.widget-view+json": {
       "model_id": "2087d43d71fa4e279be25eb3a4e52571",
       "version_major": 2,
       "version_minor": 0
      },
      "text/plain": [
       "  0%|          | 0/6119 [00:00<?, ?it/s]"
      ]
     },
     "metadata": {},
     "output_type": "display_data"
    },
    {
     "name": "stdout",
     "output_type": "stream",
     "text": [
      " results:\n",
      "Mean square error: 9.05937\n",
      "Mean absolute error: 2.73119\n",
      "Mean absolute error in dollars: 30184.39188\n",
      "epoch: 4\n"
     ]
    },
    {
     "data": {
      "application/vnd.jupyter.widget-view+json": {
       "model_id": "be272e48623349099944906c46ea6ee0",
       "version_major": 2,
       "version_minor": 0
      },
      "text/plain": [
       "  0%|          | 0/6119 [00:00<?, ?it/s]"
      ]
     },
     "metadata": {},
     "output_type": "display_data"
    },
    {
     "name": "stdout",
     "output_type": "stream",
     "text": [
      " results:\n",
      "Mean square error: 9.56734\n",
      "Mean absolute error: 2.81528\n",
      "Mean absolute error in dollars: 30464.64583\n",
      "epoch: 5\n"
     ]
    },
    {
     "data": {
      "application/vnd.jupyter.widget-view+json": {
       "model_id": "8db1fdddcf0341ddad3effd2ad533493",
       "version_major": 2,
       "version_minor": 0
      },
      "text/plain": [
       "  0%|          | 0/6119 [00:00<?, ?it/s]"
      ]
     },
     "metadata": {},
     "output_type": "display_data"
    },
    {
     "name": "stdout",
     "output_type": "stream",
     "text": [
      " results:\n",
      "Mean square error: 7.61628\n",
      "Mean absolute error: 2.46056\n",
      "Mean absolute error in dollars: 29060.13645\n",
      "epoch: 6\n"
     ]
    },
    {
     "data": {
      "application/vnd.jupyter.widget-view+json": {
       "model_id": "759cc717ba684ad28c90145af18ab956",
       "version_major": 2,
       "version_minor": 0
      },
      "text/plain": [
       "  0%|          | 0/6119 [00:00<?, ?it/s]"
      ]
     },
     "metadata": {},
     "output_type": "display_data"
    },
    {
     "name": "stdout",
     "output_type": "stream",
     "text": [
      " results:\n",
      "Mean square error: 8.69138\n",
      "Mean absolute error: 2.66482\n",
      "Mean absolute error in dollars: 29925.46864\n",
      "epoch: 7\n"
     ]
    },
    {
     "data": {
      "application/vnd.jupyter.widget-view+json": {
       "model_id": "cfb8a23339184a55af5e9921dc4a9d34",
       "version_major": 2,
       "version_minor": 0
      },
      "text/plain": [
       "  0%|          | 0/6119 [00:00<?, ?it/s]"
      ]
     },
     "metadata": {},
     "output_type": "display_data"
    },
    {
     "name": "stdout",
     "output_type": "stream",
     "text": [
      " results:\n",
      "Mean square error: 8.12885\n",
      "Mean absolute error: 2.56366\n",
      "Mean absolute error in dollars: 29570.73759\n",
      "epoch: 8\n"
     ]
    },
    {
     "data": {
      "application/vnd.jupyter.widget-view+json": {
       "model_id": "7721d6aa8a004d1bbedc65cc5c848846",
       "version_major": 2,
       "version_minor": 0
      },
      "text/plain": [
       "  0%|          | 0/6119 [00:00<?, ?it/s]"
      ]
     },
     "metadata": {},
     "output_type": "display_data"
    },
    {
     "name": "stdout",
     "output_type": "stream",
     "text": [
      " results:\n",
      "Mean square error: 7.52018\n",
      "Mean absolute error: 2.44183\n",
      "Mean absolute error in dollars: 28940.68391\n",
      "epoch: 9\n"
     ]
    },
    {
     "data": {
      "application/vnd.jupyter.widget-view+json": {
       "model_id": "c7173de5b89a495ebb2b32e9a57cee88",
       "version_major": 2,
       "version_minor": 0
      },
      "text/plain": [
       "  0%|          | 0/6119 [00:00<?, ?it/s]"
      ]
     },
     "metadata": {},
     "output_type": "display_data"
    },
    {
     "name": "stdout",
     "output_type": "stream",
     "text": [
      " results:\n",
      "Mean square error: 6.33237\n",
      "Mean absolute error: 2.23062\n",
      "Mean absolute error in dollars: 28160.83147\n",
      "epoch: 10\n"
     ]
    },
    {
     "data": {
      "application/vnd.jupyter.widget-view+json": {
       "model_id": "e128d5e4a37442208c5539dfba061e3c",
       "version_major": 2,
       "version_minor": 0
      },
      "text/plain": [
       "  0%|          | 0/6119 [00:00<?, ?it/s]"
      ]
     },
     "metadata": {},
     "output_type": "display_data"
    },
    {
     "name": "stdout",
     "output_type": "stream",
     "text": [
      " results:\n",
      "Mean square error: 6.01529\n",
      "Mean absolute error: 2.16508\n",
      "Mean absolute error in dollars: 27819.85897\n",
      "epoch: 11\n"
     ]
    },
    {
     "data": {
      "application/vnd.jupyter.widget-view+json": {
       "model_id": "46068fe59ed640259330d8c031cf0cc1",
       "version_major": 2,
       "version_minor": 0
      },
      "text/plain": [
       "  0%|          | 0/6119 [00:00<?, ?it/s]"
      ]
     },
     "metadata": {},
     "output_type": "display_data"
    },
    {
     "name": "stdout",
     "output_type": "stream",
     "text": [
      " results:\n",
      "Mean square error: 6.53499\n",
      "Mean absolute error: 2.27276\n",
      "Mean absolute error in dollars: 28397.06696\n",
      "epoch: 12\n"
     ]
    },
    {
     "data": {
      "application/vnd.jupyter.widget-view+json": {
       "model_id": "0fb718c976004e52beb20794a418cf1b",
       "version_major": 2,
       "version_minor": 0
      },
      "text/plain": [
       "  0%|          | 0/6119 [00:00<?, ?it/s]"
      ]
     },
     "metadata": {},
     "output_type": "display_data"
    },
    {
     "name": "stdout",
     "output_type": "stream",
     "text": [
      " results:\n",
      "Mean square error: 5.71921\n",
      "Mean absolute error: 2.08218\n",
      "Mean absolute error in dollars: 27145.72407\n",
      "epoch: 13\n"
     ]
    },
    {
     "data": {
      "application/vnd.jupyter.widget-view+json": {
       "model_id": "90ef1e688843457d863f3142e52eedb0",
       "version_major": 2,
       "version_minor": 0
      },
      "text/plain": [
       "  0%|          | 0/6119 [00:00<?, ?it/s]"
      ]
     },
     "metadata": {},
     "output_type": "display_data"
    },
    {
     "name": "stdout",
     "output_type": "stream",
     "text": [
      " results:\n",
      "Mean square error: 5.71206\n",
      "Mean absolute error: 2.09650\n",
      "Mean absolute error in dollars: 27399.12244\n",
      "epoch: 14\n"
     ]
    },
    {
     "data": {
      "application/vnd.jupyter.widget-view+json": {
       "model_id": "10f05856b01b4d3b994eb8a6c64d4501",
       "version_major": 2,
       "version_minor": 0
      },
      "text/plain": [
       "  0%|          | 0/6119 [00:00<?, ?it/s]"
      ]
     },
     "metadata": {},
     "output_type": "display_data"
    },
    {
     "name": "stdout",
     "output_type": "stream",
     "text": [
      " results:\n",
      "Mean square error: 5.53881\n",
      "Mean absolute error: 2.04402\n",
      "Mean absolute error in dollars: 26932.39596\n",
      "epoch: 15\n"
     ]
    },
    {
     "data": {
      "application/vnd.jupyter.widget-view+json": {
       "model_id": "fe70ed6b3e054142af691f56db1a4bdc",
       "version_major": 2,
       "version_minor": 0
      },
      "text/plain": [
       "  0%|          | 0/6119 [00:00<?, ?it/s]"
      ]
     },
     "metadata": {},
     "output_type": "display_data"
    },
    {
     "name": "stdout",
     "output_type": "stream",
     "text": [
      " results:\n",
      "Mean square error: 6.07152\n",
      "Mean absolute error: 2.18017\n",
      "Mean absolute error in dollars: 27951.14565\n",
      "epoch: 16\n"
     ]
    },
    {
     "data": {
      "application/vnd.jupyter.widget-view+json": {
       "model_id": "494f34b9e92942939d0319d375581a4f",
       "version_major": 2,
       "version_minor": 0
      },
      "text/plain": [
       "  0%|          | 0/6119 [00:00<?, ?it/s]"
      ]
     },
     "metadata": {},
     "output_type": "display_data"
    },
    {
     "name": "stdout",
     "output_type": "stream",
     "text": [
      " results:\n",
      "Mean square error: 5.49952\n",
      "Mean absolute error: 2.04798\n",
      "Mean absolute error in dollars: 27120.16799\n",
      "epoch: 17\n"
     ]
    },
    {
     "data": {
      "application/vnd.jupyter.widget-view+json": {
       "model_id": "5cf1531a29fe49ba83fb0d3631cb1db7",
       "version_major": 2,
       "version_minor": 0
      },
      "text/plain": [
       "  0%|          | 0/6119 [00:00<?, ?it/s]"
      ]
     },
     "metadata": {},
     "output_type": "display_data"
    },
    {
     "name": "stdout",
     "output_type": "stream",
     "text": [
      " results:\n",
      "Mean square error: 5.05250\n",
      "Mean absolute error: 1.94784\n",
      "Mean absolute error in dollars: 26516.49663\n",
      "epoch: 18\n"
     ]
    },
    {
     "data": {
      "application/vnd.jupyter.widget-view+json": {
       "model_id": "4631769d9a7f49caaac1bd7b565bce57",
       "version_major": 2,
       "version_minor": 0
      },
      "text/plain": [
       "  0%|          | 0/6119 [00:00<?, ?it/s]"
      ]
     },
     "metadata": {},
     "output_type": "display_data"
    },
    {
     "name": "stdout",
     "output_type": "stream",
     "text": [
      " results:\n",
      "Mean square error: 4.84193\n",
      "Mean absolute error: 1.89608\n",
      "Mean absolute error in dollars: 26150.87012\n",
      "epoch: 19\n"
     ]
    },
    {
     "data": {
      "application/vnd.jupyter.widget-view+json": {
       "model_id": "878fc59655e349c781a47278de9cdd57",
       "version_major": 2,
       "version_minor": 0
      },
      "text/plain": [
       "  0%|          | 0/6119 [00:00<?, ?it/s]"
      ]
     },
     "metadata": {},
     "output_type": "display_data"
    },
    {
     "name": "stdout",
     "output_type": "stream",
     "text": [
      " results:\n",
      "Mean square error: 4.79059\n",
      "Mean absolute error: 1.89116\n",
      "Mean absolute error in dollars: 26225.36553\n",
      "epoch: 20\n"
     ]
    },
    {
     "data": {
      "application/vnd.jupyter.widget-view+json": {
       "model_id": "f452daab6c68423fa244b7110d85fc06",
       "version_major": 2,
       "version_minor": 0
      },
      "text/plain": [
       "  0%|          | 0/6119 [00:00<?, ?it/s]"
      ]
     },
     "metadata": {},
     "output_type": "display_data"
    },
    {
     "name": "stdout",
     "output_type": "stream",
     "text": [
      " results:\n",
      "Mean square error: 4.97415\n",
      "Mean absolute error: 1.93749\n",
      "Mean absolute error in dollars: 26518.76096\n",
      "epoch: 21\n"
     ]
    },
    {
     "data": {
      "application/vnd.jupyter.widget-view+json": {
       "model_id": "dde9f1a03f0b4d0887c94ec2de18fcc5",
       "version_major": 2,
       "version_minor": 0
      },
      "text/plain": [
       "  0%|          | 0/6119 [00:00<?, ?it/s]"
      ]
     },
     "metadata": {},
     "output_type": "display_data"
    },
    {
     "name": "stdout",
     "output_type": "stream",
     "text": [
      " results:\n",
      "Mean square error: 4.65344\n",
      "Mean absolute error: 1.85494\n",
      "Mean absolute error in dollars: 25902.24619\n",
      "epoch: 22\n"
     ]
    },
    {
     "data": {
      "application/vnd.jupyter.widget-view+json": {
       "model_id": "8a174ee7a7504b9bafb7bf5361bbfafa",
       "version_major": 2,
       "version_minor": 0
      },
      "text/plain": [
       "  0%|          | 0/6119 [00:00<?, ?it/s]"
      ]
     },
     "metadata": {},
     "output_type": "display_data"
    },
    {
     "name": "stdout",
     "output_type": "stream",
     "text": [
      " results:\n",
      "Mean square error: 4.29639\n",
      "Mean absolute error: 1.76472\n",
      "Mean absolute error in dollars: 25226.66536\n",
      "epoch: 23\n"
     ]
    },
    {
     "data": {
      "application/vnd.jupyter.widget-view+json": {
       "model_id": "b0b9fbacab9745ec8965fbdcf2d4c96e",
       "version_major": 2,
       "version_minor": 0
      },
      "text/plain": [
       "  0%|          | 0/6119 [00:00<?, ?it/s]"
      ]
     },
     "metadata": {},
     "output_type": "display_data"
    },
    {
     "name": "stdout",
     "output_type": "stream",
     "text": [
      " results:\n",
      "Mean square error: 4.61974\n",
      "Mean absolute error: 1.85464\n",
      "Mean absolute error in dollars: 25999.43980\n",
      "epoch: 24\n"
     ]
    },
    {
     "data": {
      "application/vnd.jupyter.widget-view+json": {
       "model_id": "ce0835585d4f46ad826858c5220fb6dc",
       "version_major": 2,
       "version_minor": 0
      },
      "text/plain": [
       "  0%|          | 0/6119 [00:00<?, ?it/s]"
      ]
     },
     "metadata": {},
     "output_type": "display_data"
    },
    {
     "name": "stdout",
     "output_type": "stream",
     "text": [
      " results:\n",
      "Mean square error: 3.99493\n",
      "Mean absolute error: 1.68822\n",
      "Mean absolute error in dollars: 24618.05744\n"
     ]
    }
   ],
   "source": [
    "criterion = nn.MSELoss(reduction='sum')\n",
    "optimizer = torch.optim.SGD(model.parameters(), lr=1e-4)\n",
    "\n",
    "for epoch in range(EPOCHS):\n",
    "    print(f\"epoch: {epoch}\")\n",
    "    model.train()\n",
    "    for i, batch in tqdm(enumerate(\n",
    "            iterate_minibatches(data_train, batch_size=BATCH_SIZE, device=device, word_dropout=0.4)),\n",
    "            total=len(data_train) // BATCH_SIZE\n",
    "        ):\n",
    "        pred = model(batch)\n",
    "        loss = criterion(pred, batch[TARGET_COLUMN])\n",
    "        optimizer.zero_grad()\n",
    "        loss.backward()\n",
    "        optimizer.step()\n",
    "        \n",
    "    print_metrics(model, data_val, device=device)"
   ]
  },
  {
   "cell_type": "markdown",
   "metadata": {},
   "source": [
    "#### 2. Playing with pooling layer"
   ]
  },
  {
   "cell_type": "markdown",
   "metadata": {},
   "source": [
    "Key changes:\n",
    "1. Maxpooling is now combined with a custom 5-head attention layer.\n",
    "2. Dropout layer is applied on concatenated pooling vectors."
   ]
  },
  {
   "cell_type": "code",
   "execution_count": 8,
   "metadata": {},
   "outputs": [
    {
     "name": "stdout",
     "output_type": "stream",
     "text": [
      "torch.Size([3, 32, 5])\n",
      "torch.Size([3, 5, 5])\n",
      "tensor([[1.0000, 1.0000, 1.0000, 1.0000, 1.0000],\n",
      "        [1.0000, 1.0000, 1.0000, 1.0000, 1.0000],\n",
      "        [1.0000, 1.0000, 1.0000, 1.0000, 1.0000]], device='cuda:0',\n",
      "       grad_fn=<SumBackward1>)\n",
      "tensor([[[0.1407, 0.1360, 0.2362, 0.1227, 0.3049],\n",
      "         [0.3332, 0.1631, 0.2909, 0.1743, 0.1889],\n",
      "         [0.1536, 0.2668, 0.1345, 0.2918, 0.1360],\n",
      "         [0.1862, 0.2171, 0.1692, 0.2056, 0.1851],\n",
      "         [0.1862, 0.2171, 0.1692, 0.2056, 0.1851]],\n",
      "\n",
      "        [[0.4090, 0.1719, 0.1776, 0.1842, 0.1571],\n",
      "         [0.0830, 0.1629, 0.2221, 0.1723, 0.2630],\n",
      "         [0.0816, 0.2105, 0.0640, 0.2373, 0.1845],\n",
      "         [0.3833, 0.2580, 0.0957, 0.1591, 0.0427],\n",
      "         [0.0432, 0.1967, 0.4405, 0.2472, 0.3527]],\n",
      "\n",
      "        [[0.1341, 0.2415, 0.1290, 0.4327, 0.1425],\n",
      "         [0.2168, 0.0720, 0.2154, 0.1778, 0.2960],\n",
      "         [0.2365, 0.2495, 0.2605, 0.1499, 0.1954],\n",
      "         [0.0875, 0.2601, 0.2849, 0.1227, 0.1815],\n",
      "         [0.3251, 0.1770, 0.1102, 0.1170, 0.1847]]], device='cuda:0',\n",
      "       grad_fn=<SoftmaxBackward0>)\n",
      "torch.Size([3, 160])\n",
      "torch.Size([3, 32])\n"
     ]
    }
   ],
   "source": [
    "text_conv_title_1 = nn.Conv1d(in_channels=300, out_channels=32, kernel_size=3).to('cuda')\n",
    "bn_title_1 = nn.BatchNorm1d(32).to('cuda')\n",
    "attn_title_1 = nn.Linear(32, 5).to('cuda')\n",
    "emb = nn.Embedding(num_embeddings=len(tokens), embedding_dim=300).to('cuda')\n",
    "batch_size_ = example_batch['Title'].shape[0]\n",
    "\n",
    "x = emb(example_batch[\"Title\"])\n",
    "x = x.transpose(2, 1)\n",
    "x = text_conv_title_1(x)\n",
    "x = bn_title_1(x)\n",
    "print(x.shape)\n",
    "attn_x = attn_title_1(x.transpose(2, 1))\n",
    "print(attn_x.shape)\n",
    "attn_x = nn.Softmax(dim=1)(attn_x)\n",
    "print(torch.sum(attn_x, dim=1))\n",
    "\n",
    "# attn_x = nn.Softmax(dim=1)(attn_title_1(x.transpose(2, 1)))\n",
    "print(attn_x)\n",
    "x_attnpool = torch.matmul(x, attn_x).view(batch_size_, -1)\n",
    "print(x_attnpool.shape)\n",
    "x_maxpool = torch.amax(x, dim=2)\n",
    "print(x_maxpool.shape)"
   ]
  },
  {
   "cell_type": "code",
   "execution_count": 8,
   "metadata": {},
   "outputs": [],
   "source": [
    "class SalaryPredictor(nn.Module):\n",
    "    def __init__(self, n_tokens=len(tokens), n_cat_features=len(categorical_vectorizer.vocabulary_), embedding_dim=300):\n",
    "        super().__init__()\n",
    "        # text convolution kernels\n",
    "        self.kernel_size_1 = 3\n",
    "        self.kernel_size_2 = 2\n",
    "        self.kernel_size_3 = 4\n",
    "        self.embedding_dim = embedding_dim\n",
    "        self.conv_out_dim_title = 8\n",
    "        self.conv_out_dim_descr_1 = 32\n",
    "        self.conv_out_dim_descr_2 = 8\n",
    "        self.emb = nn.Embedding(num_embeddings=n_tokens, embedding_dim=self.embedding_dim)\n",
    "        self.text_conv_title_1 = nn.Conv1d(in_channels=self.embedding_dim, out_channels=self.conv_out_dim_title, kernel_size=self.kernel_size_1)\n",
    "        self.text_conv_title_2 = nn.Conv1d(in_channels=self.embedding_dim, out_channels=self.conv_out_dim_title, kernel_size=self.kernel_size_2)\n",
    "\n",
    "        self.text_conv_descr_1_1 = nn.Conv1d(in_channels=self.embedding_dim, out_channels=self.conv_out_dim_descr_1, \n",
    "                                            kernel_size=self.kernel_size_1, padding=self.kernel_size_1 // 2)\n",
    "        self.text_conv_descr_2_1 = nn.Conv1d(in_channels=self.embedding_dim, out_channels=self.conv_out_dim_descr_1, \n",
    "                                            kernel_size=self.kernel_size_2, padding=self.kernel_size_2 // 2)\n",
    "        self.text_conv_descr_3_1 = nn.Conv1d(in_channels=self.embedding_dim, out_channels=self.conv_out_dim_descr_1,\n",
    "                                            kernel_size=self.kernel_size_3, padding=self.kernel_size_3 // 2)\n",
    "\n",
    "        self.text_conv_descr_1_2 = nn.Conv1d(in_channels=self.conv_out_dim_descr_1, out_channels=self.conv_out_dim_descr_2, kernel_size=self.kernel_size_1)\n",
    "        self.text_conv_descr_2_2 = nn.Conv1d(in_channels=self.conv_out_dim_descr_1, out_channels=self.conv_out_dim_descr_2, kernel_size=self.kernel_size_2)\n",
    "        self.text_conv_descr_3_2 = nn.Conv1d(in_channels=self.conv_out_dim_descr_1, out_channels=self.conv_out_dim_descr_2, kernel_size=self.kernel_size_3)\n",
    "\n",
    "        self.bn_title_1 = nn.BatchNorm1d(self.conv_out_dim_title)\n",
    "        self.bn_title_2 = nn.BatchNorm1d(self.conv_out_dim_title)\n",
    "\n",
    "        self.bn_descr_1_1 = nn.BatchNorm1d(self.conv_out_dim_descr_1)\n",
    "        self.bn_descr_2_1 = nn.BatchNorm1d(self.conv_out_dim_descr_1)\n",
    "        self.bn_descr_3_1 = nn.BatchNorm1d(self.conv_out_dim_descr_1)\n",
    "\n",
    "        self.bn_descr_1_2 = nn.BatchNorm1d(self.conv_out_dim_descr_2)\n",
    "        self.bn_descr_2_2 = nn.BatchNorm1d(self.conv_out_dim_descr_2)\n",
    "        self.bn_descr_3_2 = nn.BatchNorm1d(self.conv_out_dim_descr_2)\n",
    "\n",
    "        self.num_attn_heads = 5\n",
    "        \n",
    "        self.attn_title_1 = nn.Linear(self.conv_out_dim_title, self.num_attn_heads)\n",
    "        self.attn_title_2 = nn.Linear(self.conv_out_dim_title, self.num_attn_heads)\n",
    "\n",
    "        self.attn_descr_1 = nn.Linear(self.conv_out_dim_descr_2, self.num_attn_heads)\n",
    "        self.attn_descr_2 = nn.Linear(self.conv_out_dim_descr_2, self.num_attn_heads)\n",
    "        self.attn_descr_3 = nn.Linear(self.conv_out_dim_descr_2, self.num_attn_heads)\n",
    "        \n",
    "        # categorical kernels\n",
    "        self.categorical_out_dim = 8\n",
    "        self.fc_categorical = nn.Linear(n_cat_features, self.categorical_out_dim)\n",
    "\n",
    "        # final linear layer\n",
    "        self.final_fc_input_dim = 2 * (self.num_attn_heads + 1) * self.conv_out_dim_title \\\n",
    "                + 3 * (self.num_attn_heads + 1) * self.conv_out_dim_descr_2 \\\n",
    "                + self.categorical_out_dim\n",
    "        self.fc = nn.Linear(self.final_fc_input_dim, 1)\n",
    "\n",
    "        # additional considerations\n",
    "        self.dropout = nn.Dropout(p=0.3)\n",
    "        self.softmax = nn.Softmax(dim=1)\n",
    "        \n",
    "    def forward(self, batch):\n",
    "        batch_size = batch['Title'].shape[0]\n",
    "        x = self.emb(batch['Title'])\n",
    "        x = x.transpose(2, 1)\n",
    "        y = self.emb(batch['FullDescription'])\n",
    "        y = y.transpose(2, 1)\n",
    "\n",
    "        x_1_pre_pooling = self.bn_title_1(self.text_conv_title_1(x)) \n",
    "        x_2_pre_pooling = self.bn_title_2(self.text_conv_title_2(x))\n",
    "\n",
    "        x_1_maxpool = torch.amax(x_1_pre_pooling, dim=2)\n",
    "        title_1_attn = self.softmax(self.attn_title_1(x_1_pre_pooling.transpose(2, 1)))\n",
    "        x_1_attnpool = torch.matmul(x_1_pre_pooling, title_1_attn).view(batch_size, -1)\n",
    "\n",
    "        x_2_maxpool = torch.amax(x_2_pre_pooling, dim=2)\n",
    "        title_2_attn = self.softmax(self.attn_title_2(x_2_pre_pooling.transpose(2, 1)))\n",
    "        x_2_attnpool = torch.matmul(x_2_pre_pooling, title_2_attn).view(batch_size, -1)\n",
    "\n",
    "        y_1 = F.leaky_relu(self.bn_descr_1_1(self.text_conv_descr_1_1(y)))\n",
    "        y_2 = F.leaky_relu(self.bn_descr_2_1(self.text_conv_descr_2_1(y)))\n",
    "        y_3 = F.leaky_relu(self.bn_descr_3_1(self.text_conv_descr_3_1(y)))\n",
    "\n",
    "        y_1_pre_pooling = self.bn_descr_1_2(self.text_conv_descr_1_2(y_1))\n",
    "        y_2_pre_pooling = self.bn_descr_2_2(self.text_conv_descr_2_2(y_2))\n",
    "        y_3_pre_pooling = self.bn_descr_3_2(self.text_conv_descr_3_2(y_3))\n",
    "        y_1_maxpool = torch.amax(y_1_pre_pooling, dim=2)\n",
    "        descr_1_attn = self.softmax(self.attn_descr_1(y_1_pre_pooling.transpose(2, 1)))\n",
    "        y_1_attnpool = torch.matmul(y_1_pre_pooling, descr_1_attn).view(batch_size, -1)\n",
    "        y_2_maxpool = torch.amax(y_2_pre_pooling, dim=2)\n",
    "        descr_2_attn = self.softmax(self.attn_descr_2(y_2_pre_pooling.transpose(2, 1)))\n",
    "        y_2_attnpool = torch.matmul(y_2_pre_pooling, descr_2_attn).view(batch_size, -1)\n",
    "        y_3_maxpool = torch.amax(y_3_pre_pooling, dim=2)\n",
    "        descr_3_attn = self.softmax(self.attn_descr_3(y_3_pre_pooling.transpose(2, 1)))\n",
    "        y_3_attnpool = torch.matmul(y_3_pre_pooling, descr_3_attn).view(batch_size, -1)\n",
    "\n",
    "        z = F.leaky_relu(self.fc_categorical(batch['Categorical']))\n",
    "        # print(x_1_maxpool.shape)\n",
    "        # print(x_2_maxpool.shape)\n",
    "        # print(y_1_maxpool.shape)\n",
    "        # print(y_2_maxpool.shape)\n",
    "        # print(y_3_maxpool.shape)\n",
    "        # print(x_1_attnpool.shape)\n",
    "        # print(x_2_attnpool.shape)\n",
    "        # print(y_1_attnpool.shape)\n",
    "        # print(y_2_attnpool.shape)\n",
    "        # print(y_3_attnpool.shape)\n",
    "        # print(z.shape)\n",
    "        u = torch.cat([x_1_maxpool, x_2_maxpool, y_1_maxpool, y_2_maxpool, y_3_maxpool,\n",
    "                        x_1_attnpool, x_2_attnpool, y_1_attnpool, y_2_attnpool, y_3_attnpool, z], dim=1)\n",
    "        u = self.dropout(u)\n",
    "        u = self.fc(u).view(-1)\n",
    "        return u"
   ]
  },
  {
   "cell_type": "code",
   "execution_count": 10,
   "metadata": {},
   "outputs": [
    {
     "name": "stdout",
     "output_type": "stream",
     "text": [
      "7935 words out of 34158 are missing in the word2vec model.\n"
     ]
    }
   ],
   "source": [
    "model = SalaryPredictor()\n",
    "embedding_initialization = model.emb.weight.detach().numpy()\n",
    "pretrained_weights_embedding = torch.Tensor(np.array([\n",
    "    embeddings[tokens[i]] if tokens[i] in embeddings else embedding_initialization[i]\n",
    "    for i in range(len(tokens))\n",
    "]))\n",
    "missing_embeddings = [tokens[i] for i in range(len(tokens)) if tokens[i] not in embeddings]\n",
    "print(len(missing_embeddings), 'words out of', len(tokens), 'are missing in the word2vec model.')\n",
    "model.emb.weight.data = pretrained_weights_embedding\n",
    "model = model.to(device)"
   ]
  },
  {
   "cell_type": "code",
   "execution_count": 25,
   "metadata": {},
   "outputs": [
    {
     "data": {
      "text/plain": [
       "['preemployment',\n",
       " 'svq',\n",
       " 'upport',\n",
       " 'scswis',\n",
       " 'jobholder',\n",
       " 'postregistration',\n",
       " 'wellregarded',\n",
       " 'stourportonsevern',\n",
       " '(****)',\n",
       " 'nvq4',\n",
       " '95pm',\n",
       " 'purposebuilt',\n",
       " 'selfconfidence',\n",
       " 'compliances',\n",
       " 'pova',\n",
       " 'closeknit',\n",
       " 'pmld',\n",
       " 'docare',\n",
       " '’.',\n",
       " 'disciplinaries']"
      ]
     },
     "execution_count": 39,
     "metadata": {},
     "output_type": "execute_result"
    }
   ],
   "source": [
    "missing_embeddings[200:220]"
   ]
  },
  {
   "cell_type": "code",
   "execution_count": 30,
   "metadata": {},
   "outputs": [
    {
     "data": {
      "text/plain": [
       "['bonusabout',\n",
       " 'isotrak',\n",
       " 'fastcgi',\n",
       " 'coodrinator',\n",
       " 'dcucd',\n",
       " 'dcda',\n",
       " 'mwrc',\n",
       " 'campaigncbmsuk',\n",
       " 'grouptrader',\n",
       " 'samworthchurchacademy',\n",
       " 'bioanalyst',\n",
       " '9001en',\n",
       " '****…',\n",
       " 'deljaaappointments',\n",
       " 'dipfa',\n",
       " 'cmrt',\n",
       " 'electonics',\n",
       " 'financiallymotivated',\n",
       " 'leathergoods',\n",
       " 'cloudfoundry',\n",
       " 'voypic',\n",
       " 'adminp',\n",
       " 'autotype',\n",
       " 'bakewellprojectresource',\n",
       " 'eccuk',\n",
       " 'cwdm',\n",
       " 'generalmanagerdesignate_job',\n",
       " 'hollymere',\n",
       " 'rexs',\n",
       " 'seanlejgroup',\n",
       " 'axisweb',\n",
       " 'lovc',\n",
       " 'yearsmarket',\n",
       " 'ynysybwl',\n",
       " 'glyncoch',\n",
       " 'personfor',\n",
       " 'perioperatively',\n",
       " 'rabaiotti',\n",
       " '>>>',\n",
       " 'developmentsales',\n",
       " 'janecarerecruitmentuk',\n",
       " 'carerecruitmentuk',\n",
       " 'sgarande4socialwork',\n",
       " '◊',\n",
       " 'yoen',\n",
       " 'knowldege',\n",
       " 'bh1',\n",
       " 'mediahawk',\n",
       " 'fernandeshays',\n",
       " 'dunhumby',\n",
       " 'bestequipped',\n",
       " 'adops',\n",
       " 'cila',\n",
       " 'percepta',\n",
       " 'ruolo',\n",
       " 'phenome',\n",
       " 'chromatographymass',\n",
       " 'pcse',\n",
       " 'choiceconsultants',\n",
       " 'tarnjeet',\n",
       " 'pottermore',\n",
       " 'jobstrspersonnel',\n",
       " 'highcapital',\n",
       " 'greeneking',\n",
       " 'oteyour',\n",
       " 'aqmen',\n",
       " 'grateley',\n",
       " 'striling',\n",
       " 'lineworker',\n",
       " 'lineworkers',\n",
       " 'motivationhr',\n",
       " '165million',\n",
       " 'sarammgirecruitment',\n",
       " 'nutitionist',\n",
       " '35635',\n",
       " 'petcoke',\n",
       " 'masternaut',\n",
       " '%/',\n",
       " 'andrewb',\n",
       " 'isynergy',\n",
       " 'rochecapita',\n",
       " 'tgrattongenesisassociates',\n",
       " 'bullare',\n",
       " 'bicsc',\n",
       " 'yourlife',\n",
       " 'intelliegence',\n",
       " '15022',\n",
       " '20022',\n",
       " 'managergeneral',\n",
       " 'investigateon',\n",
       " 'nikulina',\n",
       " 'mysociety',\n",
       " 'talent2',\n",
       " 'jmlegal',\n",
       " 'scdm',\n",
       " '/********/',\n",
       " 'gonnadoo',\n",
       " 'zdravkovic',\n",
       " 'rbuk',\n",
       " 'trestrail']"
      ]
     },
     "execution_count": 40,
     "metadata": {},
     "output_type": "execute_result"
    }
   ],
   "source": [
    "missing_embeddings[-200:-100]"
   ]
  },
  {
   "cell_type": "code",
   "execution_count": 26,
   "metadata": {},
   "outputs": [
    {
     "data": {
      "text/plain": [
       "array([ 2.0319e-01, -1.7955e-01,  1.3091e-01,  4.0578e-02, -5.8469e-02,\n",
       "       -1.3209e-01,  1.8004e-01, -5.0834e-02, -8.8997e-02,  6.2717e-01,\n",
       "       -2.9239e-01,  1.1365e-01,  1.1766e-01, -1.2064e-01, -8.1639e-02,\n",
       "        3.8736e-03,  3.2311e-01, -2.8180e-01,  2.8452e-01,  1.7923e-01,\n",
       "       -6.2219e-02, -5.6736e-01, -7.9436e-01, -1.2483e-01,  2.4960e-01,\n",
       "       -6.3184e-01, -1.5098e-01, -7.6473e-02,  1.6859e-01,  9.4797e-02,\n",
       "       -3.3555e-01, -3.6312e-01,  5.9160e-01, -1.9709e-01,  7.0158e-01,\n",
       "        1.3215e-01, -2.5647e-01,  9.3904e-02,  4.7473e-01, -3.3133e-01,\n",
       "       -5.0672e-02,  4.6579e-02,  5.4687e-01, -1.1571e+00,  1.5673e-01,\n",
       "       -4.9834e-01, -1.6967e-01, -1.8722e-01,  6.1965e-01, -5.9124e-01,\n",
       "       -5.6397e-01, -2.5553e-01,  6.0134e-01,  1.8448e-01, -5.2633e-01,\n",
       "       -5.0148e-01,  5.9354e-01, -3.1188e-01, -7.8267e-01,  9.1548e-02,\n",
       "       -2.5027e-01,  1.5435e-01, -7.8129e-01, -1.5020e-01, -4.2698e-02,\n",
       "        6.6598e-01, -1.1652e-01, -1.0867e-01,  1.6089e-01,  3.8112e-01,\n",
       "       -1.5973e-01,  5.8040e-02,  1.8193e-01, -2.6015e-01,  8.9624e-02,\n",
       "       -3.5136e-02, -3.9838e-01, -2.6204e-02,  3.7344e-01,  3.5876e-01,\n",
       "       -6.4871e-02,  1.0645e-01, -1.2287e-01, -4.3015e-01, -1.7403e-01,\n",
       "       -1.6972e-01, -9.5848e-02, -4.6445e-01, -3.6635e-02,  1.1954e-01,\n",
       "       -2.3569e-01,  2.3311e-01,  1.7594e-01,  1.4405e-01,  3.6560e-01,\n",
       "        5.5920e-01,  4.8766e-01,  3.4281e-01,  1.9464e-01,  2.0940e-01,\n",
       "       -8.1042e-03, -4.0319e-02, -2.5899e-01, -9.7307e-02, -3.6272e-01,\n",
       "       -2.1360e-01, -5.6300e-01,  4.0314e-01,  1.8895e-02,  4.9225e-02,\n",
       "        1.8327e-01, -1.6808e-01,  2.7277e-01,  2.0038e-01,  5.9113e-02,\n",
       "        1.8646e-01,  1.7036e-01, -1.4539e-01,  3.7240e-02, -1.4122e-01,\n",
       "        2.2507e-01,  5.9971e-01, -1.9225e-01,  2.0209e-01,  6.1981e-01,\n",
       "        2.3675e-01, -2.1466e-01, -6.8862e-01, -5.4956e-02, -4.3468e-01,\n",
       "        3.7088e-01, -3.0732e-01, -2.1438e-01, -2.3279e-01,  8.3425e-01,\n",
       "       -5.9390e-02, -1.2541e-01, -1.9093e-01,  7.7713e-01, -1.4665e-01,\n",
       "        2.8121e-04, -4.1477e-01,  2.3724e-01, -2.5712e-01,  5.6781e-01,\n",
       "       -1.9239e-01,  1.6481e-02,  3.2714e-01,  7.1434e-01,  2.1987e-01,\n",
       "       -3.4996e-01, -1.0748e-01,  2.0029e-01, -2.7313e-01, -2.9492e-01,\n",
       "       -3.2178e-01,  3.8974e-03, -7.7133e-02,  5.6910e-02, -1.3880e-01,\n",
       "        1.1833e-02,  3.8259e-01, -3.5759e-01, -5.9740e-01, -2.9798e-02,\n",
       "       -3.9046e-02, -3.9933e-01,  1.9088e-03, -1.8502e-01,  4.3674e-01,\n",
       "        3.7722e-01,  3.2300e-01, -1.0290e-01, -4.5953e-01,  3.5550e-01,\n",
       "       -3.7445e-01, -1.9498e-01, -8.9091e-03,  1.7044e-01, -5.3430e-01,\n",
       "       -4.7993e-01, -3.9607e-01,  1.2506e-01, -2.4310e-01, -6.3398e-02,\n",
       "        2.4835e-01,  3.9910e-01,  1.8510e-01, -2.5573e-01, -1.2565e-01,\n",
       "       -1.1872e-01,  4.4103e-01,  4.6071e-02,  4.1445e-01, -3.4397e-01,\n",
       "       -9.1985e-02,  2.3503e-01, -4.2118e-02,  6.2657e-02,  4.0963e-01,\n",
       "       -1.1805e+00,  2.7429e-01, -2.1028e-01,  2.0266e-01,  4.1632e-01,\n",
       "        4.4467e-01,  3.5716e-01,  1.9924e-01, -5.5949e-01, -1.0934e-01,\n",
       "        5.2870e-01, -3.1231e-02, -7.5043e-01,  4.1440e-01, -4.4300e-01,\n",
       "       -4.5356e-01,  1.6171e-01, -6.7104e-01, -2.0125e-01,  6.5777e-02,\n",
       "       -9.1974e-02,  4.2870e-01, -2.4588e-01, -1.8247e-01,  1.9317e-01,\n",
       "       -1.9655e-02,  2.1172e-01,  5.0656e-02,  8.8999e-02,  4.8767e-01,\n",
       "        2.1225e-01,  2.9994e-01,  7.8999e-02,  5.1024e-01,  8.8755e-02,\n",
       "       -1.2779e-01,  1.2938e-01, -2.0799e-01,  3.7373e-01,  3.0968e-01,\n",
       "        1.1978e-01,  4.1102e-01, -3.8832e-01, -1.9497e-02,  4.7457e-01,\n",
       "       -4.1750e-02, -8.7807e-02,  7.6496e-02, -1.2943e-01,  1.2653e-02,\n",
       "        2.4772e-01,  9.7302e-01,  6.8585e-02,  2.3779e-01, -8.4442e-03,\n",
       "       -1.4969e-01,  2.7852e-01,  2.5126e-01, -9.0648e-02, -6.3339e-02,\n",
       "        1.7582e-01,  1.1463e-01, -4.7819e-01,  2.3275e-01, -9.8683e-02,\n",
       "       -5.5860e-02, -1.8967e-01, -1.3511e-01, -3.9271e-01,  1.8092e-01,\n",
       "        5.0117e-01,  2.8868e-01, -4.0915e-01, -1.9335e-01, -2.1298e-01,\n",
       "       -3.9159e-01,  4.8622e-01,  5.4037e-01, -1.9024e-01, -4.6449e-01,\n",
       "       -1.2357e-01, -7.5294e-01,  1.4646e-01,  1.1656e-01,  7.4379e-01,\n",
       "        3.6920e-01,  3.1481e-01,  8.2923e-02, -8.0366e-01, -1.7187e-01,\n",
       "        1.9161e-01,  2.7810e-01, -7.8636e-01, -3.5109e-01, -5.1398e-01,\n",
       "       -3.1504e-01, -1.2248e-01,  8.5823e-01,  2.5981e-01, -8.1445e-02],\n",
       "      dtype=float32)"
      ]
     },
     "execution_count": 41,
     "metadata": {},
     "output_type": "execute_result"
    }
   ],
   "source": [
    "embeddings[\"pre-employment\"]"
   ]
  },
  {
   "cell_type": "markdown",
   "metadata": {},
   "source": [
    "Some embeddings could be obtained if typos and misprints are corrected in the original text."
   ]
  },
  {
   "cell_type": "code",
   "execution_count": 9,
   "metadata": {},
   "outputs": [],
   "source": [
    "from tqdm.auto import tqdm\n",
    "\n",
    "BATCH_SIZE = 32\n",
    "EPOCHS = 50"
   ]
  },
  {
   "cell_type": "markdown",
   "metadata": {},
   "source": [
    "A weight decay is added to the SGD optimizer to improve generalization."
   ]
  },
  {
   "cell_type": "code",
   "execution_count": 10,
   "metadata": {},
   "outputs": [],
   "source": [
    "lrs = [1e-6, 1e-5, 1e-4]\n",
    "weight_decays = [0, 1e-4, 1e-2]\n",
    "momentums = [0, 0.05, 0.1, 0.5, 0.9]"
   ]
  },
  {
   "cell_type": "code",
   "execution_count": 11,
   "metadata": {},
   "outputs": [],
   "source": [
    "initial_weights_path = 'week02_classification/initial_weight_path.pt'"
   ]
  },
  {
   "cell_type": "code",
   "execution_count": 16,
   "metadata": {},
   "outputs": [],
   "source": [
    "state_dict_cpu = {k: v.cpu() for k, v in model.state_dict().items()}\n",
    "torch.save(state_dict_cpu, initial_weights_path)"
   ]
  },
  {
   "cell_type": "code",
   "execution_count": 18,
   "metadata": {},
   "outputs": [
    {
     "name": "stdout",
     "output_type": "stream",
     "text": [
      "lr = 1e-06, weight_decay = 0, momentum = 0\n",
      "epoch: 0\n"
     ]
    },
    {
     "data": {
      "application/vnd.jupyter.widget-view+json": {
       "model_id": "1c8608511a754c18be864bd36ad4ac93",
       "version_major": 2,
       "version_minor": 0
      },
      "text/plain": [
       "  0%|          | 0/6119 [00:00<?, ?it/s]"
      ]
     },
     "metadata": {},
     "output_type": "display_data"
    }
   ],
   "source": [
    "import itertools\n",
    "\n",
    "criterion = nn.MSELoss(reduction='sum')\n",
    "\n",
    "def train_and_evaluate(lr, weight_decay, momentum):\n",
    "    print(f'lr = {lr}, weight_decay = {weight_decay}, momentum = {momentum}')\n",
    "    model = SalaryPredictor()\n",
    "    model.load_state_dict(torch.load(initial_weights_path))\n",
    "    model = model.to('cuda')\n",
    "    optimizer = torch.optim.SGD(model.parameters(), lr=lr, weight_decay=weight_decay, momentum=momentum)\n",
    "    for epoch in range(6):\n",
    "        print(f\"epoch: {epoch}\")\n",
    "        model.train()\n",
    "        for i, batch in tqdm(enumerate(\n",
    "                iterate_minibatches(data_train, batch_size=BATCH_SIZE, device=device, word_dropout=0.4)),\n",
    "                total=len(data_train) // BATCH_SIZE):\n",
    "            pred = model(batch)\n",
    "            loss = criterion(pred, batch[TARGET_COLUMN])\n",
    "            optimizer.zero_grad()\n",
    "            loss.backward()\n",
    "            # clipping the gradient to avoid nans\n",
    "            torch.nn.utils.clip_grad_norm_(model.parameters(), max_norm=1.0)\n",
    "            optimizer.step()\n",
    "    return get_mse(model, data_val, device=device)\n",
    "\n",
    "results = []\n",
    "for lr, weight_decay, momentum in itertools.product(lrs, weight_decays, momentums):\n",
    "    mse = train_and_evaluate(lr, weight_decay, momentum)\n",
    "    print(mse)\n",
    "    results.append((lr, weight_decay, momentum, mse))\n",
    "\n",
    "best_hyperparams = min(results, key=lambda x: x[3])  # Find the combination with the lowest MSE\n",
    "\n",
    "print(\"Grid search results:\")\n",
    "for lr, weight_decay, momentum, mse in results:\n",
    "    print(f\"lr={lr}, weight_decay={weight_decay}, momentum={momentum}, mse={mse}\")\n",
    "\n",
    "print(\"\\nBest hyperparameters:\")\n",
    "print(f\"lr={best_hyperparams[0]}, weight_decay={best_hyperparams[1]}, momentum={best_hyperparams[2]}, mse={best_hyperparams[3]}\")\n"
   ]
  },
  {
   "cell_type": "code",
   "execution_count": 20,
   "metadata": {},
   "outputs": [
    {
     "data": {
      "text/plain": [
       "(0.0001, 0.01, 0.1, 6.144037642480696)"
      ]
     },
     "execution_count": 20,
     "metadata": {},
     "output_type": "execute_result"
    }
   ],
   "source": [
    "best_hyperparams"
   ]
  },
  {
   "cell_type": "code",
   "execution_count": 16,
   "metadata": {},
   "outputs": [],
   "source": [
    "BATCH_SIZE = 32\n",
    "EPOCHS = 50"
   ]
  },
  {
   "cell_type": "code",
   "execution_count": 13,
   "metadata": {},
   "outputs": [],
   "source": [
    "def get_mse(model, data, batch_size=BATCH_SIZE, name=\"\", device=torch.device('cpu'), **kw):\n",
    "    squared_error = 0\n",
    "    num_samples = 0\n",
    "    with torch.no_grad():\n",
    "        for batch in iterate_minibatches(data, batch_size=batch_size, shuffle=False, device=device, **kw):\n",
    "            batch_pred = model(batch)\n",
    "            squared_error += torch.sum(torch.square(batch_pred - batch[TARGET_COLUMN]))\n",
    "            num_samples += len(batch_pred)\n",
    "    mse = squared_error.detach().cpu().numpy() / num_samples\n",
    "    return mse"
   ]
  },
  {
   "cell_type": "code",
   "execution_count": 18,
   "metadata": {},
   "outputs": [
    {
     "name": "stdout",
     "output_type": "stream",
     "text": [
      "epoch: 0\n"
     ]
    },
    {
     "name": "stderr",
     "output_type": "stream",
     "text": [
      "/tmp/ipykernel_2359775/3128125247.py:6: FutureWarning: You are using `torch.load` with `weights_only=False` (the current default value), which uses the default pickle module implicitly. It is possible to construct malicious pickle data which will execute arbitrary code during unpickling (See https://github.com/pytorch/pytorch/blob/main/SECURITY.md#untrusted-models for more details). In a future release, the default value for `weights_only` will be flipped to `True`. This limits the functions that could be executed during unpickling. Arbitrary objects will no longer be allowed to be loaded via this mode unless they are explicitly allowlisted by the user via `torch.serialization.add_safe_globals`. We recommend you start setting `weights_only=True` for any use case where you don't have full control of the loaded file. Please open an issue on GitHub for any issues related to this experimental feature.\n",
      "  model.load_state_dict(torch.load(initial_weights_path))\n"
     ]
    },
    {
     "data": {
      "application/vnd.jupyter.widget-view+json": {
       "model_id": "2265846f6b6b4c209912255e6a553306",
       "version_major": 2,
       "version_minor": 0
      },
      "text/plain": [
       "  0%|          | 0/6119 [00:00<?, ?it/s]"
      ]
     },
     "metadata": {},
     "output_type": "display_data"
    },
    {
     "name": "stdout",
     "output_type": "stream",
     "text": [
      " results:\n",
      "Mean square error: 2.31705\n",
      "Mean absolute error: 1.42878\n",
      "Mean absolute error in dollars: 26188.51395\n",
      "epoch: 1\n"
     ]
    },
    {
     "data": {
      "application/vnd.jupyter.widget-view+json": {
       "model_id": "e609a7751c3c4183850e54e23ffe695d",
       "version_major": 2,
       "version_minor": 0
      },
      "text/plain": [
       "  0%|          | 0/6119 [00:00<?, ?it/s]"
      ]
     },
     "metadata": {},
     "output_type": "display_data"
    },
    {
     "name": "stdout",
     "output_type": "stream",
     "text": [
      " results:\n",
      "Mean square error: 0.84487\n",
      "Mean absolute error: 0.77102\n",
      "Mean absolute error in dollars: 18326.17527\n",
      "epoch: 2\n"
     ]
    },
    {
     "data": {
      "application/vnd.jupyter.widget-view+json": {
       "model_id": "4577b63bacc94c25851620804d774d1f",
       "version_major": 2,
       "version_minor": 0
      },
      "text/plain": [
       "  0%|          | 0/6119 [00:00<?, ?it/s]"
      ]
     },
     "metadata": {},
     "output_type": "display_data"
    },
    {
     "name": "stdout",
     "output_type": "stream",
     "text": [
      " results:\n",
      "Mean square error: 0.91749\n",
      "Mean absolute error: 0.83047\n",
      "Mean absolute error in dollars: 19339.06802\n",
      "epoch: 3\n"
     ]
    },
    {
     "data": {
      "application/vnd.jupyter.widget-view+json": {
       "model_id": "fcf09e9274e64770bad368d392f45a0d",
       "version_major": 2,
       "version_minor": 0
      },
      "text/plain": [
       "  0%|          | 0/6119 [00:00<?, ?it/s]"
      ]
     },
     "metadata": {},
     "output_type": "display_data"
    },
    {
     "name": "stdout",
     "output_type": "stream",
     "text": [
      " results:\n",
      "Mean square error: 1.49372\n",
      "Mean absolute error: 1.12176\n",
      "Mean absolute error in dollars: 23032.44090\n",
      "epoch: 4\n"
     ]
    },
    {
     "data": {
      "application/vnd.jupyter.widget-view+json": {
       "model_id": "89a01ede3ad94fdf90dd9c0fd021bc59",
       "version_major": 2,
       "version_minor": 0
      },
      "text/plain": [
       "  0%|          | 0/6119 [00:00<?, ?it/s]"
      ]
     },
     "metadata": {},
     "output_type": "display_data"
    },
    {
     "name": "stdout",
     "output_type": "stream",
     "text": [
      " results:\n",
      "Mean square error: 1.17862\n",
      "Mean absolute error: 0.98571\n",
      "Mean absolute error in dollars: 21414.97340\n",
      "epoch: 5\n"
     ]
    },
    {
     "data": {
      "application/vnd.jupyter.widget-view+json": {
       "model_id": "f1b9be87dcde4692b98f548fa48eeac7",
       "version_major": 2,
       "version_minor": 0
      },
      "text/plain": [
       "  0%|          | 0/6119 [00:00<?, ?it/s]"
      ]
     },
     "metadata": {},
     "output_type": "display_data"
    },
    {
     "name": "stdout",
     "output_type": "stream",
     "text": [
      " results:\n",
      "Mean square error: 1.26297\n",
      "Mean absolute error: 1.04174\n",
      "Mean absolute error in dollars: 22342.02427\n",
      "epoch: 6\n"
     ]
    },
    {
     "data": {
      "application/vnd.jupyter.widget-view+json": {
       "model_id": "0e3283b8550742cbaaffe2353dbab2ca",
       "version_major": 2,
       "version_minor": 0
      },
      "text/plain": [
       "  0%|          | 0/6119 [00:00<?, ?it/s]"
      ]
     },
     "metadata": {},
     "output_type": "display_data"
    },
    {
     "name": "stdout",
     "output_type": "stream",
     "text": [
      " results:\n",
      "Mean square error: 0.87892\n",
      "Mean absolute error: 0.84727\n",
      "Mean absolute error in dollars: 19894.89954\n",
      "epoch: 7\n"
     ]
    },
    {
     "data": {
      "application/vnd.jupyter.widget-view+json": {
       "model_id": "461f1af1cb774d809a1913794c1b49e8",
       "version_major": 2,
       "version_minor": 0
      },
      "text/plain": [
       "  0%|          | 0/6119 [00:00<?, ?it/s]"
      ]
     },
     "metadata": {},
     "output_type": "display_data"
    },
    {
     "name": "stdout",
     "output_type": "stream",
     "text": [
      " results:\n",
      "Mean square error: 0.58841\n",
      "Mean absolute error: 0.67937\n",
      "Mean absolute error in dollars: 17335.45778\n",
      "epoch: 8\n"
     ]
    },
    {
     "data": {
      "application/vnd.jupyter.widget-view+json": {
       "model_id": "56e221fe294a4a879b9d53ac96044ac2",
       "version_major": 2,
       "version_minor": 0
      },
      "text/plain": [
       "  0%|          | 0/6119 [00:00<?, ?it/s]"
      ]
     },
     "metadata": {},
     "output_type": "display_data"
    },
    {
     "name": "stdout",
     "output_type": "stream",
     "text": [
      " results:\n",
      "Mean square error: 0.57172\n",
      "Mean absolute error: 0.66180\n",
      "Mean absolute error in dollars: 16799.30057\n",
      "epoch: 9\n"
     ]
    },
    {
     "data": {
      "application/vnd.jupyter.widget-view+json": {
       "model_id": "d757799dcb694532ae8707deb3a5a71f",
       "version_major": 2,
       "version_minor": 0
      },
      "text/plain": [
       "  0%|          | 0/6119 [00:00<?, ?it/s]"
      ]
     },
     "metadata": {},
     "output_type": "display_data"
    },
    {
     "name": "stdout",
     "output_type": "stream",
     "text": [
      " results:\n",
      "Mean square error: 0.52877\n",
      "Mean absolute error: 0.64716\n",
      "Mean absolute error in dollars: 16705.72832\n",
      "epoch: 10\n"
     ]
    },
    {
     "data": {
      "application/vnd.jupyter.widget-view+json": {
       "model_id": "781795f1ac3b4bc582b733e0ed683603",
       "version_major": 2,
       "version_minor": 0
      },
      "text/plain": [
       "  0%|          | 0/6119 [00:00<?, ?it/s]"
      ]
     },
     "metadata": {},
     "output_type": "display_data"
    },
    {
     "name": "stdout",
     "output_type": "stream",
     "text": [
      " results:\n",
      "Mean square error: 0.35837\n",
      "Mean absolute error: 0.51367\n",
      "Mean absolute error in dollars: 14335.57250\n",
      "epoch: 11\n"
     ]
    },
    {
     "data": {
      "application/vnd.jupyter.widget-view+json": {
       "model_id": "014d2c0e20d5436586d616fb4a05c09c",
       "version_major": 2,
       "version_minor": 0
      },
      "text/plain": [
       "  0%|          | 0/6119 [00:00<?, ?it/s]"
      ]
     },
     "metadata": {},
     "output_type": "display_data"
    },
    {
     "name": "stdout",
     "output_type": "stream",
     "text": [
      " results:\n",
      "Mean square error: 0.40764\n",
      "Mean absolute error: 0.54765\n",
      "Mean absolute error in dollars: 14836.88230\n",
      "epoch: 12\n"
     ]
    },
    {
     "data": {
      "application/vnd.jupyter.widget-view+json": {
       "model_id": "605360302c204dbd8ea231692518dcd1",
       "version_major": 2,
       "version_minor": 0
      },
      "text/plain": [
       "  0%|          | 0/6119 [00:00<?, ?it/s]"
      ]
     },
     "metadata": {},
     "output_type": "display_data"
    },
    {
     "name": "stdout",
     "output_type": "stream",
     "text": [
      " results:\n",
      "Mean square error: 0.38691\n",
      "Mean absolute error: 0.53654\n",
      "Mean absolute error in dollars: 14663.00478\n",
      "epoch: 13\n"
     ]
    },
    {
     "data": {
      "application/vnd.jupyter.widget-view+json": {
       "model_id": "a09ff447d280420da0bb2e092f442833",
       "version_major": 2,
       "version_minor": 0
      },
      "text/plain": [
       "  0%|          | 0/6119 [00:00<?, ?it/s]"
      ]
     },
     "metadata": {},
     "output_type": "display_data"
    },
    {
     "name": "stdout",
     "output_type": "stream",
     "text": [
      " results:\n",
      "Mean square error: 0.31456\n",
      "Mean absolute error: 0.48052\n",
      "Mean absolute error in dollars: 13799.39698\n",
      "epoch: 14\n"
     ]
    },
    {
     "data": {
      "application/vnd.jupyter.widget-view+json": {
       "model_id": "8c910c21b9d443be9eb358d8458936d7",
       "version_major": 2,
       "version_minor": 0
      },
      "text/plain": [
       "  0%|          | 0/6119 [00:00<?, ?it/s]"
      ]
     },
     "metadata": {},
     "output_type": "display_data"
    },
    {
     "name": "stdout",
     "output_type": "stream",
     "text": [
      " results:\n",
      "Mean square error: 0.27193\n",
      "Mean absolute error: 0.43824\n",
      "Mean absolute error in dollars: 12668.77346\n",
      "epoch: 15\n"
     ]
    },
    {
     "data": {
      "application/vnd.jupyter.widget-view+json": {
       "model_id": "eba76322e7094a9fa0b683fac0a46ea2",
       "version_major": 2,
       "version_minor": 0
      },
      "text/plain": [
       "  0%|          | 0/6119 [00:00<?, ?it/s]"
      ]
     },
     "metadata": {},
     "output_type": "display_data"
    },
    {
     "name": "stdout",
     "output_type": "stream",
     "text": [
      " results:\n",
      "Mean square error: 0.18210\n",
      "Mean absolute error: 0.34384\n",
      "Mean absolute error in dollars: 10507.17523\n",
      "epoch: 16\n"
     ]
    },
    {
     "data": {
      "application/vnd.jupyter.widget-view+json": {
       "model_id": "8624ae2023e24362a48381e299300f05",
       "version_major": 2,
       "version_minor": 0
      },
      "text/plain": [
       "  0%|          | 0/6119 [00:00<?, ?it/s]"
      ]
     },
     "metadata": {},
     "output_type": "display_data"
    },
    {
     "name": "stdout",
     "output_type": "stream",
     "text": [
      " results:\n",
      "Mean square error: 0.24543\n",
      "Mean absolute error: 0.41672\n",
      "Mean absolute error in dollars: 12283.52233\n",
      "epoch: 17\n"
     ]
    },
    {
     "data": {
      "application/vnd.jupyter.widget-view+json": {
       "model_id": "d75cf4a3520140578238d56df4806e0c",
       "version_major": 2,
       "version_minor": 0
      },
      "text/plain": [
       "  0%|          | 0/6119 [00:00<?, ?it/s]"
      ]
     },
     "metadata": {},
     "output_type": "display_data"
    },
    {
     "name": "stdout",
     "output_type": "stream",
     "text": [
      " results:\n",
      "Mean square error: 0.16267\n",
      "Mean absolute error: 0.32177\n",
      "Mean absolute error in dollars: 10125.71018\n",
      "epoch: 18\n"
     ]
    },
    {
     "data": {
      "application/vnd.jupyter.widget-view+json": {
       "model_id": "f3f0688e111e4645ab0527d22480c175",
       "version_major": 2,
       "version_minor": 0
      },
      "text/plain": [
       "  0%|          | 0/6119 [00:00<?, ?it/s]"
      ]
     },
     "metadata": {},
     "output_type": "display_data"
    },
    {
     "name": "stdout",
     "output_type": "stream",
     "text": [
      " results:\n",
      "Mean square error: 0.20467\n",
      "Mean absolute error: 0.37498\n",
      "Mean absolute error in dollars: 11422.29129\n",
      "epoch: 19\n"
     ]
    },
    {
     "data": {
      "application/vnd.jupyter.widget-view+json": {
       "model_id": "95d7da93bc634503a1961d0b5cb4c7a2",
       "version_major": 2,
       "version_minor": 0
      },
      "text/plain": [
       "  0%|          | 0/6119 [00:00<?, ?it/s]"
      ]
     },
     "metadata": {},
     "output_type": "display_data"
    },
    {
     "name": "stdout",
     "output_type": "stream",
     "text": [
      " results:\n",
      "Mean square error: 0.09234\n",
      "Mean absolute error: 0.22880\n",
      "Mean absolute error in dollars: 7843.77563\n",
      "epoch: 20\n"
     ]
    },
    {
     "data": {
      "application/vnd.jupyter.widget-view+json": {
       "model_id": "2e16215fece646cabccac1fd67007d3d",
       "version_major": 2,
       "version_minor": 0
      },
      "text/plain": [
       "  0%|          | 0/6119 [00:00<?, ?it/s]"
      ]
     },
     "metadata": {},
     "output_type": "display_data"
    },
    {
     "name": "stdout",
     "output_type": "stream",
     "text": [
      " results:\n",
      "Mean square error: 0.11526\n",
      "Mean absolute error: 0.26166\n",
      "Mean absolute error in dollars: 8663.42509\n",
      "epoch: 21\n"
     ]
    },
    {
     "data": {
      "application/vnd.jupyter.widget-view+json": {
       "model_id": "067811dc24284b379b5021e65edfa13a",
       "version_major": 2,
       "version_minor": 0
      },
      "text/plain": [
       "  0%|          | 0/6119 [00:00<?, ?it/s]"
      ]
     },
     "metadata": {},
     "output_type": "display_data"
    },
    {
     "name": "stdout",
     "output_type": "stream",
     "text": [
      " results:\n",
      "Mean square error: 0.12943\n",
      "Mean absolute error: 0.28285\n",
      "Mean absolute error in dollars: 9106.64608\n",
      "epoch: 22\n"
     ]
    },
    {
     "data": {
      "application/vnd.jupyter.widget-view+json": {
       "model_id": "ca1662d80fc64ad68011ea81abadc249",
       "version_major": 2,
       "version_minor": 0
      },
      "text/plain": [
       "  0%|          | 0/6119 [00:00<?, ?it/s]"
      ]
     },
     "metadata": {},
     "output_type": "display_data"
    },
    {
     "name": "stdout",
     "output_type": "stream",
     "text": [
      " results:\n",
      "Mean square error: 0.09261\n",
      "Mean absolute error: 0.23001\n",
      "Mean absolute error in dollars: 7782.19095\n",
      "epoch: 23\n"
     ]
    },
    {
     "data": {
      "application/vnd.jupyter.widget-view+json": {
       "model_id": "4c3a4a795624459f87f9ee50cd122e01",
       "version_major": 2,
       "version_minor": 0
      },
      "text/plain": [
       "  0%|          | 0/6119 [00:00<?, ?it/s]"
      ]
     },
     "metadata": {},
     "output_type": "display_data"
    },
    {
     "name": "stdout",
     "output_type": "stream",
     "text": [
      " results:\n",
      "Mean square error: 0.09679\n",
      "Mean absolute error: 0.23608\n",
      "Mean absolute error in dollars: 7943.77089\n",
      "epoch: 24\n"
     ]
    },
    {
     "data": {
      "application/vnd.jupyter.widget-view+json": {
       "model_id": "166c8afde4bb439bb2984225af4876b0",
       "version_major": 2,
       "version_minor": 0
      },
      "text/plain": [
       "  0%|          | 0/6119 [00:00<?, ?it/s]"
      ]
     },
     "metadata": {},
     "output_type": "display_data"
    },
    {
     "name": "stdout",
     "output_type": "stream",
     "text": [
      " results:\n",
      "Mean square error: 0.15470\n",
      "Mean absolute error: 0.31510\n",
      "Mean absolute error in dollars: 9913.53842\n",
      "epoch: 25\n"
     ]
    },
    {
     "data": {
      "application/vnd.jupyter.widget-view+json": {
       "model_id": "9c8a192be52e4fddbf8c17887a7671a3",
       "version_major": 2,
       "version_minor": 0
      },
      "text/plain": [
       "  0%|          | 0/6119 [00:00<?, ?it/s]"
      ]
     },
     "metadata": {},
     "output_type": "display_data"
    },
    {
     "name": "stdout",
     "output_type": "stream",
     "text": [
      " results:\n",
      "Mean square error: 0.12850\n",
      "Mean absolute error: 0.28157\n",
      "Mean absolute error in dollars: 9172.99931\n",
      "epoch: 26\n"
     ]
    },
    {
     "data": {
      "application/vnd.jupyter.widget-view+json": {
       "model_id": "6d274c8e61094e8da08f0896a8669b37",
       "version_major": 2,
       "version_minor": 0
      },
      "text/plain": [
       "  0%|          | 0/6119 [00:00<?, ?it/s]"
      ]
     },
     "metadata": {},
     "output_type": "display_data"
    },
    {
     "name": "stdout",
     "output_type": "stream",
     "text": [
      " results:\n",
      "Mean square error: 0.10036\n",
      "Mean absolute error: 0.24212\n",
      "Mean absolute error in dollars: 8130.07346\n",
      "epoch: 27\n"
     ]
    },
    {
     "data": {
      "application/vnd.jupyter.widget-view+json": {
       "model_id": "1ac4ab1d08374254b584ed78be192e72",
       "version_major": 2,
       "version_minor": 0
      },
      "text/plain": [
       "  0%|          | 0/6119 [00:00<?, ?it/s]"
      ]
     },
     "metadata": {},
     "output_type": "display_data"
    },
    {
     "name": "stdout",
     "output_type": "stream",
     "text": [
      " results:\n",
      "Mean square error: 0.11159\n",
      "Mean absolute error: 0.25841\n",
      "Mean absolute error in dollars: 8566.98648\n",
      "epoch: 28\n"
     ]
    },
    {
     "data": {
      "application/vnd.jupyter.widget-view+json": {
       "model_id": "533d8349fe9d4608a6684e12afc1cb7e",
       "version_major": 2,
       "version_minor": 0
      },
      "text/plain": [
       "  0%|          | 0/6119 [00:00<?, ?it/s]"
      ]
     },
     "metadata": {},
     "output_type": "display_data"
    },
    {
     "name": "stdout",
     "output_type": "stream",
     "text": [
      " results:\n",
      "Mean square error: 0.08305\n",
      "Mean absolute error: 0.21681\n",
      "Mean absolute error in dollars: 7495.29632\n",
      "epoch: 29\n"
     ]
    },
    {
     "data": {
      "application/vnd.jupyter.widget-view+json": {
       "model_id": "88c4dd5a17fa4a85b1a8347b9a7ccc19",
       "version_major": 2,
       "version_minor": 0
      },
      "text/plain": [
       "  0%|          | 0/6119 [00:00<?, ?it/s]"
      ]
     },
     "metadata": {},
     "output_type": "display_data"
    },
    {
     "name": "stdout",
     "output_type": "stream",
     "text": [
      " results:\n",
      "Mean square error: 0.08201\n",
      "Mean absolute error: 0.21499\n",
      "Mean absolute error in dollars: 7391.77579\n",
      "epoch: 30\n"
     ]
    },
    {
     "data": {
      "application/vnd.jupyter.widget-view+json": {
       "model_id": "c1ac035f2687483fbf059a581233d1c5",
       "version_major": 2,
       "version_minor": 0
      },
      "text/plain": [
       "  0%|          | 0/6119 [00:00<?, ?it/s]"
      ]
     },
     "metadata": {},
     "output_type": "display_data"
    },
    {
     "name": "stdout",
     "output_type": "stream",
     "text": [
      " results:\n",
      "Mean square error: 0.10251\n",
      "Mean absolute error: 0.24568\n",
      "Mean absolute error in dollars: 8102.43870\n",
      "epoch: 31\n"
     ]
    },
    {
     "data": {
      "application/vnd.jupyter.widget-view+json": {
       "model_id": "812bfd0c3d284b9a9fbeb2e3d9a5bdda",
       "version_major": 2,
       "version_minor": 0
      },
      "text/plain": [
       "  0%|          | 0/6119 [00:00<?, ?it/s]"
      ]
     },
     "metadata": {},
     "output_type": "display_data"
    },
    {
     "name": "stdout",
     "output_type": "stream",
     "text": [
      " results:\n",
      "Mean square error: 0.09267\n",
      "Mean absolute error: 0.23129\n",
      "Mean absolute error in dollars: 7740.64469\n",
      "epoch: 32\n"
     ]
    },
    {
     "data": {
      "application/vnd.jupyter.widget-view+json": {
       "model_id": "2b4b07febb694c5ca95779370500380c",
       "version_major": 2,
       "version_minor": 0
      },
      "text/plain": [
       "  0%|          | 0/6119 [00:00<?, ?it/s]"
      ]
     },
     "metadata": {},
     "output_type": "display_data"
    },
    {
     "name": "stdout",
     "output_type": "stream",
     "text": [
      " results:\n",
      "Mean square error: 0.10553\n",
      "Mean absolute error: 0.25075\n",
      "Mean absolute error in dollars: 8201.76067\n",
      "epoch: 33\n"
     ]
    },
    {
     "data": {
      "application/vnd.jupyter.widget-view+json": {
       "model_id": "762134a11e6e44a29c5ef732797d5767",
       "version_major": 2,
       "version_minor": 0
      },
      "text/plain": [
       "  0%|          | 0/6119 [00:00<?, ?it/s]"
      ]
     },
     "metadata": {},
     "output_type": "display_data"
    },
    {
     "name": "stdout",
     "output_type": "stream",
     "text": [
      " results:\n",
      "Mean square error: 0.08683\n",
      "Mean absolute error: 0.22239\n",
      "Mean absolute error in dollars: 7590.92961\n",
      "epoch: 34\n"
     ]
    },
    {
     "data": {
      "application/vnd.jupyter.widget-view+json": {
       "model_id": "021084d3470441fc9f9d774f6548c2d4",
       "version_major": 2,
       "version_minor": 0
      },
      "text/plain": [
       "  0%|          | 0/6119 [00:00<?, ?it/s]"
      ]
     },
     "metadata": {},
     "output_type": "display_data"
    },
    {
     "name": "stdout",
     "output_type": "stream",
     "text": [
      " results:\n",
      "Mean square error: 0.10902\n",
      "Mean absolute error: 0.25561\n",
      "Mean absolute error in dollars: 8500.61364\n",
      "epoch: 35\n"
     ]
    },
    {
     "data": {
      "application/vnd.jupyter.widget-view+json": {
       "model_id": "659e2b83f0cb4975bedb77981e02fe6e",
       "version_major": 2,
       "version_minor": 0
      },
      "text/plain": [
       "  0%|          | 0/6119 [00:00<?, ?it/s]"
      ]
     },
     "metadata": {},
     "output_type": "display_data"
    },
    {
     "name": "stdout",
     "output_type": "stream",
     "text": [
      " results:\n",
      "Mean square error: 0.11206\n",
      "Mean absolute error: 0.26015\n",
      "Mean absolute error in dollars: 8606.32267\n",
      "epoch: 36\n"
     ]
    },
    {
     "data": {
      "application/vnd.jupyter.widget-view+json": {
       "model_id": "b371626b3b6a48ce931500f9e6966ab7",
       "version_major": 2,
       "version_minor": 0
      },
      "text/plain": [
       "  0%|          | 0/6119 [00:00<?, ?it/s]"
      ]
     },
     "metadata": {},
     "output_type": "display_data"
    },
    {
     "name": "stdout",
     "output_type": "stream",
     "text": [
      " results:\n",
      "Mean square error: 0.08245\n",
      "Mean absolute error: 0.21651\n",
      "Mean absolute error in dollars: 7714.34931\n",
      "epoch: 37\n"
     ]
    },
    {
     "data": {
      "application/vnd.jupyter.widget-view+json": {
       "model_id": "1743a52e70d74f87a2551394f9aa638e",
       "version_major": 2,
       "version_minor": 0
      },
      "text/plain": [
       "  0%|          | 0/6119 [00:00<?, ?it/s]"
      ]
     },
     "metadata": {},
     "output_type": "display_data"
    },
    {
     "name": "stdout",
     "output_type": "stream",
     "text": [
      " results:\n",
      "Mean square error: 0.09959\n",
      "Mean absolute error: 0.24221\n",
      "Mean absolute error in dollars: 8127.49667\n",
      "epoch: 38\n"
     ]
    },
    {
     "data": {
      "application/vnd.jupyter.widget-view+json": {
       "model_id": "2aeba0de615947af816ae15a2d683caa",
       "version_major": 2,
       "version_minor": 0
      },
      "text/plain": [
       "  0%|          | 0/6119 [00:00<?, ?it/s]"
      ]
     },
     "metadata": {},
     "output_type": "display_data"
    },
    {
     "name": "stdout",
     "output_type": "stream",
     "text": [
      " results:\n",
      "Mean square error: 0.08197\n",
      "Mean absolute error: 0.21501\n",
      "Mean absolute error in dollars: 7400.36835\n",
      "epoch: 39\n"
     ]
    },
    {
     "data": {
      "application/vnd.jupyter.widget-view+json": {
       "model_id": "2dbf072b80214b1ba83df57a7ba29b91",
       "version_major": 2,
       "version_minor": 0
      },
      "text/plain": [
       "  0%|          | 0/6119 [00:00<?, ?it/s]"
      ]
     },
     "metadata": {},
     "output_type": "display_data"
    },
    {
     "name": "stdout",
     "output_type": "stream",
     "text": [
      " results:\n",
      "Mean square error: 0.08016\n",
      "Mean absolute error: 0.21238\n",
      "Mean absolute error in dollars: 7324.30020\n",
      "epoch: 40\n"
     ]
    },
    {
     "data": {
      "application/vnd.jupyter.widget-view+json": {
       "model_id": "af0bf151c9d2439b9b548d9ec65d48d5",
       "version_major": 2,
       "version_minor": 0
      },
      "text/plain": [
       "  0%|          | 0/6119 [00:00<?, ?it/s]"
      ]
     },
     "metadata": {},
     "output_type": "display_data"
    },
    {
     "name": "stdout",
     "output_type": "stream",
     "text": [
      " results:\n",
      "Mean square error: 0.08658\n",
      "Mean absolute error: 0.22231\n",
      "Mean absolute error in dollars: 7547.05822\n",
      "epoch: 41\n"
     ]
    },
    {
     "data": {
      "application/vnd.jupyter.widget-view+json": {
       "model_id": "144d5f541f104fdd802584e6dfb78163",
       "version_major": 2,
       "version_minor": 0
      },
      "text/plain": [
       "  0%|          | 0/6119 [00:00<?, ?it/s]"
      ]
     },
     "metadata": {},
     "output_type": "display_data"
    },
    {
     "name": "stdout",
     "output_type": "stream",
     "text": [
      " results:\n",
      "Mean square error: 0.10227\n",
      "Mean absolute error: 0.24605\n",
      "Mean absolute error in dollars: 8219.04907\n",
      "epoch: 42\n"
     ]
    },
    {
     "data": {
      "application/vnd.jupyter.widget-view+json": {
       "model_id": "36cc143336d94bf9b192976e6252d35f",
       "version_major": 2,
       "version_minor": 0
      },
      "text/plain": [
       "  0%|          | 0/6119 [00:00<?, ?it/s]"
      ]
     },
     "metadata": {},
     "output_type": "display_data"
    },
    {
     "name": "stdout",
     "output_type": "stream",
     "text": [
      " results:\n",
      "Mean square error: 0.08681\n",
      "Mean absolute error: 0.22264\n",
      "Mean absolute error in dollars: 7573.28954\n",
      "epoch: 43\n"
     ]
    },
    {
     "data": {
      "application/vnd.jupyter.widget-view+json": {
       "model_id": "ef3834df77e24eada692d1374e2a6dd5",
       "version_major": 2,
       "version_minor": 0
      },
      "text/plain": [
       "  0%|          | 0/6119 [00:00<?, ?it/s]"
      ]
     },
     "metadata": {},
     "output_type": "display_data"
    },
    {
     "name": "stdout",
     "output_type": "stream",
     "text": [
      " results:\n",
      "Mean square error: 0.08086\n",
      "Mean absolute error: 0.21333\n",
      "Mean absolute error in dollars: 7324.10671\n",
      "epoch: 44\n"
     ]
    },
    {
     "data": {
      "application/vnd.jupyter.widget-view+json": {
       "model_id": "620480e349404b2c95f1a098c02481f1",
       "version_major": 2,
       "version_minor": 0
      },
      "text/plain": [
       "  0%|          | 0/6119 [00:00<?, ?it/s]"
      ]
     },
     "metadata": {},
     "output_type": "display_data"
    },
    {
     "name": "stdout",
     "output_type": "stream",
     "text": [
      " results:\n",
      "Mean square error: 0.07967\n",
      "Mean absolute error: 0.21112\n",
      "Mean absolute error in dollars: 7263.47771\n",
      "epoch: 45\n"
     ]
    },
    {
     "data": {
      "application/vnd.jupyter.widget-view+json": {
       "model_id": "9f4522465d9e40c7870d4b29ecb3e5da",
       "version_major": 2,
       "version_minor": 0
      },
      "text/plain": [
       "  0%|          | 0/6119 [00:00<?, ?it/s]"
      ]
     },
     "metadata": {},
     "output_type": "display_data"
    },
    {
     "name": "stdout",
     "output_type": "stream",
     "text": [
      " results:\n",
      "Mean square error: 0.09194\n",
      "Mean absolute error: 0.23077\n",
      "Mean absolute error in dollars: 7826.97553\n",
      "epoch: 46\n"
     ]
    },
    {
     "data": {
      "application/vnd.jupyter.widget-view+json": {
       "model_id": "48a44d7e9fbf4d828df251998b571a2a",
       "version_major": 2,
       "version_minor": 0
      },
      "text/plain": [
       "  0%|          | 0/6119 [00:00<?, ?it/s]"
      ]
     },
     "metadata": {},
     "output_type": "display_data"
    },
    {
     "name": "stdout",
     "output_type": "stream",
     "text": [
      " results:\n",
      "Mean square error: 0.08167\n",
      "Mean absolute error: 0.21503\n",
      "Mean absolute error in dollars: 7350.77926\n",
      "epoch: 47\n"
     ]
    },
    {
     "data": {
      "application/vnd.jupyter.widget-view+json": {
       "model_id": "f5c3ee1d90534555a89862d13aac9b87",
       "version_major": 2,
       "version_minor": 0
      },
      "text/plain": [
       "  0%|          | 0/6119 [00:00<?, ?it/s]"
      ]
     },
     "metadata": {},
     "output_type": "display_data"
    },
    {
     "name": "stdout",
     "output_type": "stream",
     "text": [
      " results:\n",
      "Mean square error: 0.07557\n",
      "Mean absolute error: 0.20474\n",
      "Mean absolute error in dollars: 7099.17784\n",
      "epoch: 48\n"
     ]
    },
    {
     "data": {
      "application/vnd.jupyter.widget-view+json": {
       "model_id": "8f7bda62697e4577949c68440a85b650",
       "version_major": 2,
       "version_minor": 0
      },
      "text/plain": [
       "  0%|          | 0/6119 [00:00<?, ?it/s]"
      ]
     },
     "metadata": {},
     "output_type": "display_data"
    },
    {
     "name": "stdout",
     "output_type": "stream",
     "text": [
      " results:\n",
      "Mean square error: 0.08616\n",
      "Mean absolute error: 0.22210\n",
      "Mean absolute error in dollars: 7551.51432\n",
      "epoch: 49\n"
     ]
    },
    {
     "data": {
      "application/vnd.jupyter.widget-view+json": {
       "model_id": "ec99ef8ca8e04cd1a0ac332af5833244",
       "version_major": 2,
       "version_minor": 0
      },
      "text/plain": [
       "  0%|          | 0/6119 [00:00<?, ?it/s]"
      ]
     },
     "metadata": {},
     "output_type": "display_data"
    },
    {
     "name": "stdout",
     "output_type": "stream",
     "text": [
      " results:\n",
      "Mean square error: 0.07736\n",
      "Mean absolute error: 0.20792\n",
      "Mean absolute error in dollars: 7166.52204\n"
     ]
    }
   ],
   "source": [
    "criterion = nn.MSELoss(reduction='sum')\n",
    "# The best set of optimizer hyperparameters\n",
    "model = SalaryPredictor()\n",
    "# The loaded weights are a combination of randomly initialized layers\n",
    "# and a pretrained embedding layer\n",
    "model.load_state_dict(torch.load(initial_weights_path))\n",
    "model = model.to('cuda')\n",
    "# optimizer = torch.optim.SGD(model.parameters(), lr=1e-4, weight_decay=0.01, momentum=0.1)\n",
    "optimizer = torch.optim.SGD(model.parameters(), lr=1e-4)\n",
    "scheduler = torch.optim.lr_scheduler.ReduceLROnPlateau(optimizer, 'min', factor=0.8, patience=5)\n",
    "\n",
    "\n",
    "for epoch in range(EPOCHS):\n",
    "    print(f\"epoch: {epoch}\")\n",
    "    model.train()\n",
    "    for i, batch in tqdm(enumerate(\n",
    "            iterate_minibatches(data_train, batch_size=BATCH_SIZE, device=device, word_dropout=0.4)),\n",
    "            total=len(data_train) // BATCH_SIZE\n",
    "        ):\n",
    "        optimizer.zero_grad()\n",
    "        pred = model(batch)\n",
    "        loss = criterion(pred, batch[TARGET_COLUMN])\n",
    "        loss.backward()\n",
    "        # torch.nn.utils.clip_grad_norm_(model.parameters(), max_norm=1.0) # might be reduntant\n",
    "        optimizer.step()\n",
    "        \n",
    "    print_metrics(model, data_val, device=device)\n",
    "    val_mse = get_mse(model, data_val, device=device)\n",
    "    scheduler.step(val_mse)"
   ]
  },
  {
   "cell_type": "code",
   "execution_count": 19,
   "metadata": {},
   "outputs": [
    {
     "name": "stdout",
     "output_type": "stream",
     "text": [
      "epoch: 0\n"
     ]
    },
    {
     "data": {
      "application/vnd.jupyter.widget-view+json": {
       "model_id": "61b73d62103d46c096c31691a03a6b6d",
       "version_major": 2,
       "version_minor": 0
      },
      "text/plain": [
       "  0%|          | 0/6119 [00:00<?, ?it/s]"
      ]
     },
     "metadata": {},
     "output_type": "display_data"
    },
    {
     "name": "stdout",
     "output_type": "stream",
     "text": [
      " results:\n",
      "Mean square error: 0.08082\n",
      "Mean absolute error: 0.21347\n",
      "Mean absolute error in dollars: 7277.87229\n",
      "epoch: 1\n"
     ]
    },
    {
     "data": {
      "application/vnd.jupyter.widget-view+json": {
       "model_id": "7f805cbc9b8a4ecb9d39e62499851344",
       "version_major": 2,
       "version_minor": 0
      },
      "text/plain": [
       "  0%|          | 0/6119 [00:00<?, ?it/s]"
      ]
     },
     "metadata": {},
     "output_type": "display_data"
    },
    {
     "name": "stdout",
     "output_type": "stream",
     "text": [
      " results:\n",
      "Mean square error: 0.08065\n",
      "Mean absolute error: 0.21465\n",
      "Mean absolute error in dollars: 7619.09515\n",
      "epoch: 2\n"
     ]
    },
    {
     "data": {
      "application/vnd.jupyter.widget-view+json": {
       "model_id": "79c53ca0013d46669ae0ded59b60e666",
       "version_major": 2,
       "version_minor": 0
      },
      "text/plain": [
       "  0%|          | 0/6119 [00:00<?, ?it/s]"
      ]
     },
     "metadata": {},
     "output_type": "display_data"
    },
    {
     "name": "stdout",
     "output_type": "stream",
     "text": [
      " results:\n",
      "Mean square error: 0.08391\n",
      "Mean absolute error: 0.21834\n",
      "Mean absolute error in dollars: 7442.22184\n",
      "epoch: 3\n"
     ]
    },
    {
     "data": {
      "application/vnd.jupyter.widget-view+json": {
       "model_id": "2c4cc10d27ff4e5aa66e4dfbb133aeb9",
       "version_major": 2,
       "version_minor": 0
      },
      "text/plain": [
       "  0%|          | 0/6119 [00:00<?, ?it/s]"
      ]
     },
     "metadata": {},
     "output_type": "display_data"
    },
    {
     "name": "stdout",
     "output_type": "stream",
     "text": [
      " results:\n",
      "Mean square error: 0.07709\n",
      "Mean absolute error: 0.20761\n",
      "Mean absolute error in dollars: 7171.60502\n",
      "epoch: 4\n"
     ]
    },
    {
     "data": {
      "application/vnd.jupyter.widget-view+json": {
       "model_id": "582aa02dd9cc4f329c9ee17704921bae",
       "version_major": 2,
       "version_minor": 0
      },
      "text/plain": [
       "  0%|          | 0/6119 [00:00<?, ?it/s]"
      ]
     },
     "metadata": {},
     "output_type": "display_data"
    },
    {
     "name": "stdout",
     "output_type": "stream",
     "text": [
      " results:\n",
      "Mean square error: 0.07452\n",
      "Mean absolute error: 0.20320\n",
      "Mean absolute error in dollars: 7072.99882\n",
      "epoch: 5\n"
     ]
    },
    {
     "data": {
      "application/vnd.jupyter.widget-view+json": {
       "model_id": "25f3426a2cb24e80bb7d38d04818c204",
       "version_major": 2,
       "version_minor": 0
      },
      "text/plain": [
       "  0%|          | 0/6119 [00:00<?, ?it/s]"
      ]
     },
     "metadata": {},
     "output_type": "display_data"
    },
    {
     "name": "stdout",
     "output_type": "stream",
     "text": [
      " results:\n",
      "Mean square error: 0.08010\n",
      "Mean absolute error: 0.21228\n",
      "Mean absolute error in dollars: 7320.72133\n",
      "epoch: 6\n"
     ]
    },
    {
     "data": {
      "application/vnd.jupyter.widget-view+json": {
       "model_id": "692ca4ad8759481688fe324c164d6fc5",
       "version_major": 2,
       "version_minor": 0
      },
      "text/plain": [
       "  0%|          | 0/6119 [00:00<?, ?it/s]"
      ]
     },
     "metadata": {},
     "output_type": "display_data"
    },
    {
     "name": "stdout",
     "output_type": "stream",
     "text": [
      " results:\n",
      "Mean square error: 0.07979\n",
      "Mean absolute error: 0.21172\n",
      "Mean absolute error in dollars: 7274.81767\n",
      "epoch: 7\n"
     ]
    },
    {
     "data": {
      "application/vnd.jupyter.widget-view+json": {
       "model_id": "1fd15b2e6e0a4ac19fc7d22f2fa2484a",
       "version_major": 2,
       "version_minor": 0
      },
      "text/plain": [
       "  0%|          | 0/6119 [00:00<?, ?it/s]"
      ]
     },
     "metadata": {},
     "output_type": "display_data"
    },
    {
     "name": "stdout",
     "output_type": "stream",
     "text": [
      " results:\n",
      "Mean square error: 0.07456\n",
      "Mean absolute error: 0.20342\n",
      "Mean absolute error in dollars: 7051.41251\n",
      "epoch: 8\n"
     ]
    },
    {
     "data": {
      "application/vnd.jupyter.widget-view+json": {
       "model_id": "01da06e7400c42b29da2a8b6af89bac5",
       "version_major": 2,
       "version_minor": 0
      },
      "text/plain": [
       "  0%|          | 0/6119 [00:00<?, ?it/s]"
      ]
     },
     "metadata": {},
     "output_type": "display_data"
    },
    {
     "name": "stdout",
     "output_type": "stream",
     "text": [
      " results:\n",
      "Mean square error: 0.08490\n",
      "Mean absolute error: 0.22020\n",
      "Mean absolute error in dollars: 7477.05879\n",
      "epoch: 9\n"
     ]
    },
    {
     "data": {
      "application/vnd.jupyter.widget-view+json": {
       "model_id": "03a20dc0deab409a95a3c5ff13d5ea5b",
       "version_major": 2,
       "version_minor": 0
      },
      "text/plain": [
       "  0%|          | 0/6119 [00:00<?, ?it/s]"
      ]
     },
     "metadata": {},
     "output_type": "display_data"
    },
    {
     "name": "stdout",
     "output_type": "stream",
     "text": [
      " results:\n",
      "Mean square error: 0.07452\n",
      "Mean absolute error: 0.20329\n",
      "Mean absolute error in dollars: 7044.81954\n",
      "epoch: 10\n"
     ]
    },
    {
     "data": {
      "application/vnd.jupyter.widget-view+json": {
       "model_id": "29ff694495644d48b179e94e93600da9",
       "version_major": 2,
       "version_minor": 0
      },
      "text/plain": [
       "  0%|          | 0/6119 [00:00<?, ?it/s]"
      ]
     },
     "metadata": {},
     "output_type": "display_data"
    },
    {
     "name": "stdout",
     "output_type": "stream",
     "text": [
      " results:\n",
      "Mean square error: 0.09221\n",
      "Mean absolute error: 0.23197\n",
      "Mean absolute error in dollars: 7803.65306\n",
      "epoch: 11\n"
     ]
    },
    {
     "data": {
      "application/vnd.jupyter.widget-view+json": {
       "model_id": "aff0695b257f4989bdc1745365c7e797",
       "version_major": 2,
       "version_minor": 0
      },
      "text/plain": [
       "  0%|          | 0/6119 [00:00<?, ?it/s]"
      ]
     },
     "metadata": {},
     "output_type": "display_data"
    },
    {
     "name": "stdout",
     "output_type": "stream",
     "text": [
      " results:\n",
      "Mean square error: 0.07473\n",
      "Mean absolute error: 0.20358\n",
      "Mean absolute error in dollars: 7068.55252\n",
      "epoch: 12\n"
     ]
    },
    {
     "data": {
      "application/vnd.jupyter.widget-view+json": {
       "model_id": "bd36d7d037734f03b6b5437065acd9ce",
       "version_major": 2,
       "version_minor": 0
      },
      "text/plain": [
       "  0%|          | 0/6119 [00:00<?, ?it/s]"
      ]
     },
     "metadata": {},
     "output_type": "display_data"
    },
    {
     "name": "stdout",
     "output_type": "stream",
     "text": [
      " results:\n",
      "Mean square error: 0.07335\n",
      "Mean absolute error: 0.20196\n",
      "Mean absolute error in dollars: 7004.30347\n",
      "epoch: 13\n"
     ]
    },
    {
     "data": {
      "application/vnd.jupyter.widget-view+json": {
       "model_id": "57fcdb5f8a8c4830a2bed840f725f399",
       "version_major": 2,
       "version_minor": 0
      },
      "text/plain": [
       "  0%|          | 0/6119 [00:00<?, ?it/s]"
      ]
     },
     "metadata": {},
     "output_type": "display_data"
    },
    {
     "name": "stdout",
     "output_type": "stream",
     "text": [
      " results:\n",
      "Mean square error: 0.08046\n",
      "Mean absolute error: 0.21341\n",
      "Mean absolute error in dollars: 7289.28480\n",
      "epoch: 14\n"
     ]
    },
    {
     "data": {
      "application/vnd.jupyter.widget-view+json": {
       "model_id": "20a5696a520547e8bf30116bcab491c7",
       "version_major": 2,
       "version_minor": 0
      },
      "text/plain": [
       "  0%|          | 0/6119 [00:00<?, ?it/s]"
      ]
     },
     "metadata": {},
     "output_type": "display_data"
    },
    {
     "name": "stdout",
     "output_type": "stream",
     "text": [
      " results:\n",
      "Mean square error: 0.08112\n",
      "Mean absolute error: 0.21422\n",
      "Mean absolute error in dollars: 7339.30008\n",
      "epoch: 15\n"
     ]
    },
    {
     "data": {
      "application/vnd.jupyter.widget-view+json": {
       "model_id": "73de8542c537432a84e84e4fc8efcead",
       "version_major": 2,
       "version_minor": 0
      },
      "text/plain": [
       "  0%|          | 0/6119 [00:00<?, ?it/s]"
      ]
     },
     "metadata": {},
     "output_type": "display_data"
    },
    {
     "name": "stdout",
     "output_type": "stream",
     "text": [
      " results:\n",
      "Mean square error: 0.07331\n",
      "Mean absolute error: 0.20186\n",
      "Mean absolute error in dollars: 7020.85909\n",
      "epoch: 16\n"
     ]
    },
    {
     "data": {
      "application/vnd.jupyter.widget-view+json": {
       "model_id": "ee2f0fe0795c4ae0b6ceed655553cee4",
       "version_major": 2,
       "version_minor": 0
      },
      "text/plain": [
       "  0%|          | 0/6119 [00:00<?, ?it/s]"
      ]
     },
     "metadata": {},
     "output_type": "display_data"
    },
    {
     "name": "stdout",
     "output_type": "stream",
     "text": [
      " results:\n",
      "Mean square error: 0.07349\n",
      "Mean absolute error: 0.20228\n",
      "Mean absolute error in dollars: 7050.74642\n",
      "epoch: 17\n"
     ]
    },
    {
     "data": {
      "application/vnd.jupyter.widget-view+json": {
       "model_id": "f810a97ee0a942fda7d56a43d62fd2de",
       "version_major": 2,
       "version_minor": 0
      },
      "text/plain": [
       "  0%|          | 0/6119 [00:00<?, ?it/s]"
      ]
     },
     "metadata": {},
     "output_type": "display_data"
    },
    {
     "name": "stdout",
     "output_type": "stream",
     "text": [
      " results:\n",
      "Mean square error: 0.08037\n",
      "Mean absolute error: 0.21340\n",
      "Mean absolute error in dollars: 7282.80623\n",
      "epoch: 18\n"
     ]
    },
    {
     "data": {
      "application/vnd.jupyter.widget-view+json": {
       "model_id": "1d88b7cb77d54465b9a41f8eb6768428",
       "version_major": 2,
       "version_minor": 0
      },
      "text/plain": [
       "  0%|          | 0/6119 [00:00<?, ?it/s]"
      ]
     },
     "metadata": {},
     "output_type": "display_data"
    },
    {
     "name": "stdout",
     "output_type": "stream",
     "text": [
      " results:\n",
      "Mean square error: 0.08261\n",
      "Mean absolute error: 0.21689\n",
      "Mean absolute error in dollars: 7393.10144\n",
      "epoch: 19\n"
     ]
    },
    {
     "data": {
      "application/vnd.jupyter.widget-view+json": {
       "model_id": "f24dfe15a3a74eefbd95e0a3ef570160",
       "version_major": 2,
       "version_minor": 0
      },
      "text/plain": [
       "  0%|          | 0/6119 [00:00<?, ?it/s]"
      ]
     },
     "metadata": {},
     "output_type": "display_data"
    },
    {
     "name": "stdout",
     "output_type": "stream",
     "text": [
      " results:\n",
      "Mean square error: 0.08288\n",
      "Mean absolute error: 0.21690\n",
      "Mean absolute error in dollars: 7500.20869\n",
      "epoch: 20\n"
     ]
    },
    {
     "data": {
      "application/vnd.jupyter.widget-view+json": {
       "model_id": "3f38df0963a44dbf9e290cbc7a65f103",
       "version_major": 2,
       "version_minor": 0
      },
      "text/plain": [
       "  0%|          | 0/6119 [00:00<?, ?it/s]"
      ]
     },
     "metadata": {},
     "output_type": "display_data"
    },
    {
     "name": "stdout",
     "output_type": "stream",
     "text": [
      " results:\n",
      "Mean square error: 0.07371\n",
      "Mean absolute error: 0.20222\n",
      "Mean absolute error in dollars: 7001.51751\n",
      "epoch: 21\n"
     ]
    },
    {
     "data": {
      "application/vnd.jupyter.widget-view+json": {
       "model_id": "103da99a2e7b451d8913f0c3d0c60796",
       "version_major": 2,
       "version_minor": 0
      },
      "text/plain": [
       "  0%|          | 0/6119 [00:00<?, ?it/s]"
      ]
     },
     "metadata": {},
     "output_type": "display_data"
    },
    {
     "name": "stdout",
     "output_type": "stream",
     "text": [
      " results:\n",
      "Mean square error: 0.08192\n",
      "Mean absolute error: 0.21588\n",
      "Mean absolute error in dollars: 7367.16297\n",
      "epoch: 22\n"
     ]
    },
    {
     "data": {
      "application/vnd.jupyter.widget-view+json": {
       "model_id": "d967ff29b0f94d819ced57c8f8b938a0",
       "version_major": 2,
       "version_minor": 0
      },
      "text/plain": [
       "  0%|          | 0/6119 [00:00<?, ?it/s]"
      ]
     },
     "metadata": {},
     "output_type": "display_data"
    },
    {
     "name": "stdout",
     "output_type": "stream",
     "text": [
      " results:\n",
      "Mean square error: 0.07375\n",
      "Mean absolute error: 0.20245\n",
      "Mean absolute error in dollars: 7000.65073\n",
      "epoch: 23\n"
     ]
    },
    {
     "data": {
      "application/vnd.jupyter.widget-view+json": {
       "model_id": "4edcf7a560c24ecb818d4c834b74ac28",
       "version_major": 2,
       "version_minor": 0
      },
      "text/plain": [
       "  0%|          | 0/6119 [00:00<?, ?it/s]"
      ]
     },
     "metadata": {},
     "output_type": "display_data"
    },
    {
     "name": "stdout",
     "output_type": "stream",
     "text": [
      " results:\n",
      "Mean square error: 0.07417\n",
      "Mean absolute error: 0.20293\n",
      "Mean absolute error in dollars: 7018.04437\n",
      "epoch: 24\n"
     ]
    },
    {
     "data": {
      "application/vnd.jupyter.widget-view+json": {
       "model_id": "681e0a2def3e426c98bffedc344bc225",
       "version_major": 2,
       "version_minor": 0
      },
      "text/plain": [
       "  0%|          | 0/6119 [00:00<?, ?it/s]"
      ]
     },
     "metadata": {},
     "output_type": "display_data"
    },
    {
     "name": "stdout",
     "output_type": "stream",
     "text": [
      " results:\n",
      "Mean square error: 0.07608\n",
      "Mean absolute error: 0.20600\n",
      "Mean absolute error in dollars: 7100.70940\n",
      "epoch: 25\n"
     ]
    },
    {
     "data": {
      "application/vnd.jupyter.widget-view+json": {
       "model_id": "f1a20b675c694cfcab28637fc8a4a724",
       "version_major": 2,
       "version_minor": 0
      },
      "text/plain": [
       "  0%|          | 0/6119 [00:00<?, ?it/s]"
      ]
     },
     "metadata": {},
     "output_type": "display_data"
    },
    {
     "name": "stdout",
     "output_type": "stream",
     "text": [
      " results:\n",
      "Mean square error: 0.07660\n",
      "Mean absolute error: 0.20695\n",
      "Mean absolute error in dollars: 7103.40123\n",
      "epoch: 26\n"
     ]
    },
    {
     "data": {
      "application/vnd.jupyter.widget-view+json": {
       "model_id": "b0e0cc3b75714f669db866135adc88b5",
       "version_major": 2,
       "version_minor": 0
      },
      "text/plain": [
       "  0%|          | 0/6119 [00:00<?, ?it/s]"
      ]
     },
     "metadata": {},
     "output_type": "display_data"
    },
    {
     "name": "stdout",
     "output_type": "stream",
     "text": [
      " results:\n",
      "Mean square error: 0.08101\n",
      "Mean absolute error: 0.21480\n",
      "Mean absolute error in dollars: 7303.10675\n",
      "epoch: 27\n"
     ]
    },
    {
     "data": {
      "application/vnd.jupyter.widget-view+json": {
       "model_id": "80ba364f17394f7eac0131af9f252883",
       "version_major": 2,
       "version_minor": 0
      },
      "text/plain": [
       "  0%|          | 0/6119 [00:00<?, ?it/s]"
      ]
     },
     "metadata": {},
     "output_type": "display_data"
    },
    {
     "name": "stdout",
     "output_type": "stream",
     "text": [
      " results:\n",
      "Mean square error: 0.09063\n",
      "Mean absolute error: 0.23011\n",
      "Mean absolute error in dollars: 7743.99804\n",
      "epoch: 28\n"
     ]
    },
    {
     "data": {
      "application/vnd.jupyter.widget-view+json": {
       "model_id": "c4ca5bb9837540b2a58d2480998ab141",
       "version_major": 2,
       "version_minor": 0
      },
      "text/plain": [
       "  0%|          | 0/6119 [00:00<?, ?it/s]"
      ]
     },
     "metadata": {},
     "output_type": "display_data"
    },
    {
     "name": "stdout",
     "output_type": "stream",
     "text": [
      " results:\n",
      "Mean square error: 0.08164\n",
      "Mean absolute error: 0.21555\n",
      "Mean absolute error in dollars: 7371.30204\n",
      "epoch: 29\n"
     ]
    },
    {
     "data": {
      "application/vnd.jupyter.widget-view+json": {
       "model_id": "f32ca673295742d182ac5682f797017a",
       "version_major": 2,
       "version_minor": 0
      },
      "text/plain": [
       "  0%|          | 0/6119 [00:00<?, ?it/s]"
      ]
     },
     "metadata": {},
     "output_type": "display_data"
    },
    {
     "name": "stdout",
     "output_type": "stream",
     "text": [
      " results:\n",
      "Mean square error: 0.07871\n",
      "Mean absolute error: 0.21098\n",
      "Mean absolute error in dollars: 7214.75998\n",
      "epoch: 30\n"
     ]
    },
    {
     "data": {
      "application/vnd.jupyter.widget-view+json": {
       "model_id": "b357ef91852948efb70071f1c31e25c7",
       "version_major": 2,
       "version_minor": 0
      },
      "text/plain": [
       "  0%|          | 0/6119 [00:00<?, ?it/s]"
      ]
     },
     "metadata": {},
     "output_type": "display_data"
    },
    {
     "name": "stdout",
     "output_type": "stream",
     "text": [
      " results:\n",
      "Mean square error: 0.09236\n",
      "Mean absolute error: 0.23343\n",
      "Mean absolute error in dollars: 7783.25122\n",
      "epoch: 31\n"
     ]
    },
    {
     "data": {
      "application/vnd.jupyter.widget-view+json": {
       "model_id": "afc3c1cf7f94465196582ac45b51a092",
       "version_major": 2,
       "version_minor": 0
      },
      "text/plain": [
       "  0%|          | 0/6119 [00:00<?, ?it/s]"
      ]
     },
     "metadata": {},
     "output_type": "display_data"
    },
    {
     "name": "stdout",
     "output_type": "stream",
     "text": [
      " results:\n",
      "Mean square error: 0.07758\n",
      "Mean absolute error: 0.20901\n",
      "Mean absolute error in dollars: 7171.95081\n",
      "epoch: 32\n"
     ]
    },
    {
     "data": {
      "application/vnd.jupyter.widget-view+json": {
       "model_id": "3f5b5057a408463fbaa0ef608af41380",
       "version_major": 2,
       "version_minor": 0
      },
      "text/plain": [
       "  0%|          | 0/6119 [00:00<?, ?it/s]"
      ]
     },
     "metadata": {},
     "output_type": "display_data"
    },
    {
     "name": "stdout",
     "output_type": "stream",
     "text": [
      " results:\n",
      "Mean square error: 0.08183\n",
      "Mean absolute error: 0.21580\n",
      "Mean absolute error in dollars: 7413.70658\n",
      "epoch: 33\n"
     ]
    },
    {
     "data": {
      "application/vnd.jupyter.widget-view+json": {
       "model_id": "d7ad323548c342678f41f845bee9fa8c",
       "version_major": 2,
       "version_minor": 0
      },
      "text/plain": [
       "  0%|          | 0/6119 [00:00<?, ?it/s]"
      ]
     },
     "metadata": {},
     "output_type": "display_data"
    },
    {
     "name": "stdout",
     "output_type": "stream",
     "text": [
      " results:\n",
      "Mean square error: 0.07193\n",
      "Mean absolute error: 0.19904\n",
      "Mean absolute error in dollars: 6932.27634\n",
      "epoch: 34\n"
     ]
    },
    {
     "data": {
      "application/vnd.jupyter.widget-view+json": {
       "model_id": "f8c96a61dcd148d5b87bce07e2fdd393",
       "version_major": 2,
       "version_minor": 0
      },
      "text/plain": [
       "  0%|          | 0/6119 [00:00<?, ?it/s]"
      ]
     },
     "metadata": {},
     "output_type": "display_data"
    },
    {
     "name": "stdout",
     "output_type": "stream",
     "text": [
      " results:\n",
      "Mean square error: 0.07749\n",
      "Mean absolute error: 0.20859\n",
      "Mean absolute error in dollars: 7165.85399\n",
      "epoch: 35\n"
     ]
    },
    {
     "data": {
      "application/vnd.jupyter.widget-view+json": {
       "model_id": "510e27a1db2144c58f40803de1e76c46",
       "version_major": 2,
       "version_minor": 0
      },
      "text/plain": [
       "  0%|          | 0/6119 [00:00<?, ?it/s]"
      ]
     },
     "metadata": {},
     "output_type": "display_data"
    },
    {
     "name": "stdout",
     "output_type": "stream",
     "text": [
      " results:\n",
      "Mean square error: 0.08278\n",
      "Mean absolute error: 0.21771\n",
      "Mean absolute error in dollars: 7410.61731\n",
      "epoch: 36\n"
     ]
    },
    {
     "data": {
      "application/vnd.jupyter.widget-view+json": {
       "model_id": "36519e5be810474584a75a055ddb7c2f",
       "version_major": 2,
       "version_minor": 0
      },
      "text/plain": [
       "  0%|          | 0/6119 [00:00<?, ?it/s]"
      ]
     },
     "metadata": {},
     "output_type": "display_data"
    },
    {
     "name": "stdout",
     "output_type": "stream",
     "text": [
      " results:\n",
      "Mean square error: 0.08499\n",
      "Mean absolute error: 0.22161\n",
      "Mean absolute error in dollars: 7483.18634\n",
      "epoch: 37\n"
     ]
    },
    {
     "data": {
      "application/vnd.jupyter.widget-view+json": {
       "model_id": "1e6e5a93565e420bb370ca1a916307ac",
       "version_major": 2,
       "version_minor": 0
      },
      "text/plain": [
       "  0%|          | 0/6119 [00:00<?, ?it/s]"
      ]
     },
     "metadata": {},
     "output_type": "display_data"
    },
    {
     "name": "stdout",
     "output_type": "stream",
     "text": [
      " results:\n",
      "Mean square error: 0.10008\n",
      "Mean absolute error: 0.24547\n",
      "Mean absolute error in dollars: 8155.50337\n",
      "epoch: 38\n"
     ]
    },
    {
     "data": {
      "application/vnd.jupyter.widget-view+json": {
       "model_id": "3d1737606cd04b62a0bc1c2b30f6f86a",
       "version_major": 2,
       "version_minor": 0
      },
      "text/plain": [
       "  0%|          | 0/6119 [00:00<?, ?it/s]"
      ]
     },
     "metadata": {},
     "output_type": "display_data"
    },
    {
     "name": "stdout",
     "output_type": "stream",
     "text": [
      " results:\n",
      "Mean square error: 0.08267\n",
      "Mean absolute error: 0.21749\n",
      "Mean absolute error in dollars: 7388.03677\n",
      "epoch: 39\n"
     ]
    },
    {
     "data": {
      "application/vnd.jupyter.widget-view+json": {
       "model_id": "c10af304236940ee81a74128b298dbee",
       "version_major": 2,
       "version_minor": 0
      },
      "text/plain": [
       "  0%|          | 0/6119 [00:00<?, ?it/s]"
      ]
     },
     "metadata": {},
     "output_type": "display_data"
    },
    {
     "name": "stdout",
     "output_type": "stream",
     "text": [
      " results:\n",
      "Mean square error: 0.08463\n",
      "Mean absolute error: 0.22084\n",
      "Mean absolute error in dollars: 7501.01532\n",
      "epoch: 40\n"
     ]
    },
    {
     "data": {
      "application/vnd.jupyter.widget-view+json": {
       "model_id": "7ae67cf7c368479cb92de9a7ae3b031d",
       "version_major": 2,
       "version_minor": 0
      },
      "text/plain": [
       "  0%|          | 0/6119 [00:00<?, ?it/s]"
      ]
     },
     "metadata": {},
     "output_type": "display_data"
    },
    {
     "name": "stdout",
     "output_type": "stream",
     "text": [
      " results:\n",
      "Mean square error: 0.07316\n",
      "Mean absolute error: 0.20148\n",
      "Mean absolute error in dollars: 6997.53597\n",
      "epoch: 41\n"
     ]
    },
    {
     "data": {
      "application/vnd.jupyter.widget-view+json": {
       "model_id": "cc4eb92e9c784d0ebb6726810ff91406",
       "version_major": 2,
       "version_minor": 0
      },
      "text/plain": [
       "  0%|          | 0/6119 [00:00<?, ?it/s]"
      ]
     },
     "metadata": {},
     "output_type": "display_data"
    },
    {
     "name": "stdout",
     "output_type": "stream",
     "text": [
      " results:\n",
      "Mean square error: 0.07396\n",
      "Mean absolute error: 0.20270\n",
      "Mean absolute error in dollars: 7003.77203\n",
      "epoch: 42\n"
     ]
    },
    {
     "data": {
      "application/vnd.jupyter.widget-view+json": {
       "model_id": "380a4e204af34fd68c3f3d652ce6f865",
       "version_major": 2,
       "version_minor": 0
      },
      "text/plain": [
       "  0%|          | 0/6119 [00:00<?, ?it/s]"
      ]
     },
     "metadata": {},
     "output_type": "display_data"
    },
    {
     "name": "stdout",
     "output_type": "stream",
     "text": [
      " results:\n",
      "Mean square error: 0.07845\n",
      "Mean absolute error: 0.21060\n",
      "Mean absolute error in dollars: 7199.43457\n",
      "epoch: 43\n"
     ]
    },
    {
     "data": {
      "application/vnd.jupyter.widget-view+json": {
       "model_id": "65a1521351cf40bd9b2ca5f9ef46e623",
       "version_major": 2,
       "version_minor": 0
      },
      "text/plain": [
       "  0%|          | 0/6119 [00:00<?, ?it/s]"
      ]
     },
     "metadata": {},
     "output_type": "display_data"
    },
    {
     "name": "stdout",
     "output_type": "stream",
     "text": [
      " results:\n",
      "Mean square error: 0.08404\n",
      "Mean absolute error: 0.21962\n",
      "Mean absolute error in dollars: 7515.87858\n",
      "epoch: 44\n"
     ]
    },
    {
     "data": {
      "application/vnd.jupyter.widget-view+json": {
       "model_id": "bca9f3abd37b473390ac6e5cea6afbb0",
       "version_major": 2,
       "version_minor": 0
      },
      "text/plain": [
       "  0%|          | 0/6119 [00:00<?, ?it/s]"
      ]
     },
     "metadata": {},
     "output_type": "display_data"
    },
    {
     "name": "stdout",
     "output_type": "stream",
     "text": [
      " results:\n",
      "Mean square error: 0.07153\n",
      "Mean absolute error: 0.19887\n",
      "Mean absolute error in dollars: 6911.46072\n",
      "epoch: 45\n"
     ]
    },
    {
     "data": {
      "application/vnd.jupyter.widget-view+json": {
       "model_id": "f8beb48b799142e2b425ba5a730e8f12",
       "version_major": 2,
       "version_minor": 0
      },
      "text/plain": [
       "  0%|          | 0/6119 [00:00<?, ?it/s]"
      ]
     },
     "metadata": {},
     "output_type": "display_data"
    },
    {
     "name": "stdout",
     "output_type": "stream",
     "text": [
      " results:\n",
      "Mean square error: 0.08244\n",
      "Mean absolute error: 0.21721\n",
      "Mean absolute error in dollars: 7375.35809\n",
      "epoch: 46\n"
     ]
    },
    {
     "data": {
      "application/vnd.jupyter.widget-view+json": {
       "model_id": "ac4a1d3e73c34e7da01706b3930c1af0",
       "version_major": 2,
       "version_minor": 0
      },
      "text/plain": [
       "  0%|          | 0/6119 [00:00<?, ?it/s]"
      ]
     },
     "metadata": {},
     "output_type": "display_data"
    },
    {
     "name": "stdout",
     "output_type": "stream",
     "text": [
      " results:\n",
      "Mean square error: 0.08318\n",
      "Mean absolute error: 0.21810\n",
      "Mean absolute error in dollars: 7472.01503\n",
      "epoch: 47\n"
     ]
    },
    {
     "data": {
      "application/vnd.jupyter.widget-view+json": {
       "model_id": "4b20c368624c4d178c5dc3ddd791b191",
       "version_major": 2,
       "version_minor": 0
      },
      "text/plain": [
       "  0%|          | 0/6119 [00:00<?, ?it/s]"
      ]
     },
     "metadata": {},
     "output_type": "display_data"
    },
    {
     "name": "stdout",
     "output_type": "stream",
     "text": [
      " results:\n",
      "Mean square error: 0.09764\n",
      "Mean absolute error: 0.24191\n",
      "Mean absolute error in dollars: 8035.13176\n",
      "epoch: 48\n"
     ]
    },
    {
     "data": {
      "application/vnd.jupyter.widget-view+json": {
       "model_id": "f4fefa10107a4fafb9efb54a5c1e9eab",
       "version_major": 2,
       "version_minor": 0
      },
      "text/plain": [
       "  0%|          | 0/6119 [00:00<?, ?it/s]"
      ]
     },
     "metadata": {},
     "output_type": "display_data"
    },
    {
     "name": "stdout",
     "output_type": "stream",
     "text": [
      " results:\n",
      "Mean square error: 0.11343\n",
      "Mean absolute error: 0.26615\n",
      "Mean absolute error in dollars: 8685.10226\n",
      "epoch: 49\n"
     ]
    },
    {
     "data": {
      "application/vnd.jupyter.widget-view+json": {
       "model_id": "5a88dbbcaefe47a1b2c79b5f7b35d0c0",
       "version_major": 2,
       "version_minor": 0
      },
      "text/plain": [
       "  0%|          | 0/6119 [00:00<?, ?it/s]"
      ]
     },
     "metadata": {},
     "output_type": "display_data"
    },
    {
     "name": "stdout",
     "output_type": "stream",
     "text": [
      " results:\n",
      "Mean square error: 0.07450\n",
      "Mean absolute error: 0.20371\n",
      "Mean absolute error in dollars: 7048.46901\n"
     ]
    }
   ],
   "source": [
    "# let us run for yet another 50 epochs\n",
    "for epoch in range(EPOCHS):\n",
    "    print(f\"epoch: {epoch}\")\n",
    "    model.train()\n",
    "    for i, batch in tqdm(enumerate(\n",
    "            iterate_minibatches(data_train, batch_size=BATCH_SIZE, device=device, word_dropout=0.4)),\n",
    "            total=len(data_train) // BATCH_SIZE\n",
    "        ):\n",
    "        optimizer.zero_grad()\n",
    "        pred = model(batch)\n",
    "        loss = criterion(pred, batch[TARGET_COLUMN])\n",
    "        loss.backward()\n",
    "        # torch.nn.utils.clip_grad_norm_(model.parameters(), max_norm=1.0) # might be reduntant\n",
    "        optimizer.step()\n",
    "        \n",
    "    print_metrics(model, data_val, device=device)\n",
    "    val_mse = get_mse(model, data_val, device=device)\n",
    "    scheduler.step(val_mse)"
   ]
  },
  {
   "cell_type": "code",
   "execution_count": null,
   "metadata": {},
   "outputs": [],
   "source": []
  },
  {
   "cell_type": "code",
   "execution_count": 20,
   "metadata": {},
   "outputs": [
    {
     "name": "stdout",
     "output_type": "stream",
     "text": [
      "epoch: 0\n"
     ]
    },
    {
     "data": {
      "application/vnd.jupyter.widget-view+json": {
       "model_id": "a997b79ba0ef48c395d4208ebcdbb924",
       "version_major": 2,
       "version_minor": 0
      },
      "text/plain": [
       "  0%|          | 0/6119 [00:00<?, ?it/s]"
      ]
     },
     "metadata": {},
     "output_type": "display_data"
    },
    {
     "name": "stdout",
     "output_type": "stream",
     "text": [
      " results:\n",
      "Mean square error: 0.08378\n",
      "Mean absolute error: 0.21963\n",
      "Mean absolute error in dollars: 7416.47751\n",
      "epoch: 1\n"
     ]
    },
    {
     "data": {
      "application/vnd.jupyter.widget-view+json": {
       "model_id": "d23649903d474621b6cf62ecf46e8846",
       "version_major": 2,
       "version_minor": 0
      },
      "text/plain": [
       "  0%|          | 0/6119 [00:00<?, ?it/s]"
      ]
     },
     "metadata": {},
     "output_type": "display_data"
    },
    {
     "name": "stdout",
     "output_type": "stream",
     "text": [
      " results:\n",
      "Mean square error: 0.08055\n",
      "Mean absolute error: 0.21409\n",
      "Mean absolute error in dollars: 7295.18683\n",
      "epoch: 2\n"
     ]
    },
    {
     "data": {
      "application/vnd.jupyter.widget-view+json": {
       "model_id": "605e4757ee1843369da2e03bb318c785",
       "version_major": 2,
       "version_minor": 0
      },
      "text/plain": [
       "  0%|          | 0/6119 [00:00<?, ?it/s]"
      ]
     },
     "metadata": {},
     "output_type": "display_data"
    },
    {
     "name": "stdout",
     "output_type": "stream",
     "text": [
      " results:\n",
      "Mean square error: 0.08687\n",
      "Mean absolute error: 0.22442\n",
      "Mean absolute error in dollars: 7583.59668\n",
      "epoch: 3\n"
     ]
    },
    {
     "data": {
      "application/vnd.jupyter.widget-view+json": {
       "model_id": "de80e6a06cb644d6b767d220f3a50248",
       "version_major": 2,
       "version_minor": 0
      },
      "text/plain": [
       "  0%|          | 0/6119 [00:00<?, ?it/s]"
      ]
     },
     "metadata": {},
     "output_type": "display_data"
    },
    {
     "name": "stdout",
     "output_type": "stream",
     "text": [
      " results:\n",
      "Mean square error: 0.07567\n",
      "Mean absolute error: 0.20609\n",
      "Mean absolute error in dollars: 7035.79229\n",
      "epoch: 4\n"
     ]
    },
    {
     "data": {
      "application/vnd.jupyter.widget-view+json": {
       "model_id": "e06ae9a5d6ef4ed3aab54b923686a1e0",
       "version_major": 2,
       "version_minor": 0
      },
      "text/plain": [
       "  0%|          | 0/6119 [00:00<?, ?it/s]"
      ]
     },
     "metadata": {},
     "output_type": "display_data"
    },
    {
     "name": "stdout",
     "output_type": "stream",
     "text": [
      " results:\n",
      "Mean square error: 0.09316\n",
      "Mean absolute error: 0.23481\n",
      "Mean absolute error in dollars: 7887.47510\n",
      "epoch: 5\n"
     ]
    },
    {
     "data": {
      "application/vnd.jupyter.widget-view+json": {
       "model_id": "95a95aebbedf40fc8aeb3cd10b04c0b3",
       "version_major": 2,
       "version_minor": 0
      },
      "text/plain": [
       "  0%|          | 0/6119 [00:00<?, ?it/s]"
      ]
     },
     "metadata": {},
     "output_type": "display_data"
    },
    {
     "name": "stdout",
     "output_type": "stream",
     "text": [
      " results:\n",
      "Mean square error: 0.07630\n",
      "Mean absolute error: 0.20701\n",
      "Mean absolute error in dollars: 7129.13184\n",
      "epoch: 6\n"
     ]
    },
    {
     "data": {
      "application/vnd.jupyter.widget-view+json": {
       "model_id": "5c54e0831e8649f1a46427005d9c4c89",
       "version_major": 2,
       "version_minor": 0
      },
      "text/plain": [
       "  0%|          | 0/6119 [00:00<?, ?it/s]"
      ]
     },
     "metadata": {},
     "output_type": "display_data"
    },
    {
     "name": "stdout",
     "output_type": "stream",
     "text": [
      " results:\n",
      "Mean square error: 0.09271\n",
      "Mean absolute error: 0.23438\n",
      "Mean absolute error in dollars: 7874.23753\n",
      "epoch: 7\n"
     ]
    },
    {
     "data": {
      "application/vnd.jupyter.widget-view+json": {
       "model_id": "848ef03e360c4cafae14b3e848861dd3",
       "version_major": 2,
       "version_minor": 0
      },
      "text/plain": [
       "  0%|          | 0/6119 [00:00<?, ?it/s]"
      ]
     },
     "metadata": {},
     "output_type": "display_data"
    },
    {
     "name": "stdout",
     "output_type": "stream",
     "text": [
      " results:\n",
      "Mean square error: 0.07349\n",
      "Mean absolute error: 0.20197\n",
      "Mean absolute error in dollars: 6997.76933\n",
      "epoch: 8\n"
     ]
    },
    {
     "data": {
      "application/vnd.jupyter.widget-view+json": {
       "model_id": "360ebd71942d4ea490e8eeaf16e6cc97",
       "version_major": 2,
       "version_minor": 0
      },
      "text/plain": [
       "  0%|          | 0/6119 [00:00<?, ?it/s]"
      ]
     },
     "metadata": {},
     "output_type": "display_data"
    },
    {
     "name": "stdout",
     "output_type": "stream",
     "text": [
      " results:\n",
      "Mean square error: 0.08341\n",
      "Mean absolute error: 0.21906\n",
      "Mean absolute error in dollars: 7445.72162\n",
      "epoch: 9\n"
     ]
    },
    {
     "data": {
      "application/vnd.jupyter.widget-view+json": {
       "model_id": "ccfb29832bfa41398d614cbb299a341c",
       "version_major": 2,
       "version_minor": 0
      },
      "text/plain": [
       "  0%|          | 0/6119 [00:00<?, ?it/s]"
      ]
     },
     "metadata": {},
     "output_type": "display_data"
    },
    {
     "name": "stdout",
     "output_type": "stream",
     "text": [
      " results:\n",
      "Mean square error: 0.08442\n",
      "Mean absolute error: 0.22096\n",
      "Mean absolute error in dollars: 7446.86163\n",
      "epoch: 10\n"
     ]
    },
    {
     "data": {
      "application/vnd.jupyter.widget-view+json": {
       "model_id": "8b75ececadcc4888a3be1d371702af6b",
       "version_major": 2,
       "version_minor": 0
      },
      "text/plain": [
       "  0%|          | 0/6119 [00:00<?, ?it/s]"
      ]
     },
     "metadata": {},
     "output_type": "display_data"
    },
    {
     "name": "stdout",
     "output_type": "stream",
     "text": [
      " results:\n",
      "Mean square error: 0.09384\n",
      "Mean absolute error: 0.23626\n",
      "Mean absolute error in dollars: 7894.54263\n",
      "epoch: 11\n"
     ]
    },
    {
     "data": {
      "application/vnd.jupyter.widget-view+json": {
       "model_id": "7cdd514ea38e4df399448688027e6821",
       "version_major": 2,
       "version_minor": 0
      },
      "text/plain": [
       "  0%|          | 0/6119 [00:00<?, ?it/s]"
      ]
     },
     "metadata": {},
     "output_type": "display_data"
    },
    {
     "name": "stdout",
     "output_type": "stream",
     "text": [
      " results:\n",
      "Mean square error: 0.07333\n",
      "Mean absolute error: 0.20200\n",
      "Mean absolute error in dollars: 6993.98194\n",
      "epoch: 12\n"
     ]
    },
    {
     "data": {
      "application/vnd.jupyter.widget-view+json": {
       "model_id": "6af7558c25a9402fbe06f323bc3d5f26",
       "version_major": 2,
       "version_minor": 0
      },
      "text/plain": [
       "  0%|          | 0/6119 [00:00<?, ?it/s]"
      ]
     },
     "metadata": {},
     "output_type": "display_data"
    },
    {
     "name": "stdout",
     "output_type": "stream",
     "text": [
      " results:\n",
      "Mean square error: 0.08320\n",
      "Mean absolute error: 0.21842\n",
      "Mean absolute error in dollars: 7510.52564\n",
      "epoch: 13\n"
     ]
    },
    {
     "data": {
      "application/vnd.jupyter.widget-view+json": {
       "model_id": "f860b40c32c74775a524815ceadaf862",
       "version_major": 2,
       "version_minor": 0
      },
      "text/plain": [
       "  0%|          | 0/6119 [00:00<?, ?it/s]"
      ]
     },
     "metadata": {},
     "output_type": "display_data"
    },
    {
     "name": "stdout",
     "output_type": "stream",
     "text": [
      " results:\n",
      "Mean square error: 0.08712\n",
      "Mean absolute error: 0.22534\n",
      "Mean absolute error in dollars: 7568.62361\n",
      "epoch: 14\n"
     ]
    },
    {
     "data": {
      "application/vnd.jupyter.widget-view+json": {
       "model_id": "7edefccab061471eb2cfd97b17e3208c",
       "version_major": 2,
       "version_minor": 0
      },
      "text/plain": [
       "  0%|          | 0/6119 [00:00<?, ?it/s]"
      ]
     },
     "metadata": {},
     "output_type": "display_data"
    },
    {
     "name": "stdout",
     "output_type": "stream",
     "text": [
      " results:\n",
      "Mean square error: 0.07794\n",
      "Mean absolute error: 0.20999\n",
      "Mean absolute error in dollars: 7146.64902\n",
      "epoch: 15\n"
     ]
    },
    {
     "data": {
      "application/vnd.jupyter.widget-view+json": {
       "model_id": "4e3c45ec7ab24257bc8824761e32b803",
       "version_major": 2,
       "version_minor": 0
      },
      "text/plain": [
       "  0%|          | 0/6119 [00:00<?, ?it/s]"
      ]
     },
     "metadata": {},
     "output_type": "display_data"
    },
    {
     "name": "stdout",
     "output_type": "stream",
     "text": [
      " results:\n",
      "Mean square error: 0.07465\n",
      "Mean absolute error: 0.20426\n",
      "Mean absolute error in dollars: 7049.95155\n",
      "epoch: 16\n"
     ]
    },
    {
     "data": {
      "application/vnd.jupyter.widget-view+json": {
       "model_id": "01f387ee59cb4b91970bad8e3906aae0",
       "version_major": 2,
       "version_minor": 0
      },
      "text/plain": [
       "  0%|          | 0/6119 [00:00<?, ?it/s]"
      ]
     },
     "metadata": {},
     "output_type": "display_data"
    },
    {
     "name": "stdout",
     "output_type": "stream",
     "text": [
      " results:\n",
      "Mean square error: 0.08342\n",
      "Mean absolute error: 0.21891\n",
      "Mean absolute error in dollars: 7428.83458\n",
      "epoch: 17\n"
     ]
    },
    {
     "data": {
      "application/vnd.jupyter.widget-view+json": {
       "model_id": "a8a9b32494374d7ab59a2bdec582713a",
       "version_major": 2,
       "version_minor": 0
      },
      "text/plain": [
       "  0%|          | 0/6119 [00:00<?, ?it/s]"
      ]
     },
     "metadata": {},
     "output_type": "display_data"
    },
    {
     "name": "stdout",
     "output_type": "stream",
     "text": [
      " results:\n",
      "Mean square error: 0.07781\n",
      "Mean absolute error: 0.20955\n",
      "Mean absolute error in dollars: 7159.00609\n",
      "epoch: 18\n"
     ]
    },
    {
     "data": {
      "application/vnd.jupyter.widget-view+json": {
       "model_id": "09b153c03e9840bfad86086adfc4fb81",
       "version_major": 2,
       "version_minor": 0
      },
      "text/plain": [
       "  0%|          | 0/6119 [00:00<?, ?it/s]"
      ]
     },
     "metadata": {},
     "output_type": "display_data"
    },
    {
     "name": "stdout",
     "output_type": "stream",
     "text": [
      " results:\n",
      "Mean square error: 0.09882\n",
      "Mean absolute error: 0.24430\n",
      "Mean absolute error in dollars: 8128.09348\n",
      "epoch: 19\n"
     ]
    },
    {
     "data": {
      "application/vnd.jupyter.widget-view+json": {
       "model_id": "7794016921d44b848ea19ef54bceb437",
       "version_major": 2,
       "version_minor": 0
      },
      "text/plain": [
       "  0%|          | 0/6119 [00:00<?, ?it/s]"
      ]
     },
     "metadata": {},
     "output_type": "display_data"
    },
    {
     "name": "stdout",
     "output_type": "stream",
     "text": [
      " results:\n",
      "Mean square error: 0.08019\n",
      "Mean absolute error: 0.21390\n",
      "Mean absolute error in dollars: 7281.51456\n",
      "epoch: 20\n"
     ]
    },
    {
     "data": {
      "application/vnd.jupyter.widget-view+json": {
       "model_id": "4c99db6e05b041c08c886be2f7339e45",
       "version_major": 2,
       "version_minor": 0
      },
      "text/plain": [
       "  0%|          | 0/6119 [00:00<?, ?it/s]"
      ]
     },
     "metadata": {},
     "output_type": "display_data"
    },
    {
     "name": "stdout",
     "output_type": "stream",
     "text": [
      " results:\n",
      "Mean square error: 0.08974\n",
      "Mean absolute error: 0.22948\n",
      "Mean absolute error in dollars: 7736.96254\n",
      "epoch: 21\n"
     ]
    },
    {
     "data": {
      "application/vnd.jupyter.widget-view+json": {
       "model_id": "3314611f32a94904a9e9da98b76acc1b",
       "version_major": 2,
       "version_minor": 0
      },
      "text/plain": [
       "  0%|          | 0/6119 [00:00<?, ?it/s]"
      ]
     },
     "metadata": {},
     "output_type": "display_data"
    },
    {
     "name": "stdout",
     "output_type": "stream",
     "text": [
      " results:\n",
      "Mean square error: 0.07184\n",
      "Mean absolute error: 0.19961\n",
      "Mean absolute error in dollars: 6920.97234\n",
      "epoch: 22\n"
     ]
    },
    {
     "data": {
      "application/vnd.jupyter.widget-view+json": {
       "model_id": "60556bd58b734b9780ab7d1e2116d170",
       "version_major": 2,
       "version_minor": 0
      },
      "text/plain": [
       "  0%|          | 0/6119 [00:00<?, ?it/s]"
      ]
     },
     "metadata": {},
     "output_type": "display_data"
    },
    {
     "name": "stdout",
     "output_type": "stream",
     "text": [
      " results:\n",
      "Mean square error: 0.07654\n",
      "Mean absolute error: 0.20755\n",
      "Mean absolute error in dollars: 7123.65077\n",
      "epoch: 23\n"
     ]
    },
    {
     "data": {
      "application/vnd.jupyter.widget-view+json": {
       "model_id": "3a251dc9c0a1449ca7e1c1e69f871324",
       "version_major": 2,
       "version_minor": 0
      },
      "text/plain": [
       "  0%|          | 0/6119 [00:00<?, ?it/s]"
      ]
     },
     "metadata": {},
     "output_type": "display_data"
    },
    {
     "name": "stdout",
     "output_type": "stream",
     "text": [
      " results:\n",
      "Mean square error: 0.07438\n",
      "Mean absolute error: 0.20406\n",
      "Mean absolute error in dollars: 7022.82077\n",
      "epoch: 24\n"
     ]
    },
    {
     "data": {
      "application/vnd.jupyter.widget-view+json": {
       "model_id": "7eebbc48b8644316acf86a63e3606131",
       "version_major": 2,
       "version_minor": 0
      },
      "text/plain": [
       "  0%|          | 0/6119 [00:00<?, ?it/s]"
      ]
     },
     "metadata": {},
     "output_type": "display_data"
    },
    {
     "name": "stdout",
     "output_type": "stream",
     "text": [
      " results:\n",
      "Mean square error: 0.07182\n",
      "Mean absolute error: 0.19932\n",
      "Mean absolute error in dollars: 6898.00155\n",
      "epoch: 25\n"
     ]
    },
    {
     "data": {
      "application/vnd.jupyter.widget-view+json": {
       "model_id": "4953c9ce039e45278d9700e31b804faf",
       "version_major": 2,
       "version_minor": 0
      },
      "text/plain": [
       "  0%|          | 0/6119 [00:00<?, ?it/s]"
      ]
     },
     "metadata": {},
     "output_type": "display_data"
    },
    {
     "name": "stdout",
     "output_type": "stream",
     "text": [
      " results:\n",
      "Mean square error: 0.08200\n",
      "Mean absolute error: 0.21697\n",
      "Mean absolute error in dollars: 7366.26940\n",
      "epoch: 26\n"
     ]
    },
    {
     "data": {
      "application/vnd.jupyter.widget-view+json": {
       "model_id": "d119fea328604820960c4d1c62cd8fd9",
       "version_major": 2,
       "version_minor": 0
      },
      "text/plain": [
       "  0%|          | 0/6119 [00:00<?, ?it/s]"
      ]
     },
     "metadata": {},
     "output_type": "display_data"
    },
    {
     "name": "stdout",
     "output_type": "stream",
     "text": [
      " results:\n",
      "Mean square error: 0.07417\n",
      "Mean absolute error: 0.20342\n",
      "Mean absolute error in dollars: 7011.00952\n",
      "epoch: 27\n"
     ]
    },
    {
     "data": {
      "application/vnd.jupyter.widget-view+json": {
       "model_id": "b330ab48124e42979b0cfdfdb307ca43",
       "version_major": 2,
       "version_minor": 0
      },
      "text/plain": [
       "  0%|          | 0/6119 [00:00<?, ?it/s]"
      ]
     },
     "metadata": {},
     "output_type": "display_data"
    },
    {
     "name": "stdout",
     "output_type": "stream",
     "text": [
      " results:\n",
      "Mean square error: 0.08250\n",
      "Mean absolute error: 0.21750\n",
      "Mean absolute error in dollars: 7426.61535\n",
      "epoch: 28\n"
     ]
    },
    {
     "data": {
      "application/vnd.jupyter.widget-view+json": {
       "model_id": "71d42ba715f0430fbb3cc54b4d4e2889",
       "version_major": 2,
       "version_minor": 0
      },
      "text/plain": [
       "  0%|          | 0/6119 [00:00<?, ?it/s]"
      ]
     },
     "metadata": {},
     "output_type": "display_data"
    },
    {
     "name": "stdout",
     "output_type": "stream",
     "text": [
      " results:\n",
      "Mean square error: 0.07306\n",
      "Mean absolute error: 0.20175\n",
      "Mean absolute error in dollars: 6969.54561\n",
      "epoch: 29\n"
     ]
    },
    {
     "data": {
      "application/vnd.jupyter.widget-view+json": {
       "model_id": "be963e4d757143778d1ce15a19088721",
       "version_major": 2,
       "version_minor": 0
      },
      "text/plain": [
       "  0%|          | 0/6119 [00:00<?, ?it/s]"
      ]
     },
     "metadata": {},
     "output_type": "display_data"
    },
    {
     "name": "stdout",
     "output_type": "stream",
     "text": [
      " results:\n",
      "Mean square error: 0.08331\n",
      "Mean absolute error: 0.21905\n",
      "Mean absolute error in dollars: 7410.11595\n",
      "epoch: 30\n"
     ]
    },
    {
     "data": {
      "application/vnd.jupyter.widget-view+json": {
       "model_id": "63887928ecc440ceb1fa1c85f0a078cd",
       "version_major": 2,
       "version_minor": 0
      },
      "text/plain": [
       "  0%|          | 0/6119 [00:00<?, ?it/s]"
      ]
     },
     "metadata": {},
     "output_type": "display_data"
    },
    {
     "name": "stdout",
     "output_type": "stream",
     "text": [
      " results:\n",
      "Mean square error: 0.07784\n",
      "Mean absolute error: 0.20963\n",
      "Mean absolute error in dollars: 7160.71022\n",
      "epoch: 31\n"
     ]
    },
    {
     "data": {
      "application/vnd.jupyter.widget-view+json": {
       "model_id": "ef134ab1add3430585cb66e6b69b77e1",
       "version_major": 2,
       "version_minor": 0
      },
      "text/plain": [
       "  0%|          | 0/6119 [00:00<?, ?it/s]"
      ]
     },
     "metadata": {},
     "output_type": "display_data"
    },
    {
     "name": "stdout",
     "output_type": "stream",
     "text": [
      " results:\n",
      "Mean square error: 0.07433\n",
      "Mean absolute error: 0.20369\n",
      "Mean absolute error in dollars: 7027.94231\n",
      "epoch: 32\n"
     ]
    },
    {
     "data": {
      "application/vnd.jupyter.widget-view+json": {
       "model_id": "be7e4019f597458eb1f248aa50e6248d",
       "version_major": 2,
       "version_minor": 0
      },
      "text/plain": [
       "  0%|          | 0/6119 [00:00<?, ?it/s]"
      ]
     },
     "metadata": {},
     "output_type": "display_data"
    },
    {
     "name": "stdout",
     "output_type": "stream",
     "text": [
      " results:\n",
      "Mean square error: 0.07356\n",
      "Mean absolute error: 0.20249\n",
      "Mean absolute error in dollars: 6981.09213\n",
      "epoch: 33\n"
     ]
    },
    {
     "data": {
      "application/vnd.jupyter.widget-view+json": {
       "model_id": "8bb6ab5594c94dc995c2df8c520355b3",
       "version_major": 2,
       "version_minor": 0
      },
      "text/plain": [
       "  0%|          | 0/6119 [00:00<?, ?it/s]"
      ]
     },
     "metadata": {},
     "output_type": "display_data"
    },
    {
     "name": "stdout",
     "output_type": "stream",
     "text": [
      " results:\n",
      "Mean square error: 0.08849\n",
      "Mean absolute error: 0.22767\n",
      "Mean absolute error in dollars: 7688.91939\n",
      "epoch: 34\n"
     ]
    },
    {
     "data": {
      "application/vnd.jupyter.widget-view+json": {
       "model_id": "8b52053774f145e594eb7726b8f09605",
       "version_major": 2,
       "version_minor": 0
      },
      "text/plain": [
       "  0%|          | 0/6119 [00:00<?, ?it/s]"
      ]
     },
     "metadata": {},
     "output_type": "display_data"
    },
    {
     "name": "stdout",
     "output_type": "stream",
     "text": [
      " results:\n",
      "Mean square error: 0.08225\n",
      "Mean absolute error: 0.21721\n",
      "Mean absolute error in dollars: 7373.06827\n",
      "epoch: 35\n"
     ]
    },
    {
     "data": {
      "application/vnd.jupyter.widget-view+json": {
       "model_id": "3d2582e940d546e6acf6eb87db277b83",
       "version_major": 2,
       "version_minor": 0
      },
      "text/plain": [
       "  0%|          | 0/6119 [00:00<?, ?it/s]"
      ]
     },
     "metadata": {},
     "output_type": "display_data"
    },
    {
     "name": "stdout",
     "output_type": "stream",
     "text": [
      " results:\n",
      "Mean square error: 0.08267\n",
      "Mean absolute error: 0.21825\n",
      "Mean absolute error in dollars: 7364.10704\n",
      "epoch: 36\n"
     ]
    },
    {
     "data": {
      "application/vnd.jupyter.widget-view+json": {
       "model_id": "45160ce5e0154c029e74c7b7d3c7ec0b",
       "version_major": 2,
       "version_minor": 0
      },
      "text/plain": [
       "  0%|          | 0/6119 [00:00<?, ?it/s]"
      ]
     },
     "metadata": {},
     "output_type": "display_data"
    },
    {
     "name": "stdout",
     "output_type": "stream",
     "text": [
      " results:\n",
      "Mean square error: 0.08229\n",
      "Mean absolute error: 0.21731\n",
      "Mean absolute error in dollars: 7397.88765\n",
      "epoch: 37\n"
     ]
    },
    {
     "data": {
      "application/vnd.jupyter.widget-view+json": {
       "model_id": "28fb88dfb9d74846bd83784fe63dbdca",
       "version_major": 2,
       "version_minor": 0
      },
      "text/plain": [
       "  0%|          | 0/6119 [00:00<?, ?it/s]"
      ]
     },
     "metadata": {},
     "output_type": "display_data"
    },
    {
     "name": "stdout",
     "output_type": "stream",
     "text": [
      " results:\n",
      "Mean square error: 0.07664\n",
      "Mean absolute error: 0.20795\n",
      "Mean absolute error in dollars: 7108.44368\n",
      "epoch: 38\n"
     ]
    },
    {
     "data": {
      "application/vnd.jupyter.widget-view+json": {
       "model_id": "1e5d66b0dc02442b855e12a08dc16c92",
       "version_major": 2,
       "version_minor": 0
      },
      "text/plain": [
       "  0%|          | 0/6119 [00:00<?, ?it/s]"
      ]
     },
     "metadata": {},
     "output_type": "display_data"
    },
    {
     "name": "stdout",
     "output_type": "stream",
     "text": [
      " results:\n",
      "Mean square error: 0.07792\n",
      "Mean absolute error: 0.21006\n",
      "Mean absolute error in dollars: 7170.99579\n",
      "epoch: 39\n"
     ]
    },
    {
     "data": {
      "application/vnd.jupyter.widget-view+json": {
       "model_id": "f6b80bbba89a4a61b9721d48dcc3b8c8",
       "version_major": 2,
       "version_minor": 0
      },
      "text/plain": [
       "  0%|          | 0/6119 [00:00<?, ?it/s]"
      ]
     },
     "metadata": {},
     "output_type": "display_data"
    },
    {
     "name": "stdout",
     "output_type": "stream",
     "text": [
      " results:\n",
      "Mean square error: 0.07914\n",
      "Mean absolute error: 0.21220\n",
      "Mean absolute error in dollars: 7239.15709\n",
      "epoch: 40\n"
     ]
    },
    {
     "data": {
      "application/vnd.jupyter.widget-view+json": {
       "model_id": "edba46fc0626466e8aa7059f61241a46",
       "version_major": 2,
       "version_minor": 0
      },
      "text/plain": [
       "  0%|          | 0/6119 [00:00<?, ?it/s]"
      ]
     },
     "metadata": {},
     "output_type": "display_data"
    },
    {
     "name": "stdout",
     "output_type": "stream",
     "text": [
      " results:\n",
      "Mean square error: 0.08082\n",
      "Mean absolute error: 0.21489\n",
      "Mean absolute error in dollars: 7323.53540\n",
      "epoch: 41\n"
     ]
    },
    {
     "data": {
      "application/vnd.jupyter.widget-view+json": {
       "model_id": "3bd76b3d12904a0286e6197ed75d91d8",
       "version_major": 2,
       "version_minor": 0
      },
      "text/plain": [
       "  0%|          | 0/6119 [00:00<?, ?it/s]"
      ]
     },
     "metadata": {},
     "output_type": "display_data"
    },
    {
     "name": "stdout",
     "output_type": "stream",
     "text": [
      " results:\n",
      "Mean square error: 0.07965\n",
      "Mean absolute error: 0.21290\n",
      "Mean absolute error in dollars: 7271.59962\n",
      "epoch: 42\n"
     ]
    },
    {
     "data": {
      "application/vnd.jupyter.widget-view+json": {
       "model_id": "7c5beac6be8b49dba61a96a51a1111d7",
       "version_major": 2,
       "version_minor": 0
      },
      "text/plain": [
       "  0%|          | 0/6119 [00:00<?, ?it/s]"
      ]
     },
     "metadata": {},
     "output_type": "display_data"
    },
    {
     "name": "stdout",
     "output_type": "stream",
     "text": [
      " results:\n",
      "Mean square error: 0.07741\n",
      "Mean absolute error: 0.20902\n",
      "Mean absolute error in dollars: 7191.39176\n",
      "epoch: 43\n"
     ]
    },
    {
     "data": {
      "application/vnd.jupyter.widget-view+json": {
       "model_id": "1437fb0408764664a6039f5dbc38faa0",
       "version_major": 2,
       "version_minor": 0
      },
      "text/plain": [
       "  0%|          | 0/6119 [00:00<?, ?it/s]"
      ]
     },
     "metadata": {},
     "output_type": "display_data"
    },
    {
     "name": "stdout",
     "output_type": "stream",
     "text": [
      " results:\n",
      "Mean square error: 0.07329\n",
      "Mean absolute error: 0.20200\n",
      "Mean absolute error in dollars: 6962.45193\n",
      "epoch: 44\n"
     ]
    },
    {
     "data": {
      "application/vnd.jupyter.widget-view+json": {
       "model_id": "bb44514494bd4c3790ff95e688811cb8",
       "version_major": 2,
       "version_minor": 0
      },
      "text/plain": [
       "  0%|          | 0/6119 [00:00<?, ?it/s]"
      ]
     },
     "metadata": {},
     "output_type": "display_data"
    },
    {
     "name": "stdout",
     "output_type": "stream",
     "text": [
      " results:\n",
      "Mean square error: 0.07886\n",
      "Mean absolute error: 0.21178\n",
      "Mean absolute error in dollars: 7232.95371\n",
      "epoch: 45\n"
     ]
    },
    {
     "data": {
      "application/vnd.jupyter.widget-view+json": {
       "model_id": "52c7a4f7244341b796a59076bd216739",
       "version_major": 2,
       "version_minor": 0
      },
      "text/plain": [
       "  0%|          | 0/6119 [00:00<?, ?it/s]"
      ]
     },
     "metadata": {},
     "output_type": "display_data"
    },
    {
     "name": "stdout",
     "output_type": "stream",
     "text": [
      " results:\n",
      "Mean square error: 0.08084\n",
      "Mean absolute error: 0.21493\n",
      "Mean absolute error in dollars: 7324.91269\n",
      "epoch: 46\n"
     ]
    },
    {
     "data": {
      "application/vnd.jupyter.widget-view+json": {
       "model_id": "83e32e03eda34464b61d2dc39274fff9",
       "version_major": 2,
       "version_minor": 0
      },
      "text/plain": [
       "  0%|          | 0/6119 [00:00<?, ?it/s]"
      ]
     },
     "metadata": {},
     "output_type": "display_data"
    },
    {
     "name": "stdout",
     "output_type": "stream",
     "text": [
      " results:\n",
      "Mean square error: 0.07998\n",
      "Mean absolute error: 0.21366\n",
      "Mean absolute error in dollars: 7241.75479\n",
      "epoch: 47\n"
     ]
    },
    {
     "data": {
      "application/vnd.jupyter.widget-view+json": {
       "model_id": "ba7297718e4549ffaa40582092b52c84",
       "version_major": 2,
       "version_minor": 0
      },
      "text/plain": [
       "  0%|          | 0/6119 [00:00<?, ?it/s]"
      ]
     },
     "metadata": {},
     "output_type": "display_data"
    },
    {
     "name": "stdout",
     "output_type": "stream",
     "text": [
      " results:\n",
      "Mean square error: 0.07352\n",
      "Mean absolute error: 0.20232\n",
      "Mean absolute error in dollars: 6977.07530\n",
      "epoch: 48\n"
     ]
    },
    {
     "data": {
      "application/vnd.jupyter.widget-view+json": {
       "model_id": "245d6cbc43734d0d95ea44573f9f4cc0",
       "version_major": 2,
       "version_minor": 0
      },
      "text/plain": [
       "  0%|          | 0/6119 [00:00<?, ?it/s]"
      ]
     },
     "metadata": {},
     "output_type": "display_data"
    },
    {
     "name": "stdout",
     "output_type": "stream",
     "text": [
      " results:\n",
      "Mean square error: 0.08016\n",
      "Mean absolute error: 0.21421\n",
      "Mean absolute error in dollars: 7236.59795\n",
      "epoch: 49\n"
     ]
    },
    {
     "data": {
      "application/vnd.jupyter.widget-view+json": {
       "model_id": "19e21b69eae5469ea62fd5fb8c8c8286",
       "version_major": 2,
       "version_minor": 0
      },
      "text/plain": [
       "  0%|          | 0/6119 [00:00<?, ?it/s]"
      ]
     },
     "metadata": {},
     "output_type": "display_data"
    },
    {
     "name": "stdout",
     "output_type": "stream",
     "text": [
      " results:\n",
      "Mean square error: 0.07988\n",
      "Mean absolute error: 0.21319\n",
      "Mean absolute error in dollars: 7277.18985\n",
      "epoch: 50\n"
     ]
    },
    {
     "data": {
      "application/vnd.jupyter.widget-view+json": {
       "model_id": "1cfa11aa6f6c4ba18fb327385fc6d7a3",
       "version_major": 2,
       "version_minor": 0
      },
      "text/plain": [
       "  0%|          | 0/6119 [00:00<?, ?it/s]"
      ]
     },
     "metadata": {},
     "output_type": "display_data"
    },
    {
     "name": "stdout",
     "output_type": "stream",
     "text": [
      " results:\n",
      "Mean square error: 0.07347\n",
      "Mean absolute error: 0.20239\n",
      "Mean absolute error in dollars: 6958.41745\n",
      "epoch: 51\n"
     ]
    },
    {
     "data": {
      "application/vnd.jupyter.widget-view+json": {
       "model_id": "3360135229e743f3a081b85c56a4e77b",
       "version_major": 2,
       "version_minor": 0
      },
      "text/plain": [
       "  0%|          | 0/6119 [00:00<?, ?it/s]"
      ]
     },
     "metadata": {},
     "output_type": "display_data"
    },
    {
     "name": "stdout",
     "output_type": "stream",
     "text": [
      " results:\n",
      "Mean square error: 0.07827\n",
      "Mean absolute error: 0.21065\n",
      "Mean absolute error in dollars: 7195.24059\n",
      "epoch: 52\n"
     ]
    },
    {
     "data": {
      "application/vnd.jupyter.widget-view+json": {
       "model_id": "bbaf599a9f824d6fbdf4006dd265fa50",
       "version_major": 2,
       "version_minor": 0
      },
      "text/plain": [
       "  0%|          | 0/6119 [00:00<?, ?it/s]"
      ]
     },
     "metadata": {},
     "output_type": "display_data"
    },
    {
     "name": "stdout",
     "output_type": "stream",
     "text": [
      " results:\n",
      "Mean square error: 0.08018\n",
      "Mean absolute error: 0.21391\n",
      "Mean absolute error in dollars: 7279.99150\n",
      "epoch: 53\n"
     ]
    },
    {
     "data": {
      "application/vnd.jupyter.widget-view+json": {
       "model_id": "10a9b31ef71d4d99893d0e655ca30cf6",
       "version_major": 2,
       "version_minor": 0
      },
      "text/plain": [
       "  0%|          | 0/6119 [00:00<?, ?it/s]"
      ]
     },
     "metadata": {},
     "output_type": "display_data"
    },
    {
     "name": "stdout",
     "output_type": "stream",
     "text": [
      " results:\n",
      "Mean square error: 0.08852\n",
      "Mean absolute error: 0.22782\n",
      "Mean absolute error in dollars: 7675.33015\n",
      "epoch: 54\n"
     ]
    },
    {
     "data": {
      "application/vnd.jupyter.widget-view+json": {
       "model_id": "586bce35ba034b33aac837df059420bb",
       "version_major": 2,
       "version_minor": 0
      },
      "text/plain": [
       "  0%|          | 0/6119 [00:00<?, ?it/s]"
      ]
     },
     "metadata": {},
     "output_type": "display_data"
    },
    {
     "name": "stdout",
     "output_type": "stream",
     "text": [
      " results:\n",
      "Mean square error: 0.09453\n",
      "Mean absolute error: 0.23772\n",
      "Mean absolute error in dollars: 7880.01079\n",
      "epoch: 55\n"
     ]
    },
    {
     "data": {
      "application/vnd.jupyter.widget-view+json": {
       "model_id": "9275ced7908b45659d0d0a751cf5c9bd",
       "version_major": 2,
       "version_minor": 0
      },
      "text/plain": [
       "  0%|          | 0/6119 [00:00<?, ?it/s]"
      ]
     },
     "metadata": {},
     "output_type": "display_data"
    },
    {
     "name": "stdout",
     "output_type": "stream",
     "text": [
      " results:\n",
      "Mean square error: 0.07542\n",
      "Mean absolute error: 0.20550\n",
      "Mean absolute error in dollars: 7083.54521\n",
      "epoch: 56\n"
     ]
    },
    {
     "data": {
      "application/vnd.jupyter.widget-view+json": {
       "model_id": "88cd70148fca4fbf9bda38621ec4de84",
       "version_major": 2,
       "version_minor": 0
      },
      "text/plain": [
       "  0%|          | 0/6119 [00:00<?, ?it/s]"
      ]
     },
     "metadata": {},
     "output_type": "display_data"
    },
    {
     "name": "stdout",
     "output_type": "stream",
     "text": [
      " results:\n",
      "Mean square error: 0.07628\n",
      "Mean absolute error: 0.20734\n",
      "Mean absolute error in dollars: 7110.58708\n",
      "epoch: 57\n"
     ]
    },
    {
     "data": {
      "application/vnd.jupyter.widget-view+json": {
       "model_id": "c18a7ecc76404668807e0cb7f5a8e1f8",
       "version_major": 2,
       "version_minor": 0
      },
      "text/plain": [
       "  0%|          | 0/6119 [00:00<?, ?it/s]"
      ]
     },
     "metadata": {},
     "output_type": "display_data"
    },
    {
     "name": "stdout",
     "output_type": "stream",
     "text": [
      " results:\n",
      "Mean square error: 0.08181\n",
      "Mean absolute error: 0.21669\n",
      "Mean absolute error in dollars: 7339.47526\n",
      "epoch: 58\n"
     ]
    },
    {
     "data": {
      "application/vnd.jupyter.widget-view+json": {
       "model_id": "207139b9ceb443c59ae19c8d7be7e8e2",
       "version_major": 2,
       "version_minor": 0
      },
      "text/plain": [
       "  0%|          | 0/6119 [00:00<?, ?it/s]"
      ]
     },
     "metadata": {},
     "output_type": "display_data"
    },
    {
     "name": "stdout",
     "output_type": "stream",
     "text": [
      " results:\n",
      "Mean square error: 0.08080\n",
      "Mean absolute error: 0.21518\n",
      "Mean absolute error in dollars: 7277.79058\n",
      "epoch: 59\n"
     ]
    },
    {
     "data": {
      "application/vnd.jupyter.widget-view+json": {
       "model_id": "723246b626cd42c2bd2bc5cf999cc319",
       "version_major": 2,
       "version_minor": 0
      },
      "text/plain": [
       "  0%|          | 0/6119 [00:00<?, ?it/s]"
      ]
     },
     "metadata": {},
     "output_type": "display_data"
    },
    {
     "name": "stdout",
     "output_type": "stream",
     "text": [
      " results:\n",
      "Mean square error: 0.07758\n",
      "Mean absolute error: 0.20932\n",
      "Mean absolute error in dollars: 7195.75765\n",
      "epoch: 60\n"
     ]
    },
    {
     "data": {
      "application/vnd.jupyter.widget-view+json": {
       "model_id": "897b4759de4d4e4481e1defe488df49e",
       "version_major": 2,
       "version_minor": 0
      },
      "text/plain": [
       "  0%|          | 0/6119 [00:00<?, ?it/s]"
      ]
     },
     "metadata": {},
     "output_type": "display_data"
    },
    {
     "name": "stdout",
     "output_type": "stream",
     "text": [
      " results:\n",
      "Mean square error: 0.08402\n",
      "Mean absolute error: 0.22063\n",
      "Mean absolute error in dollars: 7411.61678\n",
      "epoch: 61\n"
     ]
    },
    {
     "data": {
      "application/vnd.jupyter.widget-view+json": {
       "model_id": "c0d122b32f224a99a5ae1cd93baaea09",
       "version_major": 2,
       "version_minor": 0
      },
      "text/plain": [
       "  0%|          | 0/6119 [00:00<?, ?it/s]"
      ]
     },
     "metadata": {},
     "output_type": "display_data"
    },
    {
     "name": "stdout",
     "output_type": "stream",
     "text": [
      " results:\n",
      "Mean square error: 0.08348\n",
      "Mean absolute error: 0.21952\n",
      "Mean absolute error in dollars: 7473.87147\n",
      "epoch: 62\n"
     ]
    },
    {
     "data": {
      "application/vnd.jupyter.widget-view+json": {
       "model_id": "d8e3f1f6b5144ab4b613506df66b0564",
       "version_major": 2,
       "version_minor": 0
      },
      "text/plain": [
       "  0%|          | 0/6119 [00:00<?, ?it/s]"
      ]
     },
     "metadata": {},
     "output_type": "display_data"
    },
    {
     "name": "stdout",
     "output_type": "stream",
     "text": [
      " results:\n",
      "Mean square error: 0.07707\n",
      "Mean absolute error: 0.20871\n",
      "Mean absolute error in dollars: 7114.37513\n",
      "epoch: 63\n"
     ]
    },
    {
     "data": {
      "application/vnd.jupyter.widget-view+json": {
       "model_id": "71e6924134bb4c68b92910353ae180d8",
       "version_major": 2,
       "version_minor": 0
      },
      "text/plain": [
       "  0%|          | 0/6119 [00:00<?, ?it/s]"
      ]
     },
     "metadata": {},
     "output_type": "display_data"
    },
    {
     "name": "stdout",
     "output_type": "stream",
     "text": [
      " results:\n",
      "Mean square error: 0.07476\n",
      "Mean absolute error: 0.20483\n",
      "Mean absolute error in dollars: 7021.04866\n",
      "epoch: 64\n"
     ]
    },
    {
     "data": {
      "application/vnd.jupyter.widget-view+json": {
       "model_id": "e324695fd3e94f80b98d4ab83d4bf91b",
       "version_major": 2,
       "version_minor": 0
      },
      "text/plain": [
       "  0%|          | 0/6119 [00:00<?, ?it/s]"
      ]
     },
     "metadata": {},
     "output_type": "display_data"
    },
    {
     "name": "stdout",
     "output_type": "stream",
     "text": [
      " results:\n",
      "Mean square error: 0.07922\n",
      "Mean absolute error: 0.21217\n",
      "Mean absolute error in dollars: 7243.86681\n",
      "epoch: 65\n"
     ]
    },
    {
     "data": {
      "application/vnd.jupyter.widget-view+json": {
       "model_id": "d961580b11374ee0a97ccd98cf76dc79",
       "version_major": 2,
       "version_minor": 0
      },
      "text/plain": [
       "  0%|          | 0/6119 [00:00<?, ?it/s]"
      ]
     },
     "metadata": {},
     "output_type": "display_data"
    },
    {
     "name": "stdout",
     "output_type": "stream",
     "text": [
      " results:\n",
      "Mean square error: 0.07971\n",
      "Mean absolute error: 0.21304\n",
      "Mean absolute error in dollars: 7295.37574\n",
      "epoch: 66\n"
     ]
    },
    {
     "data": {
      "application/vnd.jupyter.widget-view+json": {
       "model_id": "9e6711e51aba44d68a50fbf737fd9944",
       "version_major": 2,
       "version_minor": 0
      },
      "text/plain": [
       "  0%|          | 0/6119 [00:00<?, ?it/s]"
      ]
     },
     "metadata": {},
     "output_type": "display_data"
    },
    {
     "name": "stdout",
     "output_type": "stream",
     "text": [
      " results:\n",
      "Mean square error: 0.08197\n",
      "Mean absolute error: 0.21716\n",
      "Mean absolute error in dollars: 7367.86959\n",
      "epoch: 67\n"
     ]
    },
    {
     "data": {
      "application/vnd.jupyter.widget-view+json": {
       "model_id": "8d2345a1dd7b4f80bac66960091ac58c",
       "version_major": 2,
       "version_minor": 0
      },
      "text/plain": [
       "  0%|          | 0/6119 [00:00<?, ?it/s]"
      ]
     },
     "metadata": {},
     "output_type": "display_data"
    },
    {
     "name": "stdout",
     "output_type": "stream",
     "text": [
      " results:\n",
      "Mean square error: 0.07673\n",
      "Mean absolute error: 0.20780\n",
      "Mean absolute error in dollars: 7185.44331\n",
      "epoch: 68\n"
     ]
    },
    {
     "data": {
      "application/vnd.jupyter.widget-view+json": {
       "model_id": "64f8eebc7f70469cb2ac773eb1e071e7",
       "version_major": 2,
       "version_minor": 0
      },
      "text/plain": [
       "  0%|          | 0/6119 [00:00<?, ?it/s]"
      ]
     },
     "metadata": {},
     "output_type": "display_data"
    },
    {
     "name": "stdout",
     "output_type": "stream",
     "text": [
      " results:\n",
      "Mean square error: 0.07721\n",
      "Mean absolute error: 0.20864\n",
      "Mean absolute error in dollars: 7202.60947\n",
      "epoch: 69\n"
     ]
    },
    {
     "data": {
      "application/vnd.jupyter.widget-view+json": {
       "model_id": "362b02376d2b45f99dc6698747684f4e",
       "version_major": 2,
       "version_minor": 0
      },
      "text/plain": [
       "  0%|          | 0/6119 [00:00<?, ?it/s]"
      ]
     },
     "metadata": {},
     "output_type": "display_data"
    },
    {
     "name": "stdout",
     "output_type": "stream",
     "text": [
      " results:\n",
      "Mean square error: 0.07735\n",
      "Mean absolute error: 0.20906\n",
      "Mean absolute error in dollars: 7158.95902\n",
      "epoch: 70\n"
     ]
    },
    {
     "data": {
      "application/vnd.jupyter.widget-view+json": {
       "model_id": "83d9f756b3a143b097af55fc68308484",
       "version_major": 2,
       "version_minor": 0
      },
      "text/plain": [
       "  0%|          | 0/6119 [00:00<?, ?it/s]"
      ]
     },
     "metadata": {},
     "output_type": "display_data"
    },
    {
     "name": "stdout",
     "output_type": "stream",
     "text": [
      " results:\n",
      "Mean square error: 0.07286\n",
      "Mean absolute error: 0.20130\n",
      "Mean absolute error in dollars: 6944.65433\n",
      "epoch: 71\n"
     ]
    },
    {
     "data": {
      "application/vnd.jupyter.widget-view+json": {
       "model_id": "374a484606e3481eaf4bc9615e3558f2",
       "version_major": 2,
       "version_minor": 0
      },
      "text/plain": [
       "  0%|          | 0/6119 [00:00<?, ?it/s]"
      ]
     },
     "metadata": {},
     "output_type": "display_data"
    },
    {
     "name": "stdout",
     "output_type": "stream",
     "text": [
      " results:\n",
      "Mean square error: 0.07812\n",
      "Mean absolute error: 0.21041\n",
      "Mean absolute error in dollars: 7219.35597\n",
      "epoch: 72\n"
     ]
    },
    {
     "data": {
      "application/vnd.jupyter.widget-view+json": {
       "model_id": "d648f4ee790441549cc590017726e54f",
       "version_major": 2,
       "version_minor": 0
      },
      "text/plain": [
       "  0%|          | 0/6119 [00:00<?, ?it/s]"
      ]
     },
     "metadata": {},
     "output_type": "display_data"
    },
    {
     "name": "stdout",
     "output_type": "stream",
     "text": [
      " results:\n",
      "Mean square error: 0.07611\n",
      "Mean absolute error: 0.20696\n",
      "Mean absolute error in dollars: 7094.96164\n",
      "epoch: 73\n"
     ]
    },
    {
     "data": {
      "application/vnd.jupyter.widget-view+json": {
       "model_id": "30194b7f41a74696ad3be3b1ecacd45c",
       "version_major": 2,
       "version_minor": 0
      },
      "text/plain": [
       "  0%|          | 0/6119 [00:00<?, ?it/s]"
      ]
     },
     "metadata": {},
     "output_type": "display_data"
    },
    {
     "name": "stdout",
     "output_type": "stream",
     "text": [
      " results:\n",
      "Mean square error: 0.07927\n",
      "Mean absolute error: 0.21240\n",
      "Mean absolute error in dollars: 7239.77350\n",
      "epoch: 74\n"
     ]
    },
    {
     "data": {
      "application/vnd.jupyter.widget-view+json": {
       "model_id": "659c7139e53c4864a32e8a7904d3f5b4",
       "version_major": 2,
       "version_minor": 0
      },
      "text/plain": [
       "  0%|          | 0/6119 [00:00<?, ?it/s]"
      ]
     },
     "metadata": {},
     "output_type": "display_data"
    },
    {
     "name": "stdout",
     "output_type": "stream",
     "text": [
      " results:\n",
      "Mean square error: 0.07924\n",
      "Mean absolute error: 0.21230\n",
      "Mean absolute error in dollars: 7259.03599\n",
      "epoch: 75\n"
     ]
    },
    {
     "data": {
      "application/vnd.jupyter.widget-view+json": {
       "model_id": "04b5f601160246ef9290f1e5449454a1",
       "version_major": 2,
       "version_minor": 0
      },
      "text/plain": [
       "  0%|          | 0/6119 [00:00<?, ?it/s]"
      ]
     },
     "metadata": {},
     "output_type": "display_data"
    },
    {
     "name": "stdout",
     "output_type": "stream",
     "text": [
      " results:\n",
      "Mean square error: 0.07751\n",
      "Mean absolute error: 0.20951\n",
      "Mean absolute error in dollars: 7159.87940\n",
      "epoch: 76\n"
     ]
    },
    {
     "data": {
      "application/vnd.jupyter.widget-view+json": {
       "model_id": "7bb7f1fc558046bf8212ac197d146ba0",
       "version_major": 2,
       "version_minor": 0
      },
      "text/plain": [
       "  0%|          | 0/6119 [00:00<?, ?it/s]"
      ]
     },
     "metadata": {},
     "output_type": "display_data"
    },
    {
     "name": "stdout",
     "output_type": "stream",
     "text": [
      " results:\n",
      "Mean square error: 0.07844\n",
      "Mean absolute error: 0.21073\n",
      "Mean absolute error in dollars: 7234.67745\n",
      "epoch: 77\n"
     ]
    },
    {
     "data": {
      "application/vnd.jupyter.widget-view+json": {
       "model_id": "e7a2e16c1ff640028c7a9617eeaf84f7",
       "version_major": 2,
       "version_minor": 0
      },
      "text/plain": [
       "  0%|          | 0/6119 [00:00<?, ?it/s]"
      ]
     },
     "metadata": {},
     "output_type": "display_data"
    },
    {
     "name": "stdout",
     "output_type": "stream",
     "text": [
      " results:\n",
      "Mean square error: 0.08260\n",
      "Mean absolute error: 0.21794\n",
      "Mean absolute error in dollars: 7426.52645\n",
      "epoch: 78\n"
     ]
    },
    {
     "data": {
      "application/vnd.jupyter.widget-view+json": {
       "model_id": "2e2caef2308748c8b341c6cd8f929abe",
       "version_major": 2,
       "version_minor": 0
      },
      "text/plain": [
       "  0%|          | 0/6119 [00:00<?, ?it/s]"
      ]
     },
     "metadata": {},
     "output_type": "display_data"
    },
    {
     "name": "stdout",
     "output_type": "stream",
     "text": [
      " results:\n",
      "Mean square error: 0.08343\n",
      "Mean absolute error: 0.21966\n",
      "Mean absolute error in dollars: 7411.51023\n",
      "epoch: 79\n"
     ]
    },
    {
     "data": {
      "application/vnd.jupyter.widget-view+json": {
       "model_id": "f1036d67e0fb4c2294815a44baf1efaf",
       "version_major": 2,
       "version_minor": 0
      },
      "text/plain": [
       "  0%|          | 0/6119 [00:00<?, ?it/s]"
      ]
     },
     "metadata": {},
     "output_type": "display_data"
    },
    {
     "name": "stdout",
     "output_type": "stream",
     "text": [
      " results:\n",
      "Mean square error: 0.07421\n",
      "Mean absolute error: 0.20364\n",
      "Mean absolute error in dollars: 7021.20358\n",
      "epoch: 80\n"
     ]
    },
    {
     "data": {
      "application/vnd.jupyter.widget-view+json": {
       "model_id": "e322686026f04f27afaaac77cce8e9d7",
       "version_major": 2,
       "version_minor": 0
      },
      "text/plain": [
       "  0%|          | 0/6119 [00:00<?, ?it/s]"
      ]
     },
     "metadata": {},
     "output_type": "display_data"
    },
    {
     "name": "stdout",
     "output_type": "stream",
     "text": [
      " results:\n",
      "Mean square error: 0.07596\n",
      "Mean absolute error: 0.20667\n",
      "Mean absolute error in dollars: 7086.87699\n",
      "epoch: 81\n"
     ]
    },
    {
     "data": {
      "application/vnd.jupyter.widget-view+json": {
       "model_id": "f8a5b80a69174592a73c42b2e3b844e3",
       "version_major": 2,
       "version_minor": 0
      },
      "text/plain": [
       "  0%|          | 0/6119 [00:00<?, ?it/s]"
      ]
     },
     "metadata": {},
     "output_type": "display_data"
    },
    {
     "name": "stdout",
     "output_type": "stream",
     "text": [
      " results:\n",
      "Mean square error: 0.08239\n",
      "Mean absolute error: 0.21803\n",
      "Mean absolute error in dollars: 7373.45067\n",
      "epoch: 82\n"
     ]
    },
    {
     "data": {
      "application/vnd.jupyter.widget-view+json": {
       "model_id": "ffb15b9ee423419e8d5fce38c36380bd",
       "version_major": 2,
       "version_minor": 0
      },
      "text/plain": [
       "  0%|          | 0/6119 [00:00<?, ?it/s]"
      ]
     },
     "metadata": {},
     "output_type": "display_data"
    },
    {
     "name": "stdout",
     "output_type": "stream",
     "text": [
      " results:\n",
      "Mean square error: 0.08079\n",
      "Mean absolute error: 0.21501\n",
      "Mean absolute error in dollars: 7302.10859\n",
      "epoch: 83\n"
     ]
    },
    {
     "data": {
      "application/vnd.jupyter.widget-view+json": {
       "model_id": "f787d9ff62b04324b2aac8137d5d49ba",
       "version_major": 2,
       "version_minor": 0
      },
      "text/plain": [
       "  0%|          | 0/6119 [00:00<?, ?it/s]"
      ]
     },
     "metadata": {},
     "output_type": "display_data"
    },
    {
     "name": "stdout",
     "output_type": "stream",
     "text": [
      " results:\n",
      "Mean square error: 0.07599\n",
      "Mean absolute error: 0.20673\n",
      "Mean absolute error in dollars: 7113.25669\n",
      "epoch: 84\n"
     ]
    },
    {
     "data": {
      "application/vnd.jupyter.widget-view+json": {
       "model_id": "9ef5fbc34f8e460f91b07579a734281d",
       "version_major": 2,
       "version_minor": 0
      },
      "text/plain": [
       "  0%|          | 0/6119 [00:00<?, ?it/s]"
      ]
     },
     "metadata": {},
     "output_type": "display_data"
    },
    {
     "name": "stdout",
     "output_type": "stream",
     "text": [
      " results:\n",
      "Mean square error: 0.07948\n",
      "Mean absolute error: 0.21283\n",
      "Mean absolute error in dollars: 7269.04637\n",
      "epoch: 85\n"
     ]
    },
    {
     "data": {
      "application/vnd.jupyter.widget-view+json": {
       "model_id": "9e85bbfccb4c4bc3a0169f289e775a22",
       "version_major": 2,
       "version_minor": 0
      },
      "text/plain": [
       "  0%|          | 0/6119 [00:00<?, ?it/s]"
      ]
     },
     "metadata": {},
     "output_type": "display_data"
    },
    {
     "name": "stdout",
     "output_type": "stream",
     "text": [
      " results:\n",
      "Mean square error: 0.07970\n",
      "Mean absolute error: 0.21329\n",
      "Mean absolute error in dollars: 7239.54929\n",
      "epoch: 86\n"
     ]
    },
    {
     "data": {
      "application/vnd.jupyter.widget-view+json": {
       "model_id": "bca699278dac45d1858a268138e359c6",
       "version_major": 2,
       "version_minor": 0
      },
      "text/plain": [
       "  0%|          | 0/6119 [00:00<?, ?it/s]"
      ]
     },
     "metadata": {},
     "output_type": "display_data"
    },
    {
     "name": "stdout",
     "output_type": "stream",
     "text": [
      " results:\n",
      "Mean square error: 0.07814\n",
      "Mean absolute error: 0.21040\n",
      "Mean absolute error in dollars: 7191.17996\n",
      "epoch: 87\n"
     ]
    },
    {
     "data": {
      "application/vnd.jupyter.widget-view+json": {
       "model_id": "cb81a9ca1b0a4fd595d917e9502cd88b",
       "version_major": 2,
       "version_minor": 0
      },
      "text/plain": [
       "  0%|          | 0/6119 [00:00<?, ?it/s]"
      ]
     },
     "metadata": {},
     "output_type": "display_data"
    },
    {
     "name": "stdout",
     "output_type": "stream",
     "text": [
      " results:\n",
      "Mean square error: 0.07972\n",
      "Mean absolute error: 0.21308\n",
      "Mean absolute error in dollars: 7315.89459\n",
      "epoch: 88\n"
     ]
    },
    {
     "data": {
      "application/vnd.jupyter.widget-view+json": {
       "model_id": "38836a733936461f896735a8e1c37236",
       "version_major": 2,
       "version_minor": 0
      },
      "text/plain": [
       "  0%|          | 0/6119 [00:00<?, ?it/s]"
      ]
     },
     "metadata": {},
     "output_type": "display_data"
    },
    {
     "name": "stdout",
     "output_type": "stream",
     "text": [
      " results:\n",
      "Mean square error: 0.07880\n",
      "Mean absolute error: 0.21166\n",
      "Mean absolute error in dollars: 7229.36242\n",
      "epoch: 89\n"
     ]
    },
    {
     "data": {
      "application/vnd.jupyter.widget-view+json": {
       "model_id": "209cf08b3dad49568465f8324a40d357",
       "version_major": 2,
       "version_minor": 0
      },
      "text/plain": [
       "  0%|          | 0/6119 [00:00<?, ?it/s]"
      ]
     },
     "metadata": {},
     "output_type": "display_data"
    },
    {
     "name": "stdout",
     "output_type": "stream",
     "text": [
      " results:\n",
      "Mean square error: 0.08304\n",
      "Mean absolute error: 0.21900\n",
      "Mean absolute error in dollars: 7408.15492\n",
      "epoch: 90\n"
     ]
    },
    {
     "data": {
      "application/vnd.jupyter.widget-view+json": {
       "model_id": "33bff8bef6d047dfb80e708514902fd9",
       "version_major": 2,
       "version_minor": 0
      },
      "text/plain": [
       "  0%|          | 0/6119 [00:00<?, ?it/s]"
      ]
     },
     "metadata": {},
     "output_type": "display_data"
    },
    {
     "name": "stdout",
     "output_type": "stream",
     "text": [
      " results:\n",
      "Mean square error: 0.08002\n",
      "Mean absolute error: 0.21388\n",
      "Mean absolute error in dollars: 7267.65927\n",
      "epoch: 91\n"
     ]
    },
    {
     "data": {
      "application/vnd.jupyter.widget-view+json": {
       "model_id": "8b8eb7ce18084772aaa649e73f427093",
       "version_major": 2,
       "version_minor": 0
      },
      "text/plain": [
       "  0%|          | 0/6119 [00:00<?, ?it/s]"
      ]
     },
     "metadata": {},
     "output_type": "display_data"
    },
    {
     "name": "stdout",
     "output_type": "stream",
     "text": [
      " results:\n",
      "Mean square error: 0.07641\n",
      "Mean absolute error: 0.20735\n",
      "Mean absolute error in dollars: 7122.20942\n",
      "epoch: 92\n"
     ]
    },
    {
     "data": {
      "application/vnd.jupyter.widget-view+json": {
       "model_id": "f9a4dd14c5d641dc956251810178ad0a",
       "version_major": 2,
       "version_minor": 0
      },
      "text/plain": [
       "  0%|          | 0/6119 [00:00<?, ?it/s]"
      ]
     },
     "metadata": {},
     "output_type": "display_data"
    },
    {
     "name": "stdout",
     "output_type": "stream",
     "text": [
      " results:\n",
      "Mean square error: 0.07912\n",
      "Mean absolute error: 0.21206\n",
      "Mean absolute error in dollars: 7246.36647\n",
      "epoch: 93\n"
     ]
    },
    {
     "data": {
      "application/vnd.jupyter.widget-view+json": {
       "model_id": "602726e4d4d340e7aec70bb1b1d70fe8",
       "version_major": 2,
       "version_minor": 0
      },
      "text/plain": [
       "  0%|          | 0/6119 [00:00<?, ?it/s]"
      ]
     },
     "metadata": {},
     "output_type": "display_data"
    },
    {
     "name": "stdout",
     "output_type": "stream",
     "text": [
      " results:\n",
      "Mean square error: 0.07535\n",
      "Mean absolute error: 0.20557\n",
      "Mean absolute error in dollars: 7059.63378\n",
      "epoch: 94\n"
     ]
    },
    {
     "data": {
      "application/vnd.jupyter.widget-view+json": {
       "model_id": "398aaa4a6965490799ab8c1cd6f9cd22",
       "version_major": 2,
       "version_minor": 0
      },
      "text/plain": [
       "  0%|          | 0/6119 [00:00<?, ?it/s]"
      ]
     },
     "metadata": {},
     "output_type": "display_data"
    },
    {
     "name": "stdout",
     "output_type": "stream",
     "text": [
      " results:\n",
      "Mean square error: 0.07985\n",
      "Mean absolute error: 0.21335\n",
      "Mean absolute error in dollars: 7287.23749\n",
      "epoch: 95\n"
     ]
    },
    {
     "data": {
      "application/vnd.jupyter.widget-view+json": {
       "model_id": "8e86fb83d8bd4465bcd3063ef5dbef4b",
       "version_major": 2,
       "version_minor": 0
      },
      "text/plain": [
       "  0%|          | 0/6119 [00:00<?, ?it/s]"
      ]
     },
     "metadata": {},
     "output_type": "display_data"
    },
    {
     "name": "stdout",
     "output_type": "stream",
     "text": [
      " results:\n",
      "Mean square error: 0.07767\n",
      "Mean absolute error: 0.20956\n",
      "Mean absolute error in dollars: 7219.68803\n",
      "epoch: 96\n"
     ]
    },
    {
     "data": {
      "application/vnd.jupyter.widget-view+json": {
       "model_id": "38671563a63f4eadbfb416f70c959636",
       "version_major": 2,
       "version_minor": 0
      },
      "text/plain": [
       "  0%|          | 0/6119 [00:00<?, ?it/s]"
      ]
     },
     "metadata": {},
     "output_type": "display_data"
    },
    {
     "name": "stdout",
     "output_type": "stream",
     "text": [
      " results:\n",
      "Mean square error: 0.07842\n",
      "Mean absolute error: 0.21106\n",
      "Mean absolute error in dollars: 7186.79707\n",
      "epoch: 97\n"
     ]
    },
    {
     "data": {
      "application/vnd.jupyter.widget-view+json": {
       "model_id": "3aeb0cf6052e40f5a8f87634dc6006d3",
       "version_major": 2,
       "version_minor": 0
      },
      "text/plain": [
       "  0%|          | 0/6119 [00:00<?, ?it/s]"
      ]
     },
     "metadata": {},
     "output_type": "display_data"
    },
    {
     "name": "stdout",
     "output_type": "stream",
     "text": [
      " results:\n",
      "Mean square error: 0.07917\n",
      "Mean absolute error: 0.21226\n",
      "Mean absolute error in dollars: 7234.03620\n",
      "epoch: 98\n"
     ]
    },
    {
     "data": {
      "application/vnd.jupyter.widget-view+json": {
       "model_id": "0ba4e562e26e4fd78e2b67dc7f582658",
       "version_major": 2,
       "version_minor": 0
      },
      "text/plain": [
       "  0%|          | 0/6119 [00:00<?, ?it/s]"
      ]
     },
     "metadata": {},
     "output_type": "display_data"
    },
    {
     "name": "stdout",
     "output_type": "stream",
     "text": [
      " results:\n",
      "Mean square error: 0.07877\n",
      "Mean absolute error: 0.21154\n",
      "Mean absolute error in dollars: 7225.29722\n",
      "epoch: 99\n"
     ]
    },
    {
     "data": {
      "application/vnd.jupyter.widget-view+json": {
       "model_id": "30a5f78bd6154805a80c53d0de15b6bb",
       "version_major": 2,
       "version_minor": 0
      },
      "text/plain": [
       "  0%|          | 0/6119 [00:00<?, ?it/s]"
      ]
     },
     "metadata": {},
     "output_type": "display_data"
    },
    {
     "name": "stdout",
     "output_type": "stream",
     "text": [
      " results:\n",
      "Mean square error: 0.07613\n",
      "Mean absolute error: 0.20732\n",
      "Mean absolute error in dollars: 7073.35834\n"
     ]
    }
   ],
   "source": [
    "# let us run for yet another 100 epochs\n",
    "for epoch in range(100):\n",
    "    print(f\"epoch: {epoch}\")\n",
    "    model.train()\n",
    "    for i, batch in tqdm(enumerate(\n",
    "            iterate_minibatches(data_train, batch_size=BATCH_SIZE, device=device, word_dropout=0.4)),\n",
    "            total=len(data_train) // BATCH_SIZE\n",
    "        ):\n",
    "        optimizer.zero_grad()\n",
    "        pred = model(batch)\n",
    "        loss = criterion(pred, batch[TARGET_COLUMN])\n",
    "        loss.backward()\n",
    "        # torch.nn.utils.clip_grad_norm_(model.parameters(), max_norm=1.0) # might be reduntant\n",
    "        optimizer.step()\n",
    "        \n",
    "    print_metrics(model, data_val, device=device)\n",
    "    val_mse = get_mse(model, data_val, device=device)\n",
    "    scheduler.step(val_mse)"
   ]
  },
  {
   "cell_type": "markdown",
   "metadata": {},
   "source": [
    "### A short report\n",
    "\n",
    "Please tell us what you did and how did it work.\n",
    "\n",
    "1. **Increased the Complexity of the Architecture:** I added batch normalization layers, introduced more kernels, and implemented a two-layered convolution over the job description. Additionally, I used pretrained weights for the embedding layer. As a result, the performance dropped because training the optimization algorithm for only a few epochs was insufficient to achieve high accuracy.\n",
    "\n",
    "2. **Applied Complex Pooling Strategies:** I implemented advanced pooling methods. Combined with longer training using stochastic gradient descent (SGD), the performance improved.\n",
    "\n",
    "Additional ways to improve the performance:\n",
    "1. Apply existing tools to correct \"obvious\" typos in the dataset.\n",
    "2. Use MSE on the original label scale, not logarithmic one. It seems to me the training then focuses more on the center of the distribution while making larger errors on distributions tails."
   ]
  },
  {
   "cell_type": "markdown",
   "metadata": {},
   "source": [
    "## Recommended options\n",
    "\n",
    "#### A) CNN architecture\n",
    "\n",
    "All the tricks you know about dense and convolutional neural networks apply here as well.\n",
    "* Dropout. Nuff said.\n",
    "* Batch Norm. This time it's `nn.BatchNorm*`/`L.BatchNormalization`\n",
    "* Parallel convolution layers. The idea is that you apply several nn.Conv1d to the same embeddings and concatenate output channels.\n",
    "* More layers, more neurons, ya know...\n",
    "\n",
    "\n",
    "#### B) Play with pooling\n",
    "\n",
    "There's more than one way to perform pooling:\n",
    "* Max over time (independently for each feature)\n",
    "* Average over time (excluding PAD)\n",
    "* Softmax-pooling:\n",
    "$$ out_{i, t} = \\sum_t {h_{i,t} \\cdot {{e ^ {h_{i, t}}} \\over \\sum_\\tau e ^ {h_{j, \\tau}} } }$$\n",
    "\n",
    "* Attentive pooling\n",
    "$$ out_{i, t} = \\sum_t {h_{i,t} \\cdot Attn(h_t)}$$\n",
    "\n",
    ", where $$ Attn(h_t) = {{e ^ {NN_{attn}(h_t)}} \\over \\sum_\\tau e ^ {NN_{attn}(h_\\tau)}}  $$\n",
    "and $NN_{attn}$ is a dense layer.\n",
    "\n",
    "The optimal score is usually achieved by concatenating several different poolings, including several attentive pooling with different $NN_{attn}$ (aka multi-headed attention).\n",
    "\n",
    "The catch is that keras layers do not inlude those toys. You will have to [write your own keras layer](https://keras.io/layers/writing-your-own-keras-layers/). Or use pure tensorflow, it might even be easier :)\n",
    "\n",
    "#### C) Fun with words\n",
    "\n",
    "It's not always a good idea to train embeddings from scratch. Here's a few tricks:\n",
    "\n",
    "* Use a pre-trained embeddings from `gensim.downloader.load`. See last lecture.\n",
    "* Start with pre-trained embeddings, then fine-tune them with gradient descent. You may or may not download pre-trained embeddings from [here](http://nlp.stanford.edu/data/glove.6B.zip) and follow this [manual](https://keras.io/examples/nlp/pretrained_word_embeddings/) to initialize your Keras embedding layer with downloaded weights.\n",
    "* Use the same embedding matrix in title and desc vectorizer\n",
    "\n",
    "\n",
    "#### D) Going recurrent\n",
    "\n",
    "We've already learned that recurrent networks can do cool stuff in sequence modelling. Turns out, they're not useless for classification as well. With some tricks of course..\n",
    "\n",
    "* Like convolutional layers, LSTM should be pooled into a fixed-size vector with some of the poolings.\n",
    "* Since you know all the text in advance, use bidirectional RNN\n",
    "  * Run one LSTM from left to right\n",
    "  * Run another in parallel from right to left \n",
    "  * Concatenate their output sequences along unit axis (dim=-1)\n",
    "\n",
    "* It might be good idea to mix convolutions and recurrent layers differently for title and description\n",
    "\n",
    "\n",
    "#### E) Optimizing seriously\n",
    "\n",
    "* You don't necessarily need 100 epochs. Use early stopping. If you've never done this before, take a look at [early stopping callback(keras)](https://keras.io/callbacks/#earlystopping) or in [pytorch(lightning)](https://pytorch-lightning.readthedocs.io/en/latest/common/early_stopping.html).\n",
    "  * In short, train until you notice that validation\n",
    "  * Maintain the best-on-validation snapshot via `model.save(file_name)`\n",
    "  * Plotting learning curves is usually a good idea\n",
    "  \n",
    "Good luck! And may the force be with you!"
   ]
  },
  {
   "cell_type": "code",
   "execution_count": null,
   "metadata": {},
   "outputs": [],
   "source": []
  }
 ],
 "metadata": {
  "kernelspec": {
   "display_name": "Python 3 (ipykernel)",
   "language": "python",
   "name": "python3"
  },
  "language_info": {
   "codemirror_mode": {
    "name": "ipython",
    "version": 3
   },
   "file_extension": ".py",
   "mimetype": "text/x-python",
   "name": "python",
   "nbconvert_exporter": "python",
   "pygments_lexer": "ipython3",
   "version": "3.11.10"
  }
 },
 "nbformat": 4,
 "nbformat_minor": 2
}
